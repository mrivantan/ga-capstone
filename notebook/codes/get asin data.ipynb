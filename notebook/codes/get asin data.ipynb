{
 "cells": [
  {
   "cell_type": "code",
   "execution_count": 1,
   "metadata": {},
   "outputs": [],
   "source": [
    "from IPython.display import display, clear_output\n",
    "import time\n",
    "\n",
    "import requests\n",
    "import asyncio\n",
    "import aiohttp\n",
    "import pandas as pd\n",
    "\n",
    "import nest_asyncio\n",
    "nest_asyncio.apply()"
   ]
  },
  {
   "cell_type": "code",
   "execution_count": 2,
   "metadata": {},
   "outputs": [],
   "source": [
    "data = pd.read_csv('../datasets/cleaned/merged_by_asin.csv')['asin']"
   ]
  },
  {
   "cell_type": "code",
   "execution_count": 3,
   "metadata": {
    "scrolled": true
   },
   "outputs": [],
   "source": [
    "# data[data=='B000P7FVZC']"
   ]
  },
  {
   "cell_type": "code",
   "execution_count": 4,
   "metadata": {},
   "outputs": [],
   "source": [
    "# data[68]"
   ]
  },
  {
   "cell_type": "code",
   "execution_count": 5,
   "metadata": {},
   "outputs": [],
   "source": [
    "\n",
    "# async def fetch(client, asin):    \n",
    "#     url = f\"http://localhost:3000/asin/{asin}\"\n",
    "    \n",
    "#     async with client.get(url) as resp:\n",
    "#         assert resp.status == 200\n",
    "#         x = await resp.json()\n",
    "#         if len(x['result']) > 0 :\n",
    "#             x = x['result'][0]\n",
    "#             row = f\"{asin},{x['title']},{x['main_image']},{x['description']}\\n\"\n",
    "#             with open('../datasets/product_info/product_info_2.csv','a', encoding='utf-8') as fd:\n",
    "#                 fd.write(row)\n",
    "\n",
    "# async def main():\n",
    "#     async with aiohttp.ClientSession() as client:\n",
    "#         await asyncio.gather(*[\n",
    "#             asyncio.ensure_future(fetch(client, asin))\n",
    "#             for asin in data[:]\n",
    "#         ])"
   ]
  },
  {
   "cell_type": "code",
   "execution_count": 6,
   "metadata": {},
   "outputs": [],
   "source": [
    "# %%time\n",
    "# loop = asyncio.get_event_loop()\n",
    "# loop.run_until_complete(main())"
   ]
  },
  {
   "cell_type": "code",
   "execution_count": 7,
   "metadata": {},
   "outputs": [],
   "source": [
    "count = 0\n",
    "success = 0\n",
    "failure = 0"
   ]
  },
  {
   "cell_type": "code",
   "execution_count": null,
   "metadata": {},
   "outputs": [
    {
     "data": {
      "text/plain": [
       "'current: B00BZVPRXS'"
      ]
     },
     "metadata": {},
     "output_type": "display_data"
    },
    {
     "data": {
      "text/plain": [
       "'count: 156013'"
      ]
     },
     "metadata": {},
     "output_type": "display_data"
    },
    {
     "data": {
      "text/plain": [
       "'success: 155206'"
      ]
     },
     "metadata": {},
     "output_type": "display_data"
    },
    {
     "data": {
      "text/plain": [
       "'failure: 807'"
      ]
     },
     "metadata": {},
     "output_type": "display_data"
    }
   ],
   "source": [
    "for asin in data[:]:\n",
    "    count +=1\n",
    "    url = f\"http://localhost:3000/asin/{asin}\"\n",
    "    r = requests.get(url)\n",
    "    x = r.json()\n",
    "    if r.status_code == 200 and len(x['result']) > 0 :\n",
    "        x = x['result'][0]\n",
    "        row = f\"{asin},{x['url']},{x['title']},{x['main_image']},{x['description']}\\n\"\n",
    "        with open('../datasets/product_info/product_info_2.csv','a', encoding='utf-8') as fd:\n",
    "            fd.write(row)\n",
    "        success += 1\n",
    "    else:\n",
    "        with open('../datasets/product_info/failed.csv','a', encoding='utf-8') as fd:\n",
    "            fd.write(f\"{asin}\\n\")\n",
    "        failure += 1\n",
    "                \n",
    "    clear_output(wait=True)\n",
    "    display(f\"current: {asin}\", f\"count: {count}\", f\"success: {success}\",f\"failure: {failure}\")\n",
    "#     time.sleep(10)\n",
    "    \n"
   ]
  },
  {
   "cell_type": "code",
   "execution_count": null,
   "metadata": {},
   "outputs": [],
   "source": []
  }
 ],
 "metadata": {
  "kernelspec": {
   "display_name": "Python 3.7 (torch)",
   "language": "python",
   "name": "torch"
  },
  "language_info": {
   "codemirror_mode": {
    "name": "ipython",
    "version": 3
   },
   "file_extension": ".py",
   "mimetype": "text/x-python",
   "name": "python",
   "nbconvert_exporter": "python",
   "pygments_lexer": "ipython3",
   "version": "3.7.9"
  }
 },
 "nbformat": 4,
 "nbformat_minor": 4
}
