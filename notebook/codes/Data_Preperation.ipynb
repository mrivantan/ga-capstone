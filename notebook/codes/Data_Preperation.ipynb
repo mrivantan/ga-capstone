{
 "cells": [
  {
   "cell_type": "code",
   "execution_count": 1,
   "metadata": {},
   "outputs": [],
   "source": [
    "import pandas as pd\n",
    "import numpy as np\n",
    "from sklearn.model_selection import train_test_split\n"
   ]
  },
  {
   "cell_type": "code",
   "execution_count": 2,
   "metadata": {},
   "outputs": [],
   "source": [
    "# Import data from csv\n",
    "df = pd.read_csv('../datasets/cleaned/combined_stemmed_text_with_category_label.csv')"
   ]
  },
  {
   "cell_type": "code",
   "execution_count": 3,
   "metadata": {},
   "outputs": [],
   "source": [
    "category_list = [\n",
    "    'appliances',\n",
    "    'arts_crafts_and_sewing',\n",
    "    'automotive',\n",
    "    'baby',\n",
    "    'beauty',\n",
    "    'cell_phones_and_accessories',\n",
    "    'clothing_shoes_and_jewelry',\n",
    "    'electronics',\n",
    "    'grocery_and_gourmet_food',\n",
    "    'health_and_personal_care',\n",
    "    'home_and_kitchen',\n",
    "    'industrial_and_scientific',\n",
    "    'musical_instruments',\n",
    "    'office_products',\n",
    "    'patio_lawn_and_garden',\n",
    "    'pet_supplies',\n",
    "    'software',\n",
    "    'sports_and_outdoors',\n",
    "    'tools_and_home_improvement',\n",
    "    'toys_and_games',\n",
    "    'video_games',\n",
    "]"
   ]
  },
  {
   "cell_type": "code",
   "execution_count": 4,
   "metadata": {},
   "outputs": [],
   "source": [
    "df.drop(columns=['category', 'text'], inplace=True)\n",
    "df.dropna(inplace=True)"
   ]
  },
  {
   "cell_type": "code",
   "execution_count": 38,
   "metadata": {},
   "outputs": [
    {
     "data": {
      "text/plain": [
       "0       8868\n",
       "1      20750\n",
       "2      87773\n",
       "3      25504\n",
       "4      36198\n",
       "5      78430\n",
       "6       8409\n",
       "7     297727\n",
       "8      18650\n",
       "9      73203\n",
       "10    170924\n",
       "11     11577\n",
       "12     22932\n",
       "13     42467\n",
       "14     58411\n",
       "15     33596\n",
       "16      8067\n",
       "17    109055\n",
       "18     98713\n",
       "19     50573\n",
       "20      9131\n",
       "Name: label, dtype: int64"
      ]
     },
     "execution_count": 38,
     "metadata": {},
     "output_type": "execute_result"
    }
   ],
   "source": [
    "df['label'].value_counts(sort=False, normalize=False)"
   ]
  },
  {
   "cell_type": "code",
   "execution_count": 32,
   "metadata": {},
   "outputs": [],
   "source": [
    "def balanced_sample(data, n, random_state=42):\n",
    "    count = data['label'].value_counts(sort=False, normalize=False)\n",
    "    samples= pd.DataFrame()\n",
    "    for i in range(len(count)):\n",
    "        if count[i] > n:\n",
    "            sample = data.groupby('label').get_group(i).sample(\n",
    "                n=n,\n",
    "                random_state=random_state,\n",
    "                replace=False,\n",
    "            )\n",
    "            samples = samples.append(sample)\n",
    "            print(f\"sampled {sample.shape[0]} items from group {i}\")\n",
    "        else:\n",
    "            sample = df.groupby('label').get_group(i)\n",
    "            samples = samples.append(sample)\n",
    "            print(f\"add all {sample.shape[0]} items from group {i}\")\n",
    "    print(f\"total sample size: {samples.shape[0]}\")\n",
    "    return samples"
   ]
  },
  {
   "cell_type": "code",
   "execution_count": 37,
   "metadata": {},
   "outputs": [
    {
     "name": "stdout",
     "output_type": "stream",
     "text": [
      "sampled 8067 items from group 0\n",
      "sampled 8067 items from group 1\n",
      "sampled 8067 items from group 2\n",
      "sampled 8067 items from group 3\n",
      "sampled 8067 items from group 4\n",
      "sampled 8067 items from group 5\n",
      "sampled 8067 items from group 6\n",
      "sampled 8067 items from group 7\n",
      "sampled 8067 items from group 8\n",
      "sampled 8067 items from group 9\n",
      "sampled 8067 items from group 10\n",
      "sampled 8067 items from group 11\n",
      "sampled 8067 items from group 12\n",
      "sampled 8067 items from group 13\n",
      "sampled 8067 items from group 14\n",
      "sampled 8067 items from group 15\n",
      "add all 8067 items from group 16\n",
      "sampled 8067 items from group 17\n",
      "sampled 8067 items from group 18\n",
      "sampled 8067 items from group 19\n",
      "sampled 8067 items from group 20\n",
      "total sample size: 169407\n"
     ]
    }
   ],
   "source": [
    "smallest_size = df['label'].value_counts().values.min()\n",
    "downsampled_df = balanced_sample(df, smallest_size)"
   ]
  },
  {
   "cell_type": "code",
   "execution_count": 39,
   "metadata": {},
   "outputs": [
    {
     "data": {
      "text/html": [
       "<div>\n",
       "<style scoped>\n",
       "    .dataframe tbody tr th:only-of-type {\n",
       "        vertical-align: middle;\n",
       "    }\n",
       "\n",
       "    .dataframe tbody tr th {\n",
       "        vertical-align: top;\n",
       "    }\n",
       "\n",
       "    .dataframe thead th {\n",
       "        text-align: right;\n",
       "    }\n",
       "</style>\n",
       "<table border=\"1\" class=\"dataframe\">\n",
       "  <thead>\n",
       "    <tr style=\"text-align: right;\">\n",
       "      <th></th>\n",
       "      <th>label</th>\n",
       "      <th>stem_text</th>\n",
       "      <th>lemm_text</th>\n",
       "    </tr>\n",
       "  </thead>\n",
       "  <tbody>\n",
       "    <tr>\n",
       "      <th>2319</th>\n",
       "      <td>0</td>\n",
       "      <td>come strainer washer strainer rubber washer in...</td>\n",
       "      <td>come strainer washer strainer rubber washer in...</td>\n",
       "    </tr>\n",
       "    <tr>\n",
       "      <th>6486</th>\n",
       "      <td>0</td>\n",
       "      <td>part work frigidair washer model fccw fs hello...</td>\n",
       "      <td>part work frigidaire washer model fccw f hello...</td>\n",
       "    </tr>\n",
       "    <tr>\n",
       "      <th>1937</th>\n",
       "      <td>0</td>\n",
       "      <td>fit kenmor pro seri refriger question ask manu...</td>\n",
       "      <td>fit kenmore pro series refrigerator question a...</td>\n",
       "    </tr>\n",
       "    <tr>\n",
       "      <th>4896</th>\n",
       "      <td>0</td>\n",
       "      <td>actual genuin whirlpool part know mani thing l...</td>\n",
       "      <td>actually genuine whirlpool part know many thin...</td>\n",
       "    </tr>\n",
       "    <tr>\n",
       "      <th>222</th>\n",
       "      <td>0</td>\n",
       "      <td>pack filter total filter total filter two filt...</td>\n",
       "      <td>pack filter total filter total filter two filt...</td>\n",
       "    </tr>\n",
       "    <tr>\n",
       "      <th>...</th>\n",
       "      <td>...</td>\n",
       "      <td>...</td>\n",
       "      <td>...</td>\n",
       "    </tr>\n",
       "    <tr>\n",
       "      <th>1265068</th>\n",
       "      <td>20</td>\n",
       "      <td>charger support v</td>\n",
       "      <td>charger support v</td>\n",
       "    </tr>\n",
       "    <tr>\n",
       "      <th>1266444</th>\n",
       "      <td>20</td>\n",
       "      <td>includ usb cabl must state box mine</td>\n",
       "      <td>include usb cable must state box mine</td>\n",
       "    </tr>\n",
       "    <tr>\n",
       "      <th>1266680</th>\n",
       "      <td>20</td>\n",
       "      <td>come digit code make game work origin instruct...</td>\n",
       "      <td>come digit code make game work original instru...</td>\n",
       "    </tr>\n",
       "    <tr>\n",
       "      <th>1270704</th>\n",
       "      <td>20</td>\n",
       "      <td>im gonna get friend work xbox there like usb s...</td>\n",
       "      <td>im gonna get friend work xbox there like usb s...</td>\n",
       "    </tr>\n",
       "    <tr>\n",
       "      <th>1269044</th>\n",
       "      <td>20</td>\n",
       "      <td>steam game game add steam actual steam game st...</td>\n",
       "      <td>steam game game add steam actual steam game st...</td>\n",
       "    </tr>\n",
       "  </tbody>\n",
       "</table>\n",
       "<p>169407 rows × 3 columns</p>\n",
       "</div>"
      ],
      "text/plain": [
       "         label                                          stem_text  \\\n",
       "2319         0  come strainer washer strainer rubber washer in...   \n",
       "6486         0  part work frigidair washer model fccw fs hello...   \n",
       "1937         0  fit kenmor pro seri refriger question ask manu...   \n",
       "4896         0  actual genuin whirlpool part know mani thing l...   \n",
       "222          0  pack filter total filter total filter two filt...   \n",
       "...        ...                                                ...   \n",
       "1265068     20                                  charger support v   \n",
       "1266444     20                includ usb cabl must state box mine   \n",
       "1266680     20  come digit code make game work origin instruct...   \n",
       "1270704     20  im gonna get friend work xbox there like usb s...   \n",
       "1269044     20  steam game game add steam actual steam game st...   \n",
       "\n",
       "                                                 lemm_text  \n",
       "2319     come strainer washer strainer rubber washer in...  \n",
       "6486     part work frigidaire washer model fccw f hello...  \n",
       "1937     fit kenmore pro series refrigerator question a...  \n",
       "4896     actually genuine whirlpool part know many thin...  \n",
       "222      pack filter total filter total filter two filt...  \n",
       "...                                                    ...  \n",
       "1265068                                  charger support v  \n",
       "1266444              include usb cable must state box mine  \n",
       "1266680  come digit code make game work original instru...  \n",
       "1270704  im gonna get friend work xbox there like usb s...  \n",
       "1269044  steam game game add steam actual steam game st...  \n",
       "\n",
       "[169407 rows x 3 columns]"
      ]
     },
     "execution_count": 39,
     "metadata": {},
     "output_type": "execute_result"
    }
   ],
   "source": [
    "downsampled_df"
   ]
  },
  {
   "cell_type": "code",
   "execution_count": 40,
   "metadata": {},
   "outputs": [
    {
     "data": {
      "text/plain": [
       "label         int32\n",
       "stem_text    object\n",
       "lemm_text    object\n",
       "dtype: object"
      ]
     },
     "execution_count": 40,
     "metadata": {},
     "output_type": "execute_result"
    }
   ],
   "source": [
    "downsampled_df['label'] = downsampled_df['label'].astype(int)\n",
    "downsampled_df.dtypes"
   ]
  },
  {
   "cell_type": "code",
   "execution_count": 44,
   "metadata": {},
   "outputs": [
    {
     "name": "stdout",
     "output_type": "stream",
     "text": [
      "sampled 250 items from group 0\n",
      "sampled 250 items from group 1\n",
      "sampled 250 items from group 2\n",
      "sampled 250 items from group 3\n",
      "sampled 250 items from group 4\n",
      "sampled 250 items from group 5\n",
      "sampled 250 items from group 6\n",
      "sampled 250 items from group 7\n",
      "sampled 250 items from group 8\n",
      "sampled 250 items from group 9\n",
      "sampled 250 items from group 10\n",
      "sampled 250 items from group 11\n",
      "sampled 250 items from group 12\n",
      "sampled 250 items from group 13\n",
      "sampled 250 items from group 14\n",
      "sampled 250 items from group 15\n",
      "sampled 250 items from group 16\n",
      "sampled 250 items from group 17\n",
      "sampled 250 items from group 18\n",
      "sampled 250 items from group 19\n",
      "sampled 250 items from group 20\n",
      "total sample size: 5250\n"
     ]
    }
   ],
   "source": [
    "small_sample_df = balanced_sample(downsampled_df, 250)"
   ]
  },
  {
   "cell_type": "code",
   "execution_count": 45,
   "metadata": {},
   "outputs": [
    {
     "data": {
      "text/html": [
       "<div>\n",
       "<style scoped>\n",
       "    .dataframe tbody tr th:only-of-type {\n",
       "        vertical-align: middle;\n",
       "    }\n",
       "\n",
       "    .dataframe tbody tr th {\n",
       "        vertical-align: top;\n",
       "    }\n",
       "\n",
       "    .dataframe thead th {\n",
       "        text-align: right;\n",
       "    }\n",
       "</style>\n",
       "<table border=\"1\" class=\"dataframe\">\n",
       "  <thead>\n",
       "    <tr style=\"text-align: right;\">\n",
       "      <th></th>\n",
       "      <th>label</th>\n",
       "      <th>stem_text</th>\n",
       "      <th>lemm_text</th>\n",
       "    </tr>\n",
       "  </thead>\n",
       "  <tbody>\n",
       "    <tr>\n",
       "      <th>5883</th>\n",
       "      <td>0</td>\n",
       "      <td>work ceil come stainless sleev top adjust may ...</td>\n",
       "      <td>work ceiling come stainless sleeve top adjust ...</td>\n",
       "    </tr>\n",
       "    <tr>\n",
       "      <th>188</th>\n",
       "      <td>0</td>\n",
       "      <td>much clearenc need leav stovetop mine like sto...</td>\n",
       "      <td>much clearence need leave stovetop mine like s...</td>\n",
       "    </tr>\n",
       "    <tr>\n",
       "      <th>1454</th>\n",
       "      <td>0</td>\n",
       "      <td>would yoy chang filter look like get product f...</td>\n",
       "      <td>would yoy change filter look like get product ...</td>\n",
       "    </tr>\n",
       "    <tr>\n",
       "      <th>6929</th>\n",
       "      <td>0</td>\n",
       "      <td>come differ color facepl ye sold separ</td>\n",
       "      <td>come different color faceplate yes sold separa...</td>\n",
       "    </tr>\n",
       "    <tr>\n",
       "      <th>5193</th>\n",
       "      <td>0</td>\n",
       "      <td>work ghw pl work ghw lw abl cross refer take b...</td>\n",
       "      <td>work ghw pl worked ghw lw able cross reference...</td>\n",
       "    </tr>\n",
       "    <tr>\n",
       "      <th>...</th>\n",
       "      <td>...</td>\n",
       "      <td>...</td>\n",
       "      <td>...</td>\n",
       "    </tr>\n",
       "    <tr>\n",
       "      <th>1263293</th>\n",
       "      <td>20</td>\n",
       "      <td>risk charg batteri shorten lifespan charger st...</td>\n",
       "      <td>risk charging battery shortening lifespan char...</td>\n",
       "    </tr>\n",
       "    <tr>\n",
       "      <th>1263043</th>\n",
       "      <td>20</td>\n",
       "      <td>control need play game control come game conso...</td>\n",
       "      <td>controller need play game control come game co...</td>\n",
       "    </tr>\n",
       "    <tr>\n",
       "      <th>1268373</th>\n",
       "      <td>20</td>\n",
       "      <td>dream world cheesey got moment fun</td>\n",
       "      <td>dream world cheesey got moment fun</td>\n",
       "    </tr>\n",
       "    <tr>\n",
       "      <th>1268352</th>\n",
       "      <td>20</td>\n",
       "      <td>mani player play time one system four peopl pl...</td>\n",
       "      <td>many player play time one system four people p...</td>\n",
       "    </tr>\n",
       "    <tr>\n",
       "      <th>1267182</th>\n",
       "      <td>20</td>\n",
       "      <td>work new ds xl frankli add noth new ds two ext...</td>\n",
       "      <td>work new d xl frankly add nothing new d two ex...</td>\n",
       "    </tr>\n",
       "  </tbody>\n",
       "</table>\n",
       "<p>5250 rows × 3 columns</p>\n",
       "</div>"
      ],
      "text/plain": [
       "         label                                          stem_text  \\\n",
       "5883         0  work ceil come stainless sleev top adjust may ...   \n",
       "188          0  much clearenc need leav stovetop mine like sto...   \n",
       "1454         0  would yoy chang filter look like get product f...   \n",
       "6929         0             come differ color facepl ye sold separ   \n",
       "5193         0  work ghw pl work ghw lw abl cross refer take b...   \n",
       "...        ...                                                ...   \n",
       "1263293     20  risk charg batteri shorten lifespan charger st...   \n",
       "1263043     20  control need play game control come game conso...   \n",
       "1268373     20                 dream world cheesey got moment fun   \n",
       "1268352     20  mani player play time one system four peopl pl...   \n",
       "1267182     20  work new ds xl frankli add noth new ds two ext...   \n",
       "\n",
       "                                                 lemm_text  \n",
       "5883     work ceiling come stainless sleeve top adjust ...  \n",
       "188      much clearence need leave stovetop mine like s...  \n",
       "1454     would yoy change filter look like get product ...  \n",
       "6929     come different color faceplate yes sold separa...  \n",
       "5193     work ghw pl worked ghw lw able cross reference...  \n",
       "...                                                    ...  \n",
       "1263293  risk charging battery shortening lifespan char...  \n",
       "1263043  controller need play game control come game co...  \n",
       "1268373                 dream world cheesey got moment fun  \n",
       "1268352  many player play time one system four people p...  \n",
       "1267182  work new d xl frankly add nothing new d two ex...  \n",
       "\n",
       "[5250 rows x 3 columns]"
      ]
     },
     "execution_count": 45,
     "metadata": {},
     "output_type": "execute_result"
    }
   ],
   "source": [
    "small_sample_df"
   ]
  },
  {
   "cell_type": "code",
   "execution_count": 46,
   "metadata": {},
   "outputs": [
    {
     "data": {
      "text/plain": [
       "label         int32\n",
       "stem_text    object\n",
       "lemm_text    object\n",
       "dtype: object"
      ]
     },
     "execution_count": 46,
     "metadata": {},
     "output_type": "execute_result"
    }
   ],
   "source": [
    "small_sample_df.dtypes"
   ]
  },
  {
   "cell_type": "code",
   "execution_count": 47,
   "metadata": {},
   "outputs": [
    {
     "data": {
      "text/plain": [
       "20    0.047619\n",
       "9     0.047619\n",
       "1     0.047619\n",
       "2     0.047619\n",
       "3     0.047619\n",
       "4     0.047619\n",
       "5     0.047619\n",
       "6     0.047619\n",
       "7     0.047619\n",
       "8     0.047619\n",
       "10    0.047619\n",
       "19    0.047619\n",
       "11    0.047619\n",
       "12    0.047619\n",
       "13    0.047619\n",
       "14    0.047619\n",
       "15    0.047619\n",
       "16    0.047619\n",
       "17    0.047619\n",
       "18    0.047619\n",
       "0     0.047619\n",
       "Name: label, dtype: float64"
      ]
     },
     "execution_count": 47,
     "metadata": {},
     "output_type": "execute_result"
    }
   ],
   "source": [
    "downsampled_df.label.value_counts(normalize=True)"
   ]
  },
  {
   "cell_type": "code",
   "execution_count": 48,
   "metadata": {},
   "outputs": [
    {
     "data": {
      "text/plain": [
       "19    0.047619\n",
       "13    0.047619\n",
       "4     0.047619\n",
       "8     0.047619\n",
       "12    0.047619\n",
       "16    0.047619\n",
       "20    0.047619\n",
       "1     0.047619\n",
       "5     0.047619\n",
       "9     0.047619\n",
       "17    0.047619\n",
       "15    0.047619\n",
       "2     0.047619\n",
       "6     0.047619\n",
       "10    0.047619\n",
       "14    0.047619\n",
       "18    0.047619\n",
       "3     0.047619\n",
       "7     0.047619\n",
       "11    0.047619\n",
       "0     0.047619\n",
       "Name: label, dtype: float64"
      ]
     },
     "execution_count": 48,
     "metadata": {},
     "output_type": "execute_result"
    }
   ],
   "source": [
    "small_sample_df.label.value_counts(normalize=True)"
   ]
  },
  {
   "cell_type": "code",
   "execution_count": 51,
   "metadata": {},
   "outputs": [],
   "source": [
    "downsampled_df.to_csv('../datasets/sampled/downsample_full.csv', index=False)"
   ]
  },
  {
   "cell_type": "code",
   "execution_count": 52,
   "metadata": {},
   "outputs": [],
   "source": [
    "small_sample_df.to_csv('../datasets/sampled/downsample_small.csv', index=False)"
   ]
  },
  {
   "cell_type": "code",
   "execution_count": null,
   "metadata": {},
   "outputs": [],
   "source": []
  }
 ],
 "metadata": {
  "kernelspec": {
   "display_name": "Python 3.7 (torch)",
   "language": "python",
   "name": "torch"
  },
  "language_info": {
   "codemirror_mode": {
    "name": "ipython",
    "version": 3
   },
   "file_extension": ".py",
   "mimetype": "text/x-python",
   "name": "python",
   "nbconvert_exporter": "python",
   "pygments_lexer": "ipython3",
   "version": "3.7.9"
  }
 },
 "nbformat": 4,
 "nbformat_minor": 4
}
