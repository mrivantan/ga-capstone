{
 "cells": [
  {
   "cell_type": "markdown",
   "metadata": {},
   "source": [
    "This attempt will be using only non nn classifiers"
   ]
  },
  {
   "cell_type": "code",
   "execution_count": 17,
   "metadata": {},
   "outputs": [],
   "source": [
    "import numpy as np\n",
    "import pandas as pd\n",
    "\n",
    "from sklearn.pipeline import Pipeline\n",
    "\n",
    "from sklearn.feature_extraction import text\n",
    "from sklearn.feature_extraction.text import TfidfVectorizer\n",
    "\n",
    "from sklearn.multiclass import OneVsRestClassifier\n",
    "\n",
    "from sklearn.linear_model import LogisticRegression\n",
    "\n",
    "from sklearn import metrics"
   ]
  },
  {
   "cell_type": "code",
   "execution_count": 2,
   "metadata": {},
   "outputs": [],
   "source": [
    "df = pd.read_csv('../datasets/cleaned/combined_text.csv')"
   ]
  },
  {
   "cell_type": "code",
   "execution_count": 3,
   "metadata": {},
   "outputs": [
    {
     "data": {
      "text/html": [
       "<div>\n",
       "<style scoped>\n",
       "    .dataframe tbody tr th:only-of-type {\n",
       "        vertical-align: middle;\n",
       "    }\n",
       "\n",
       "    .dataframe tbody tr th {\n",
       "        vertical-align: top;\n",
       "    }\n",
       "\n",
       "    .dataframe thead th {\n",
       "        text-align: right;\n",
       "    }\n",
       "</style>\n",
       "<table border=\"1\" class=\"dataframe\">\n",
       "  <thead>\n",
       "    <tr style=\"text-align: right;\">\n",
       "      <th></th>\n",
       "      <th>combined_text</th>\n",
       "      <th>category</th>\n",
       "      <th>asin</th>\n",
       "    </tr>\n",
       "  </thead>\n",
       "  <tbody>\n",
       "    <tr>\n",
       "      <th>0</th>\n",
       "      <td>I have a 9 year old Badger 1 that needs replac...</td>\n",
       "      <td>appliances</td>\n",
       "      <td>B00004U9JP</td>\n",
       "    </tr>\n",
       "    <tr>\n",
       "      <th>1</th>\n",
       "      <td>model number This may help InSinkErator Model ...</td>\n",
       "      <td>appliances</td>\n",
       "      <td>B00004U9JP</td>\n",
       "    </tr>\n",
       "    <tr>\n",
       "      <th>2</th>\n",
       "      <td>can I replace Badger 1 1/3 with a Badger 5 1/2...</td>\n",
       "      <td>appliances</td>\n",
       "      <td>B00004U9JP</td>\n",
       "    </tr>\n",
       "    <tr>\n",
       "      <th>3</th>\n",
       "      <td>Does this come with power cord and dishwasher ...</td>\n",
       "      <td>appliances</td>\n",
       "      <td>B00004U9JP</td>\n",
       "    </tr>\n",
       "    <tr>\n",
       "      <th>4</th>\n",
       "      <td>loud noise inside when turned on. sounds like ...</td>\n",
       "      <td>appliances</td>\n",
       "      <td>B00004U9JP</td>\n",
       "    </tr>\n",
       "  </tbody>\n",
       "</table>\n",
       "</div>"
      ],
      "text/plain": [
       "                                       combined_text    category        asin\n",
       "0  I have a 9 year old Badger 1 that needs replac...  appliances  B00004U9JP\n",
       "1  model number This may help InSinkErator Model ...  appliances  B00004U9JP\n",
       "2  can I replace Badger 1 1/3 with a Badger 5 1/2...  appliances  B00004U9JP\n",
       "3  Does this come with power cord and dishwasher ...  appliances  B00004U9JP\n",
       "4  loud noise inside when turned on. sounds like ...  appliances  B00004U9JP"
      ]
     },
     "execution_count": 3,
     "metadata": {},
     "output_type": "execute_result"
    }
   ],
   "source": [
    "df.head()"
   ]
  },
  {
   "cell_type": "code",
   "execution_count": 7,
   "metadata": {},
   "outputs": [
    {
     "name": "stdout",
     "output_type": "stream",
     "text": [
      "{'appliances': 0, 'arts_crafts_and_sewing': 1, 'automotive': 2, 'baby': 3, 'beauty': 4, 'cell_phones_and_accessories': 5, 'clothing_shoes_and_jewelry': 6, 'electronics': 7, 'grocery_and_gourmet_food': 8, 'health_and_personal_care': 9, 'home_and_kitchen': 10, 'industrial_and_scientific': 11, 'musical_instruments': 12, 'office_products': 13, 'patio_lawn_and_garden': 14, 'pet_supplies': 15, 'software': 16, 'sports_and_outdoors': 17, 'tools_and_home_improvement': 18, 'toys_and_games': 19, 'video_games': 20}\n"
     ]
    }
   ],
   "source": [
    "category_list = list(df.category.unique())\n",
    "category_dict = { x:category_list.index(x) for x in category_list}\n",
    "print(category_dict)"
   ]
  },
  {
   "cell_type": "code",
   "execution_count": 8,
   "metadata": {},
   "outputs": [
    {
     "data": {
      "text/html": [
       "<div>\n",
       "<style scoped>\n",
       "    .dataframe tbody tr th:only-of-type {\n",
       "        vertical-align: middle;\n",
       "    }\n",
       "\n",
       "    .dataframe tbody tr th {\n",
       "        vertical-align: top;\n",
       "    }\n",
       "\n",
       "    .dataframe thead th {\n",
       "        text-align: right;\n",
       "    }\n",
       "</style>\n",
       "<table border=\"1\" class=\"dataframe\">\n",
       "  <thead>\n",
       "    <tr style=\"text-align: right;\">\n",
       "      <th></th>\n",
       "      <th>combined_text</th>\n",
       "      <th>category</th>\n",
       "      <th>asin</th>\n",
       "    </tr>\n",
       "  </thead>\n",
       "  <tbody>\n",
       "    <tr>\n",
       "      <th>0</th>\n",
       "      <td>I have a 9 year old Badger 1 that needs replac...</td>\n",
       "      <td>0</td>\n",
       "      <td>B00004U9JP</td>\n",
       "    </tr>\n",
       "    <tr>\n",
       "      <th>1</th>\n",
       "      <td>model number This may help InSinkErator Model ...</td>\n",
       "      <td>0</td>\n",
       "      <td>B00004U9JP</td>\n",
       "    </tr>\n",
       "    <tr>\n",
       "      <th>2</th>\n",
       "      <td>can I replace Badger 1 1/3 with a Badger 5 1/2...</td>\n",
       "      <td>0</td>\n",
       "      <td>B00004U9JP</td>\n",
       "    </tr>\n",
       "    <tr>\n",
       "      <th>3</th>\n",
       "      <td>Does this come with power cord and dishwasher ...</td>\n",
       "      <td>0</td>\n",
       "      <td>B00004U9JP</td>\n",
       "    </tr>\n",
       "    <tr>\n",
       "      <th>4</th>\n",
       "      <td>loud noise inside when turned on. sounds like ...</td>\n",
       "      <td>0</td>\n",
       "      <td>B00004U9JP</td>\n",
       "    </tr>\n",
       "  </tbody>\n",
       "</table>\n",
       "</div>"
      ],
      "text/plain": [
       "                                       combined_text  category        asin\n",
       "0  I have a 9 year old Badger 1 that needs replac...         0  B00004U9JP\n",
       "1  model number This may help InSinkErator Model ...         0  B00004U9JP\n",
       "2  can I replace Badger 1 1/3 with a Badger 5 1/2...         0  B00004U9JP\n",
       "3  Does this come with power cord and dishwasher ...         0  B00004U9JP\n",
       "4  loud noise inside when turned on. sounds like ...         0  B00004U9JP"
      ]
     },
     "execution_count": 8,
     "metadata": {},
     "output_type": "execute_result"
    }
   ],
   "source": [
    "df.replace({'category':category_dict}, inplace=True)\n",
    "df.head()"
   ]
  },
  {
   "cell_type": "code",
   "execution_count": 27,
   "metadata": {
    "scrolled": true
   },
   "outputs": [],
   "source": [
    "my_stop_words = []#extra words. todo: create a text file to load from\n",
    "stop_words = text.ENGLISH_STOP_WORDS.union(my_stop_words)\n",
    "\n",
    "vectorizer = TfidfVectorizer(\n",
    "    ngram_range=(1,1), \n",
    "    stop_words=stop_words,\n",
    "    analyzer='word',\n",
    "    token_pattern=r'[a-zA-Z]+',\n",
    ")\n",
    "\n",
    "X = vectorizer.fit_transform(df['combined_text'])\n",
    "y = df['category']"
   ]
  },
  {
   "cell_type": "code",
   "execution_count": 34,
   "metadata": {},
   "outputs": [
    {
     "name": "stdout",
     "output_type": "stream",
     "text": [
      "Wall time: 25min 33s\n"
     ]
    }
   ],
   "source": [
    "%%time\n",
    "lr = LogisticRegression(multi_class='ovr',max_iter=300,n_jobs=-1)\n",
    "clf = OneVsRestClassifier(lr).fit(X, y)"
   ]
  },
  {
   "cell_type": "code",
   "execution_count": 35,
   "metadata": {},
   "outputs": [],
   "source": [
    "y_hat = clf.predict(X)"
   ]
  },
  {
   "cell_type": "code",
   "execution_count": 36,
   "metadata": {},
   "outputs": [
    {
     "data": {
      "text/plain": [
       "0.6935751481051644"
      ]
     },
     "execution_count": 36,
     "metadata": {},
     "output_type": "execute_result"
    }
   ],
   "source": [
    "metrics.accuracy_score(y, y_hat)"
   ]
  },
  {
   "cell_type": "code",
   "execution_count": 37,
   "metadata": {
    "scrolled": false
   },
   "outputs": [
    {
     "name": "stdout",
     "output_type": "stream",
     "text": [
      "===Category: appliances===\n",
      "-Top-\n",
      "['whirlpool', 'maytag', 'kenmore', 'ge', 'frigidaire', 'washer', 'jenn', 'amana', 'hood', 'chimney', 'refrigerator', 'fridge', 'keg', 'ice', 'dryer', 'model', 'cooktop', 'broan', 'kegs', 'hotpoint', 'element', 'ductless', 'roper', 'range', 'duct', 'humidifier', 'lg', 'kitchenaid', 'vent', 'freezer', 'burners', 'ducted', 'knobs', 'stove', 'filter', 'disposal', 'cycle', 'bosch', 'clothes', 'insinkerator']\n",
      "-Bottom-\n",
      "['phone', 'camera', 'lens', 'case', 'safe?', 'seat', 'battery', 'car', 'hair', 'bed', 'charger', 'coffee', 'galaxy', 'bottle', 'safe', 'windows', 'microwave', 'bike', 'table', 'cable', 'card', 'drive', 'laptop', 'pool', 'speakers', 'mattress', 'chair', 'bowl', 'iphone', 'play', 'computer', 'wear', 'vacuum', 'keyboard', 'speaker', 'cream', 'honda', 'washed', 'oil', 'bar']\n",
      "\n",
      "===Category: arts_crafts_and_sewing===\n",
      "-Top-\n",
      "['singer', 'janome', 'brother', 'bernina', 'bobbin', 'yarn', 'airbrush', 'mannequin', 'easel', 'bobbins', 'juki', 'sewing', 'serger', 'sizzix', 'cricut', 'stitch', 'yards', 'machine', 'paints', 'silhouette', 'sew', 'needles', 'embossing', 'punch', 'kiln', 'beads', 'quilting', 'needle', 'yard', 'embroidery', 'babylock', 'clay', 'pfaff', 'presser', 'viking', 'cuttlebug', 'stitches', 'craft', 'thread', 'fabric']\n",
      "-Bottom-\n",
      "['phone', 'camera', 'mattress', 'hair', 'bed', 'battery', 'bike', 'mount', 'pump', 'unit', 'tv', 'lens', 'remote', 'seat', 'filter', 'charger', 'game', 'sound', 'monitor', 'fan', 'capacity', 'speakers', 'music', 'cable', 'coffee', 'screen', 'install', 'sony', 'gas', 'drive', 'galaxy', 'pan', 'grill', 'comforter', 'device', 'keyboard', 'filters', 'rear', 'tire', 'speaker']\n",
      "\n",
      "===Category: automotive===\n",
      "-Top-\n",
      "['wiper', 'bwt', 'headlights', 'dorman', 'headlight', 'strut', 'dometic', 'passenger', 'shocks', 'muffler', 'k&n', 'tailgate', 'coolant', 'mats', 'emblem', 'mirrors', '2014', 'harley', 'transmission', 'radiator', '2015', 'hid', 'meguiar', 'dealer', 'thetford', 'windshield', 'optima', 'tpms', 'agm', 'suzuki', '2003', 'bmw', 'curt', 'obd', 'sena', 'dealership', 'vehicle', 'tach', 'lug', 'sportster']\n",
      "-Bottom-\n",
      "['speakers', 'din', 'camera', 'keyboard', 'crutchfield', 'canon', 'stroller', 'tv', 'phone', 'metra', 'baby', 'macbook', 'sony', 'speaker', 'nikon', 'samsung', 'stereo', 'screen', 'ipod', 'ipad', 'expiration', 'radio', 'audio', 'card', 'tablet', 'pool', 'hair', 'table', 'hdmi', 'headphone', 'headphones', 'ceiling', 'holster', 'game', 'mattress', 'usb', 'infant', 'shelves', 'scope', 'queen']\n",
      "\n",
      "===Category: baby===\n",
      "-Top-\n",
      "['crib', 'bassinet', 'britax', 'baby', 'stroller', 'medela', 'graco', 'crib?', 'gate', 'carseat', 'infant', 'stroller?', 'changing', 'avent', 'nipples', 'banister', 'chicco', 'diapers', 'nipple', 'bugaboo', 'parent', 'ergo', 'newborn', 'uppababy', 'babies', 'playtex', 'diaper', 'breast', 'potty', 'strollers', 'sippy', 'toddler', 'maclaren', 'prefolds', 'bassinet?', 'gate?', 'nuk', 'evenflo', 'wipes', 'sterilizer']\n",
      "-Bottom-\n",
      "['doll', 'phone', 'lens', 'pet', 'usb', 'filter', 'keyboard', 'hair', 'laptop', 'dog', 'computer', 'game', 'oil', 'ipad', 'cable', 'speakers', 'christmas', 'case', 'fan', 'canon', 'desk', 'dolls', 'hose', 'headphones', 'tank', 'tea', 'sony', 'card', 'charger', 'swim', 'ingredients', 'radio', 'truck', 'grill', 'spray', 'bucket', 'gun', 'bike', 'drive', 'dogs']\n",
      "\n",
      "===Category: beauty===\n",
      "-Top-\n",
      "['wig', 'perfume', 'hair', 'makeup', 'clarisonic', 'beauty', 'opi', 'shea', 'tanning', 'blonde', 'argan', 'serum', 'lashes', 'salon', 'curler', 'dryer', 'sunscreen', 'foundation', 'mia', 'hairdryer', 'moisturizer', 'mascara', 'shampoo', 'skin', 'hair?', 'conair', 'acne', 'mirror', 'nail', 'wig?', 'revlon', 'lotion', 'curlers', 'henna', 'curl', 'pores', 'styling', 'cologne', 'rollers', 'nails']\n",
      "-Bottom-\n",
      "['camera', 'phone', 'dog', 'car', 'fit', 'mattress', 'lens', 'tv', 'screen', 'doll', 'windows', 'remote', 'paint', 'play', 'laptop', 'computer', 'drive', 'support', 'cat', 'installed', 'ipad', 'keyboard', 'compatible', 'cable', 'iphone', 'pet', 'headphones', 'dogs', 'game', 'samsung', 'install', 'usb', 'canon', 'monitor', 'cats', 'tablet', 'dish', 'battery', 'door', 'board']\n",
      "\n",
      "===Category: cell_phones_and_accessories===\n",
      "-Top-\n",
      "['phone', 'tracfone', 'xperia', 'sim', 'sgh', 'nfc', 'htc', 'tmobile', 'phone?', 'digitizer', 'spigen', 'whatsapp', 'net10', 'moto', 'blu', 'dashboard', 'qi', 'venezuela', 'metro', 'unlocked', 'zte', 'lg', 'case', 'huawei', 'movistar', 'nokia', 'texting', 'sim?', 'rnd', 'jabra', 'motorola', 'cases', 'wilson', 'pantech', 'venezuela?', 'alcatel', 'mophie', 'sch', 'mobile?', 'optimus']\n",
      "-Bottom-\n",
      "['machine', 'canon', 'bottle', 'filter', 'nikon', 'ray', 'seat', 'chair', 'wheels', 'bed', 'pump', 'bulb', 'printer', 'mattress', 'hose', 'monitor', 'guitar', 'pillow', 'bottles', 'remote', 'baby', 'panasonic', 'filters', 'lid', 'bulbs', 'ingredients', 'gun', 'hair', 'knife', 'mouse', 'dog', 'scope', 'lbs', 'drill', 'game', 'rack', 'blade', 'pounds', 'pan', 'drive']\n",
      "\n",
      "===Category: clothing_shoes_and_jewelry===\n",
      "-Top-\n",
      "['tilley', 'armour', 'jewelry', 'watch', 'costume', 'arobic', 'yaktrax', 'brim', 'ua', 'earrings', 'watches', 'c/d', 'hoodie', 'spd', 'jacket', 'propper', 'shirts', 'hoodie?', 'cleats', 'trunks?', 'pants?', 'tankini', 'underwear', 'soccer?', 'shimano', 'armoire', 'bodybuilder', 'shrink', 'hospital', 'fuller', 'sweatshirt', 'youths', 'unzipped?', 'shirt', '511', '42ddd', 'sole', 'jansport', 'laces', 'yvette']\n",
      "-Bottom-\n",
      "['skates', 'dog', 'works', 'tv', 'mattress', 'chair', 'camera', 'seat', 'power', 'filter', 'brace', 'fins', 'use', 'keyboard', 'sheet', 'bottles', 'shelf', 'bed', 'cover', 'oil', 'speakers', 'makes', 'cable', 'headphones', 'stroller', 'holster', 'case', 'waders', 'installed', 'medium/short', 'cat', 'remote', 'pan', 'pump', 'skate', 'unit', 'doll', 'used', 'fin', 'model']\n",
      "\n",
      "===Category: electronics===\n",
      "-Top-\n",
      "['nikon', 'asus', 'lenovo', 'softbox', 'din', 'crutchfield', 'backdrop', 'olympus', 'sony', 'motherboard', 'psu', 'sata', 'ssd', 'toshiba', 'acer', 'manfrotto', 'camera', 'msi', 'inspiron', 'cpu', 'dvr', 'drives', 'canon', 'tv', 'lens', 'dell', 'jvc', 'modem', 'roku', 'aspire', 'tweeters', 'radios', 'metra', 'tripod', 'monopod', 'seagate', 'tomtom', 'dsc', 'corsair', 'backdrops']\n",
      "-Bottom-\n",
      "['mattress', 'chair', 'ingredients', 'gun', 'thermostat', 'tire', 'hose', 'baby', 'oil', 'vacuum', 'midi', 'stroller', 'faucet', 'pump', 'guitar', 'mixer', 'bottles', 'tires', 'valve', 'blade', 'tank', 'bpa', 'dewalt', 'gloves', 'blades', 'cartridges', 'phone', 'fixture', 'toy', 'heater', 'xlr', 'chairs', 'bosch', 'food', 'pedal', 'doll', 'pillow', 'shower', 'balls', 'motor']\n",
      "\n",
      "===Category: grocery_and_gourmet_food===\n",
      "-Top-\n",
      "['delicious', 'keurig', 'gumball', 'honey', 'candy', 'bonsai', 'msg?', 'grown', 'grown?', 'sauce', 'decaf', 'coconut', 'sodium', 'noodles', 'flour', 'matcha', 'kosher?', 'kosher', 'spicy', 'tea', 'almonds', 'candies', 'nespresso', 'taste', 'nutritional', 'wonderbag', 'packets', 'eating', 'cookies', 'lollipops', 'salt', 'turmeric', 'msg', 'calories', 'sachets', 'syrup', 'cinnamon', 'jimmies', 'cocoa', 'cans']\n",
      "-Bottom-\n",
      "['fit', 'work', 'battery', 'unit', 'phone', 'model', 'set', 'warranty', 'works', 'hold', 'camera', 'batteries', 'fits', 'manual', 'shellfish', 'power', 'whey', 'dog', 'pair', 'screen', 'hold?', 'support', 'device', 'play', 'seat', 'car', 'bed', 'lens', 'blade', 'feet', 'handle', 'tv', 'wood', 'cable', 'replacement', 'worked', 'wear', 'holds', 'shea', 'install']\n",
      "\n",
      "===Category: health_and_personal_care===\n",
      "-Top-\n",
      "['shaver', 'walker', 'brace', 'massager', 'pills', 'rollator', 'sonicare', 'razor', 'cane', 'norelco', 'insertable', 'hookah', 'braun', 'wheelchair', 'shaving', 'razor?', 'medical', 'crutches', 'whey', 'shave', 'toothbrush', 'supplements', 'insulin', 'omron', 'invitation', 'tens', 'splint', 'commode', 'massage', 'capsules', 'oral', 'pill', 'capsules?', 'vitamins', 'insoles', 'dentist', 'shaver?', 'doctor', 'invacare', 'capsule']\n",
      "-Bottom-\n",
      "['camera', 'keyboard', 'samsung', 'canon', 'bike', 'nikon', 'hp', 'shorts', 'stroller', 'mount', 'sony', 'filter', 'game', 'speakers', 'dog', 'grandson', 'ipad', 'jacket', 'speaker', 'hdmi', 'asus', 'shelves', 'macbook', 'inseam', 'headphones', 'laptop', 'tire', 'dell', 'pool', 'pan', 'unlocked', 'helmet', 'tripod', 'cooker', 'vest', 'router', 'argan', 'guitar', 'holster', 'tent']\n",
      "\n"
     ]
    },
    {
     "name": "stdout",
     "output_type": "stream",
     "text": [
      "===Category: home_and_kitchen===\n",
      "-Top-\n",
      "['juicer', 'duvet', 'cuisinart', 'comforter', 'cooker', 'roomba', 'slicer', 'kettle', 'curtain', 'futon', 'toaster', 'blender', 'dyson', 'vitamix', 'induction', 'carafe', 'krups', 'headboard', 'pitcher', 'topper', 'peeler', 'beater', 'dough', 'shams', 'pan', 'purifier', 'ironing', 'stools', 'foodsaver', 'mixer', 'infuser', 'breville', 'mattress', 'mug', 'waring', 'wilton', 'eureka', 'chef', 'sunbeam', 'frother']\n",
      "-Bottom-\n",
      "['camera', 'crib', 'bike', 'phone', 'lens', 'play', 'gate', 'stroller', 'toy', 'doll', 'tire', 'feeder', 'pool', 'software', 'bassinet', 'macbook', 'gun', 'headphones', 'iphone', 'scope', 'tires', 'waist', 'antenna', 'radio', 'music', 'nikon', 'roof', 'ear', 'ink', 'ram', 'holster', 'sony', 'dell', 'lamp', 'mic', 'guitar', 'asus', 'tripod', 'ipod', 'chart']\n",
      "\n",
      "===Category: industrial_and_scientific===\n",
      "-Top-\n",
      "['toothpaste', 'microscope', 'stethoscope', 'winch', 'amscope', 'stethoscope?', 'epoxy', 'oreck', 'caulk', 'calibration', 'vac', 'littman', 'filament', 'mop', 'dropper', 'stethoscopes', 'vacuum', 'pla', 'hydrometer', 'cuff', 'dolly', 'littmann', 'knowif', 'diaphram?', 'diaphragm', 'ph', 'contactor', 'kimberly', 'flask', 'vise', 'grommet', 'rubbermaid', 'refractometer', 'toothpaste?', 'printrbot', 'ramp', 'dac', 'grommets', 'casters', 'fluke']\n",
      "-Bottom-\n",
      "['phone', 'seat', 'iphone', 'keyboard', 'play', 'sony', 'rear', 'screen', 'ipad', 'ink', 'bluetooth', 'charger', 'tripod', 'card', 'lens', 'charge', 'hair', 'cups', 'wear', 'mouse', 'lights', 'router', 'bowl', 'speakers', 'game', 'radio', 'dvd', 'galaxy', 'cup', 'case', 'waist', 'mic', 'speaker', 'ipod', 'bulbs', 'wifi', 'dishwasher', 'skin', 'mat', 'toy']\n",
      "\n",
      "===Category: musical_instruments===\n",
      "-Top-\n",
      "['guitar', 'violin', 'epiphone', 'behringer', 'midi', 'guitar?', 'guitars', 'korg', 'instrument', 'fender', 'xlr', 'chauvet', 'strings', 'dmx', 'gibson', 'dj', 'karaoke', 'banjo', 'shure', 'metronome', 'mics', 'drum', 'ukulele', 'uke', 'pedal', 'piano', 'yamaha', 'traktor', 'peavey', 'ibanez', 'acoustic', 'flute', 'strings?', 'les', 'snare', 'headshell', 'casio', 'cubase', 'ocarina', 'ableton']\n",
      "-Bottom-\n",
      "['bike', 'camera', 'phone', 'lens', 'water', 'mouse', 'car', 'bed', 'hdmi', 'game', 'hair', 'dog', 'antenna', 'chair', 'door', 'blade', 'games', 'printer', 'mattress', 'pump', 'charger', 'bottle', 'samsung', 'hose', 'shower', 'charge', 'glass', 'skin', 'router', 'screen', 'tv', 'dell', 'stainless', 'oz', 'scope', 'wifi', 'gas', 'pillow', 'radio', 'ingredients']\n",
      "\n",
      "===Category: office_products===\n",
      "-Top-\n",
      "['calculator', 'scanner', 'shredder', 'toner', 'handsets', 'cartridges', 'scan', 'printer', 'epson', 'mfc', 'ink', 'handset', 'laminator', 'scanning', 'planner', 'calendar', 'pencils', 'cartridge', 'labels', 'pencil', 'scans', 'embosser', 'ringer', 'presentation', 'mailers', 'calculator?', 'dictionary', 'dymo', 'print', 'laminating', 'toners', 'lexmark', 'badge', 'erasers', 'answering', 'copier', 'avery', 'typewriter', 'cartridges?', 'wf']\n",
      "-Bottom-\n",
      "['camera', 'bike', 'lens', 'filter', 'mattress', 'hair', 'pan', 'speakers', 'drive', 'sony', 'car', 'sim', 'radio', 'ingredients', 'lamp', 'scope', 'grill', 'gps', 'filters', 'skin', 'bottle', 'bowl', 'baby', 'toilet', 'hdmi', 'ipod', 'play', 'straps', 'pot', 'mic', 'bench', 'hose', 'ceiling', 'honda', 'stroller', 'bulb', 'hd', 'umbrella', 'co2', 'brush']\n",
      "\n",
      "===Category: patio_lawn_and_garden===\n",
      "-Top-\n",
      "['hayward', 'mower', 'toro', 'weber', 'poulan', 'smoker', 'pentair', 'pool', 'planter', 'husqvarna', 'soil', 'fertilizer', 'shed', 'karcher', 'spa', 'stihl', 'gazebo', 'wicker', 'sprinkler', 'greenworks', 'hammock', 'watering', 'generator', 'umbrella', 'trellis', 'trap', 'grow', 'generac', 'worx', 'plants', 'grill', 'intex', 'trimmer', 'garrett', 'compost', 'troy', 'spreader', 'pit', 'plant', 'greenhouse']\n",
      "-Bottom-\n",
      "['camera', 'hair', 'phone', 'mattress', 'bike', 'lens', 'stroller', 'daughter', 'speakers', 'shower', 'keyboard', 'play', 'sony', 'canon', 'tv', 'samsung', 'laptop', 'speaker', 'antenna', 'printer', 'card', 'computer', 'scope', 'cards', 'ipad', 'nikon', 'ink', 'desk', 'game', 'tablet', 'guitar', 'skin', 'toilet', 'compressor', 'monitor', 'knife', 'drawers', 'case', 'leather', 'iphone']\n",
      "\n",
      "===Category: pet_supplies===\n",
      "-Top-\n",
      "['dog', 'cage', 'litter', 'collar', 'crate', 'dogs', 'cat', 'aquarium', 'cats', 'vet', 'kennel', 'pet', 'puppy', 'treats', 'petsafe', 'fluval', 'lab', 'leash', 'yorkie', 'collar?', 'kitten', 'collars', 'aqueon', 'betta', 'kitty', 'poodle', 'adjustst', 'terrier', 'maltese', 'paws', 'tank', 'furminator', 'hamster', 'cage?', 'feliway', 'pup', 'chihuahua', 'dane', 'doggie', 'petco']\n",
      "-Bottom-\n",
      "['camera', 'son', 'propane', 'daughter', 'phone', 'hair?', 'tv', 'laptop', 'coffee', 'chair', 'fan', 'lens', 'keyboard', 'kids', 'usb', 'ipad', 'computer', 'gas', 'mattress', 'child', 'pot', 'oven', 'queen', 'comforter', 'grind', 'case', 'speakers', 'speaker', 'pool', 'cooking', 'game', 'samsung', 'card', 'gun', 'vacuum', 'grandson', 'cook', 'wiring', 'cabinet', 'desk']\n",
      "\n",
      "===Category: software===\n",
      "-Top-\n",
      "['program', 'version', 'quicken', 'norton', 'webroot', 'program?', 'import', 'nuvi', 'license', 'ancestry', 'licenses', 'intuit', 'elements', 'turbotax', 'computers', 'fluenz', 'capture', 'kaspersky', 'create', 'deluxe', 'income', 'lessons', 'studio', 'student', 'license?', 'dragon', 'state', 'qb', 'tax', 'corel', 'lightroom', 'subscription', 'upgrade', 'recipes', 'federal', 'publisher', 'family', 'leopard', 'adobe', 'platinum']\n",
      "-Bottom-\n",
      "['fit', 'model', 'unit', 'size', 'phone', 'battery', 'camera', 'water', 'warranty', 'inches', 'comes', 'drivers', 'light', 'usb', 'remote', 'driver', 'come', 'cable', 'black', 'plastic', 'inch', 'replacement', 'fits', 'plug', 'bluetooth', 'steam', 'batteries', 'weight', 'dimensions', 'case', 'china', 'lens', 'router', 'kit', 'mount', 'player', 'hold', 'ipod', 'bottle', 'tv']\n",
      "\n",
      "===Category: sports_and_outdoors===\n",
      "-Top-\n",
      "['trampoline', 'skates', 'scope', 'ruger', 'bike', 'paracord', 'schwinn', 'glock', 'rifle', 'gnome', 'treadmill', 'reticle', 'bbs', 'sights', 'sight', 'moultrie', 'stun', 'bike?', 'pedometer', 's&amp;w', 'fins', 'bipod', 'gi', 'coleman', 'crossbow', 'wildcat', 'sword', 'sawyer', 'skate', 'phubby', 'marlin', 'cue', 'pistol', 'fin', 'freewheel', 'mossberg', 'exercises', 'bow', 'crosman', 'fitness']\n",
      "-Bottom-\n",
      "['sony', 'keyboard', 'speakers', 'tv', 'canon', 'printer', 'guitar', 'speaker', 'crib', 'mouse', 'diaper', 'dell', 'antenna', 'panasonic', 'asus', 'doll', 'ingredients', 'bulbs', 'vacuum', 'stroller', 'hdmi', 'cpu', 'tablet', 'mower', 'compressor', 'lamp', 'baby', 'booster', 'lenovo', 'soccer?', 'capsules', 'drive', 'drawers', 'mic', 'cooker', 'dewalt', 'nikon', 'toys', 'pills', 'seeds']\n",
      "\n",
      "===Category: tools_and_home_improvement===\n",
      "-Top-\n",
      "['dewalt', 'mechanix', 'makita', 'sander', 'nailer', 'mailbox', 'faucet', 'bidet', 'extinguisher', 'chandelier', 'showerhead', 'welder', 'lamp', 'porter', 'flashlight', 'liftmaster', 'lathe', 'toto', 'bosch', 'chuck', 'milwaukee', 'sink', 'fixture', 'dremel', 'bits', 'doorbell', 'deadbolt', 'saw', 'faucet?', 'plumber', 'kreg', 'delta', 'welding', 'planer', 'wallpaper', 'schlage', 'moen', 'rinnai', 'kohler', 'shade?']\n",
      "-Bottom-\n",
      "['camera', 'sony', 'tv', 'canon', 'mattress', 'keyboard', 'phone', 'speakers', 'nikon', 'printer', 'hair', 'projector', 'pillow', 'game', 'scope', 'mouse', 'tablet', 'headphones', 'cpu', 'speaker', 'cameras', 'hdmi', 'mic', 'asus', 'dell', 'computer', 'antenna', 'laptop', 'stroller', 'cards', 'skin', 'samsung', 'passenger', 'player', 'ink', 'headset', 'guitar', 'play', 'ingredients', 'mat']\n",
      "\n",
      "===Category: toys_and_games===\n",
      "-Top-\n",
      "['doll', 'helicopter', 'dolls', 'traxxas', 'leap', 'copter', 'lipo', 'furby', 'heli', 'puzzle', 'figures', 'leapfrog', 'toy', 'leappad', 'leapster', 'esc', 'syma', 'hasbro', 'train', 'rc', 'figure?', 'lego', 'barbie', 'hearthsong', 'slash', 'wagon', 'innotab', 'doll?', 'servo', 'castle', 'dice', 'nerf', 'hobby', 'marbles', 'figures?', 'hubsan', 'cars', 'figure', 'grandson', 'vtech']\n",
      "-Bottom-\n",
      "['filter', 'phone', 'unit', 'sony', 'canon', 'lens', 'speakers', 'sim', 'comfortable', 'hp', 'expiration', 'nikon', 'monitor', 'bluetooth', 'chair', 'filters', 'installed', 'rack', 'glass', 'shower', 'install', 'ram', 'medium', 'pair', 'heater', 'honda', 'coffee', 'fit', 'stereo', 'fan', 'warranty', 'ford', 'dell', 'panasonic', 'laptop', 'tv', 'mount', 'chairs', 'printer', 'pan']\n",
      "\n"
     ]
    },
    {
     "name": "stdout",
     "output_type": "stream",
     "text": [
      "===Category: video_games===\n",
      "-Top-\n",
      "['game', 'vita', 'controller', '3ds', 'saitek', 'multiplayer', 'joystick', 'wii', 'dlc', 'console', 'controllers', 'game?', 'psn', 'razer', 'steam', 'kinect', 'ds', 'xbox', 'nyko', '2ds', 'dsi', 'dance', 'mechanical', 'edition', 'offline', 'campaign', 'code', 'ps2', 'play', 'account', 'headset', 'mx', 'ps', 'dpi', 'psp', 'playstation', 'ps4', 'yoke', 'steam?', 'games']\n",
      "-Bottom-\n",
      "['phone', 'fit', 'water', 'size', 'unit', 'camera', 'printer', 'bag', 'samsung', 'machine', 'bottle', 'hair', 'lens', 'product', 'canon', 'filter', 'radio', 'speaker', 'blade', 'ipad', 'car', 'diameter', 'door', 'record', 'office', 'handle', 'bike', 'dvd', 'rules', 'seat', 'air', 'nikon', 'kit', 'oil', 'apple', 'made?', 'bulb', 'pump', 'metal', 'bed']\n",
      "\n"
     ]
    }
   ],
   "source": [
    "inv_category_dict = {v: k for k, v in category_dict.items()}\n",
    "\n",
    "count = 0\n",
    "for coef in clf.coef_:\n",
    "    words = list(zip(coef, vectorizer.get_feature_names()))\n",
    "    top_words = sorted(words, reverse=True)[:40]\n",
    "    bottom_words = sorted(words, reverse=False)[:40]\n",
    "    \n",
    "    print(f\"===Category: {inv_category_dict[count]}===\")\n",
    "    print(f\"-Top-\")\n",
    "    print([x[1] for x in top_words])\n",
    "    print(f\"-Bottom-\")\n",
    "    print([x[1] for x in bottom_words])\n",
    "    print('')\n",
    "    count+=1"
   ]
  },
  {
   "cell_type": "code",
   "execution_count": null,
   "metadata": {},
   "outputs": [],
   "source": []
  }
 ],
 "metadata": {
  "kernelspec": {
   "display_name": "Python 3",
   "language": "python",
   "name": "python3"
  },
  "language_info": {
   "codemirror_mode": {
    "name": "ipython",
    "version": 3
   },
   "file_extension": ".py",
   "mimetype": "text/x-python",
   "name": "python",
   "nbconvert_exporter": "python",
   "pygments_lexer": "ipython3",
   "version": "3.8.5"
  }
 },
 "nbformat": 4,
 "nbformat_minor": 4
}
