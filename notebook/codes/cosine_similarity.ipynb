{
 "cells": [
  {
   "cell_type": "code",
   "execution_count": 1,
   "metadata": {},
   "outputs": [
    {
     "name": "stderr",
     "output_type": "stream",
     "text": [
      "[nltk_data] Downloading package punkt to\n",
      "[nltk_data]     C:\\Users\\mriva\\AppData\\Roaming\\nltk_data...\n",
      "[nltk_data]   Package punkt is already up-to-date!\n"
     ]
    }
   ],
   "source": [
    "import pandas as pd\n",
    "import nltk\n",
    "nltk.download('punkt')\n",
    "from nltk.stem.porter import PorterStemmer\n",
    "from nltk.corpus import stopwords \n",
    "from nltk.tokenize import word_tokenize \n",
    "import re\n",
    "from sklearn.feature_extraction.text import TfidfVectorizer\n",
    "from sklearn.metrics.pairwise import cosine_similarity"
   ]
  },
  {
   "cell_type": "code",
   "execution_count": 2,
   "metadata": {},
   "outputs": [],
   "source": [
    "ASIN_FOLDER_PATH = '../datasets/asin_text_split/'\n",
    "\n",
    "\n",
    "stop_words = set(stopwords.words('english'))\n",
    "\n",
    "def get_asin_text_by_category(i, path=ASIN_FOLDER_PATH):\n",
    "    return pd.read_csv(f\"{path}asin_text_{i}.csv\")\n",
    "\n",
    "def process_text(text):\n",
    "    t = re.sub(r'[\\W]+', ' ', text)\n",
    "    t = t.lower()\n",
    "    t = PorterStemmer().stem(t)\n",
    "    t = word_tokenize(t)\n",
    "    t = [w for w in t if not w in stop_words]\n",
    "    t = \" \".join(t)\n",
    "    return t\n",
    "\n",
    "def get_similar(x, asins, n_preds = 3):\n",
    "    return list(asins.loc[x.argsort()[(n_preds+1)*-1:-1]])\n",
    "\n",
    "def suggest_asin(entry, category):\n",
    "    df = get_asin_text_by_category(category)\n",
    "    stem_entry = process_text(entry)\n",
    "    corpus = list(df['text'])\n",
    "    corpus.append(stem_entry)\n",
    "    tfidf = TfidfVectorizer(stop_words = None, max_features = 20_000)\n",
    "    tfidf = tfidf.fit(corpus)\n",
    "    data_vec = tfidf.transform(df['text'])\n",
    "    entry_vec = tfidf.transform([stem_entry])\n",
    "    sim_unigram=cosine_similarity(entry_vec, data_vec)\n",
    "    return get_similar(sim_unigram[0], df['asin']) "
   ]
  },
  {
   "cell_type": "code",
   "execution_count": 3,
   "metadata": {
    "scrolled": false
   },
   "outputs": [
    {
     "data": {
      "text/plain": [
       "['B003ELOOZO', 'B00CPK7U60', 'B0082YVBM2']"
      ]
     },
     "execution_count": 3,
     "metadata": {},
     "output_type": "execute_result"
    }
   ],
   "source": [
    "suggest_asin('i want an iphone', 5)"
   ]
  },
  {
   "cell_type": "code",
   "execution_count": null,
   "metadata": {},
   "outputs": [],
   "source": []
  },
  {
   "cell_type": "code",
   "execution_count": null,
   "metadata": {},
   "outputs": [],
   "source": []
  },
  {
   "cell_type": "code",
   "execution_count": null,
   "metadata": {},
   "outputs": [],
   "source": []
  }
 ],
 "metadata": {
  "kernelspec": {
   "display_name": "Python 3.7 (torch)",
   "language": "python",
   "name": "torch"
  },
  "language_info": {
   "codemirror_mode": {
    "name": "ipython",
    "version": 3
   },
   "file_extension": ".py",
   "mimetype": "text/x-python",
   "name": "python",
   "nbconvert_exporter": "python",
   "pygments_lexer": "ipython3",
   "version": "3.7.9"
  }
 },
 "nbformat": 4,
 "nbformat_minor": 4
}
