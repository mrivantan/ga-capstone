{
 "cells": [
  {
   "cell_type": "code",
   "execution_count": 2,
   "metadata": {},
   "outputs": [
    {
     "name": "stderr",
     "output_type": "stream",
     "text": [
      "[nltk_data] Downloading package wordnet to\n",
      "[nltk_data]     C:\\Users\\mriva\\AppData\\Roaming\\nltk_data...\n",
      "[nltk_data]   Package wordnet is already up-to-date!\n",
      "[nltk_data] Downloading package stopwords to\n",
      "[nltk_data]     C:\\Users\\mriva\\AppData\\Roaming\\nltk_data...\n",
      "[nltk_data]   Package stopwords is already up-to-date!\n"
     ]
    }
   ],
   "source": [
    "import pandas as pd\n",
    "import numpy as np\n",
    "\n",
    "# natural language tool kit\n",
    "import nltk\n",
    "nltk.download('wordnet')\n",
    "nltk.download('stopwords')\n",
    "\n",
    "from nltk.corpus import stopwords\n",
    "from nltk.tokenize import RegexpTokenizer\n",
    "from nltk.stem import WordNetLemmatizer\n",
    "from nltk.stem.porter import PorterStemmer\n",
    "\n",
    "import regex as regex"
   ]
  },
  {
   "cell_type": "code",
   "execution_count": 3,
   "metadata": {},
   "outputs": [],
   "source": [
    "# Import data from csv\n",
    "df = pd.read_csv('../datasets/cleaned/combined_text.csv')\n",
    "\n",
    "# drop duplicates\n",
    "df.drop_duplicates(subset=['combined_text'], keep='first', ignore_index=True, inplace=True)\n",
    "\n",
    "# encode category\n",
    "category_list = list(df.category.unique())\n",
    "df['label'] = df['category'].map(lambda x:category_list.index(x))\n",
    "\n",
    "df.drop(columns=['asin'], inplace=True)\n",
    "df.rename(columns={'combined_text': 'text'}, inplace=True)"
   ]
  },
  {
   "cell_type": "code",
   "execution_count": 4,
   "metadata": {
    "scrolled": false
   },
   "outputs": [
    {
     "data": {
      "text/html": [
       "<div>\n",
       "<style scoped>\n",
       "    .dataframe tbody tr th:only-of-type {\n",
       "        vertical-align: middle;\n",
       "    }\n",
       "\n",
       "    .dataframe tbody tr th {\n",
       "        vertical-align: top;\n",
       "    }\n",
       "\n",
       "    .dataframe thead th {\n",
       "        text-align: right;\n",
       "    }\n",
       "</style>\n",
       "<table border=\"1\" class=\"dataframe\">\n",
       "  <thead>\n",
       "    <tr style=\"text-align: right;\">\n",
       "      <th></th>\n",
       "      <th>text</th>\n",
       "      <th>category</th>\n",
       "      <th>label</th>\n",
       "    </tr>\n",
       "  </thead>\n",
       "  <tbody>\n",
       "    <tr>\n",
       "      <th>0</th>\n",
       "      <td>I have a 9 year old Badger 1 that needs replac...</td>\n",
       "      <td>appliances</td>\n",
       "      <td>0</td>\n",
       "    </tr>\n",
       "    <tr>\n",
       "      <th>1</th>\n",
       "      <td>model number This may help InSinkErator Model ...</td>\n",
       "      <td>appliances</td>\n",
       "      <td>0</td>\n",
       "    </tr>\n",
       "    <tr>\n",
       "      <th>2</th>\n",
       "      <td>can I replace Badger 1 1/3 with a Badger 5 1/2...</td>\n",
       "      <td>appliances</td>\n",
       "      <td>0</td>\n",
       "    </tr>\n",
       "    <tr>\n",
       "      <th>3</th>\n",
       "      <td>Does this come with power cord and dishwasher ...</td>\n",
       "      <td>appliances</td>\n",
       "      <td>0</td>\n",
       "    </tr>\n",
       "    <tr>\n",
       "      <th>4</th>\n",
       "      <td>loud noise inside when turned on. sounds like ...</td>\n",
       "      <td>appliances</td>\n",
       "      <td>0</td>\n",
       "    </tr>\n",
       "  </tbody>\n",
       "</table>\n",
       "</div>"
      ],
      "text/plain": [
       "                                                text    category  label\n",
       "0  I have a 9 year old Badger 1 that needs replac...  appliances      0\n",
       "1  model number This may help InSinkErator Model ...  appliances      0\n",
       "2  can I replace Badger 1 1/3 with a Badger 5 1/2...  appliances      0\n",
       "3  Does this come with power cord and dishwasher ...  appliances      0\n",
       "4  loud noise inside when turned on. sounds like ...  appliances      0"
      ]
     },
     "execution_count": 4,
     "metadata": {},
     "output_type": "execute_result"
    }
   ],
   "source": [
    "df.head()"
   ]
  },
  {
   "cell_type": "code",
   "execution_count": 6,
   "metadata": {},
   "outputs": [],
   "source": [
    "def get_stopwords(file='../datasets/stopwords/stopwords.txt'):\n",
    "    '''\n",
    "    Description: Retreives stopwords from text file\n",
    "    ---\n",
    "    params:\n",
    "\n",
    "    file:str       - file path\n",
    "    ---\n",
    "    output:\n",
    "    \n",
    "    set {str} of stopwords:\n",
    "    {'a', 'set', 'of', 'words', ...}\n",
    "    ---\n",
    "    usage:\n",
    "    >> list(get_stopwords())\n",
    "    ['a', 'set', 'of', 'words', ...]\n",
    "    '''\n",
    "    with open(file,'r') as words:\n",
    "        stopwords = [word.strip() for word in words]\n",
    "        return set(stopwords)"
   ]
  },
  {
   "cell_type": "code",
   "execution_count": 7,
   "metadata": {},
   "outputs": [],
   "source": [
    "def preprocess_text(txt, analyzer = 'stem'):\n",
    "    '''\n",
    "    Description: Tokenizes alphabets only. then Choose either to stem or lemmatize.\n",
    "    ---\n",
    "    params:\n",
    "\n",
    "    txt:str       - text to process\n",
    "\n",
    "    analyzer:str  - 'stem' = PorterStemmer (default)\n",
    "                  - 'lemm' = WordNetLemmatizer\n",
    "    ---\n",
    "    output:\n",
    "    \n",
    "    processed text: str \n",
    "    ---\n",
    "    usage:\n",
    "    >> text = 'I have a 9 year old Badger 1 that needs'\n",
    "    >> preprocess_text(text, analyzer='stem'))\n",
    "    'year old badger need'\n",
    "    # or however the the stemmed output should look like\n",
    "    '''\n",
    "    tokenizer = RegexpTokenizer(r'[A-Za-z]+', gaps=False)\n",
    "    tokens = tokenizer.tokenize(str(txt).lower())\n",
    "    \n",
    "    #remove stop words\n",
    "    all_stopwords = stopwords.words('english')\n",
    "    all_stopwords.extend(list(get_stopwords()))\n",
    "    tokens = [w for w in tokens if w not in all_stopwords]\n",
    "    \n",
    "    # analyze using lemmatizer\n",
    "    if analyzer == 'lemm':\n",
    "        lemmatizer = WordNetLemmatizer()\n",
    "        tokens = [lemmatizer.lemmatize(s) for s in tokens]\n",
    "        \n",
    "    # analyze using stem\n",
    "    elif analyzer == 'stem':\n",
    "        p_stemmer = PorterStemmer()\n",
    "        tokens = [p_stemmer.stem(s) for s in tokens]\n",
    "    \n",
    "    \n",
    "    text = \" \".join(tokens)\n",
    "    return(text)"
   ]
  },
  {
   "cell_type": "code",
   "execution_count": 8,
   "metadata": {},
   "outputs": [],
   "source": [
    "df['stem_text'] = df['text'].apply(lambda text: preprocess_text(text, analyzer='stem'))"
   ]
  },
  {
   "cell_type": "code",
   "execution_count": 10,
   "metadata": {},
   "outputs": [
    {
     "name": "stdout",
     "output_type": "stream",
     "text": [
      "Wall time: 7min 12s\n"
     ]
    }
   ],
   "source": [
    "%%time\n",
    "df['lemm_text'] = df['text'].apply(lambda text: preprocess_text(text, analyzer='lemm'))"
   ]
  },
  {
   "cell_type": "code",
   "execution_count": 11,
   "metadata": {},
   "outputs": [
    {
     "data": {
      "text/html": [
       "<div>\n",
       "<style scoped>\n",
       "    .dataframe tbody tr th:only-of-type {\n",
       "        vertical-align: middle;\n",
       "    }\n",
       "\n",
       "    .dataframe tbody tr th {\n",
       "        vertical-align: top;\n",
       "    }\n",
       "\n",
       "    .dataframe thead th {\n",
       "        text-align: right;\n",
       "    }\n",
       "</style>\n",
       "<table border=\"1\" class=\"dataframe\">\n",
       "  <thead>\n",
       "    <tr style=\"text-align: right;\">\n",
       "      <th></th>\n",
       "      <th>text</th>\n",
       "      <th>category</th>\n",
       "      <th>label</th>\n",
       "      <th>stem_text</th>\n",
       "      <th>lemm_text</th>\n",
       "    </tr>\n",
       "  </thead>\n",
       "  <tbody>\n",
       "    <tr>\n",
       "      <th>0</th>\n",
       "      <td>I have a 9 year old Badger 1 that needs replac...</td>\n",
       "      <td>appliances</td>\n",
       "      <td>0</td>\n",
       "      <td>year old badger need replac badger instal like...</td>\n",
       "      <td>year old badger need replacing badger install ...</td>\n",
       "    </tr>\n",
       "    <tr>\n",
       "      <th>1</th>\n",
       "      <td>model number This may help InSinkErator Model ...</td>\n",
       "      <td>appliances</td>\n",
       "      <td>0</td>\n",
       "      <td>model number may help insinker model badger ba...</td>\n",
       "      <td>model number may help insinkerator model badge...</td>\n",
       "    </tr>\n",
       "    <tr>\n",
       "      <th>2</th>\n",
       "      <td>can I replace Badger 1 1/3 with a Badger 5 1/2...</td>\n",
       "      <td>appliances</td>\n",
       "      <td>0</td>\n",
       "      <td>replac badger badger connect plumb connect var...</td>\n",
       "      <td>replace badger badger connection plumbing conn...</td>\n",
       "    </tr>\n",
       "    <tr>\n",
       "      <th>3</th>\n",
       "      <td>Does this come with power cord and dishwasher ...</td>\n",
       "      <td>appliances</td>\n",
       "      <td>0</td>\n",
       "      <td>come power cord dishwash hook come power cord ...</td>\n",
       "      <td>come power cord dishwasher hook come power cor...</td>\n",
       "    </tr>\n",
       "    <tr>\n",
       "      <th>4</th>\n",
       "      <td>loud noise inside when turned on. sounds like ...</td>\n",
       "      <td>appliances</td>\n",
       "      <td>0</td>\n",
       "      <td>loud nois insid turn sound like blade loos che...</td>\n",
       "      <td>loud noise inside turned sound like blade loos...</td>\n",
       "    </tr>\n",
       "  </tbody>\n",
       "</table>\n",
       "</div>"
      ],
      "text/plain": [
       "                                                text    category  label  \\\n",
       "0  I have a 9 year old Badger 1 that needs replac...  appliances      0   \n",
       "1  model number This may help InSinkErator Model ...  appliances      0   \n",
       "2  can I replace Badger 1 1/3 with a Badger 5 1/2...  appliances      0   \n",
       "3  Does this come with power cord and dishwasher ...  appliances      0   \n",
       "4  loud noise inside when turned on. sounds like ...  appliances      0   \n",
       "\n",
       "                                           stem_text  \\\n",
       "0  year old badger need replac badger instal like...   \n",
       "1  model number may help insinker model badger ba...   \n",
       "2  replac badger badger connect plumb connect var...   \n",
       "3  come power cord dishwash hook come power cord ...   \n",
       "4  loud nois insid turn sound like blade loos che...   \n",
       "\n",
       "                                           lemm_text  \n",
       "0  year old badger need replacing badger install ...  \n",
       "1  model number may help insinkerator model badge...  \n",
       "2  replace badger badger connection plumbing conn...  \n",
       "3  come power cord dishwasher hook come power cor...  \n",
       "4  loud noise inside turned sound like blade loos...  "
      ]
     },
     "execution_count": 11,
     "metadata": {},
     "output_type": "execute_result"
    }
   ],
   "source": [
    "df.head()"
   ]
  },
  {
   "cell_type": "code",
   "execution_count": 13,
   "metadata": {},
   "outputs": [],
   "source": [
    "filename = f\"../datasets/cleaned/combined_stemmed_text_with_category_label.csv\"\n",
    "df.to_csv(filename, index=False)"
   ]
  },
  {
   "cell_type": "code",
   "execution_count": null,
   "metadata": {},
   "outputs": [],
   "source": []
  }
 ],
 "metadata": {
  "kernelspec": {
   "display_name": "Python 3",
   "language": "python",
   "name": "python3"
  },
  "language_info": {
   "codemirror_mode": {
    "name": "ipython",
    "version": 3
   },
   "file_extension": ".py",
   "mimetype": "text/x-python",
   "name": "python",
   "nbconvert_exporter": "python",
   "pygments_lexer": "ipython3",
   "version": "3.7.9"
  }
 },
 "nbformat": 4,
 "nbformat_minor": 4
}
