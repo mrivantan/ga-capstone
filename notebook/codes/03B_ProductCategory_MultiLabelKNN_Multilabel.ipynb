{
 "cells": [
  {
   "cell_type": "markdown",
   "metadata": {},
   "source": [
    "https://xang1234.github.io/multi-label/"
   ]
  },
  {
   "cell_type": "code",
   "execution_count": 26,
   "metadata": {},
   "outputs": [],
   "source": [
    "import numpy as np\n",
    "import pandas as pd\n",
    "\n",
    "from sklearn.preprocessing import MultiLabelBinarizer\n",
    "\n",
    "# from sklearn.pipeline import Pipeline\n",
    "\n",
    "from sklearn.feature_extraction import text\n",
    "from sklearn.feature_extraction.text import TfidfVectorizer\n",
    "\n",
    "from skmultilearn.adapt import MLkNN\n",
    "from sklearn.model_selection import GridSearchCV\n",
    "\n",
    "from sklearn import metrics\n",
    "\n",
    "import pickle\n",
    "import time"
   ]
  },
  {
   "cell_type": "code",
   "execution_count": 37,
   "metadata": {},
   "outputs": [],
   "source": [
    "# Import data from csv\n",
    "df = pd.read_csv('../datasets/cleaned/combined_text.csv')\n",
    "\n",
    "# drop duplicates\n",
    "df.drop_duplicates(subset=['combined_text'], keep='first', ignore_index=True, inplace=True)\n",
    "\n",
    "# Create multi labels from category\n",
    "category_list = list(df.category.unique())\n",
    "df['labels'] = df['category'].map(lambda x: [category_list.index(x)])\n",
    "\n",
    "df.drop(columns=['category', 'asin'], inplace=True)\n",
    "df.rename(columns={'combined_text': 'text'}, inplace=True)"
   ]
  },
  {
   "cell_type": "code",
   "execution_count": 31,
   "metadata": {},
   "outputs": [
    {
     "data": {
      "text/plain": [
       "['appliances',\n",
       " 'arts_crafts_and_sewing',\n",
       " 'automotive',\n",
       " 'baby',\n",
       " 'beauty',\n",
       " 'cell_phones_and_accessories',\n",
       " 'clothing_shoes_and_jewelry',\n",
       " 'electronics',\n",
       " 'grocery_and_gourmet_food',\n",
       " 'health_and_personal_care',\n",
       " 'home_and_kitchen',\n",
       " 'industrial_and_scientific',\n",
       " 'musical_instruments',\n",
       " 'office_products',\n",
       " 'patio_lawn_and_garden',\n",
       " 'pet_supplies',\n",
       " 'software',\n",
       " 'sports_and_outdoors',\n",
       " 'tools_and_home_improvement',\n",
       " 'toys_and_games',\n",
       " 'video_games']"
      ]
     },
     "execution_count": 31,
     "metadata": {},
     "output_type": "execute_result"
    }
   ],
   "source": [
    "category_list"
   ]
  },
  {
   "cell_type": "code",
   "execution_count": 38,
   "metadata": {
    "scrolled": true
   },
   "outputs": [
    {
     "data": {
      "text/html": [
       "<div>\n",
       "<style scoped>\n",
       "    .dataframe tbody tr th:only-of-type {\n",
       "        vertical-align: middle;\n",
       "    }\n",
       "\n",
       "    .dataframe tbody tr th {\n",
       "        vertical-align: top;\n",
       "    }\n",
       "\n",
       "    .dataframe thead th {\n",
       "        text-align: right;\n",
       "    }\n",
       "</style>\n",
       "<table border=\"1\" class=\"dataframe\">\n",
       "  <thead>\n",
       "    <tr style=\"text-align: right;\">\n",
       "      <th></th>\n",
       "      <th>text</th>\n",
       "      <th>labels</th>\n",
       "    </tr>\n",
       "  </thead>\n",
       "  <tbody>\n",
       "    <tr>\n",
       "      <th>0</th>\n",
       "      <td>I have a 9 year old Badger 1 that needs replac...</td>\n",
       "      <td>[0]</td>\n",
       "    </tr>\n",
       "  </tbody>\n",
       "</table>\n",
       "</div>"
      ],
      "text/plain": [
       "                                                text labels\n",
       "0  I have a 9 year old Badger 1 that needs replac...    [0]"
      ]
     },
     "execution_count": 38,
     "metadata": {},
     "output_type": "execute_result"
    }
   ],
   "source": [
    "df.head(1)"
   ]
  },
  {
   "cell_type": "code",
   "execution_count": 33,
   "metadata": {
    "scrolled": true
   },
   "outputs": [],
   "source": [
    "my_stop_words = []#extra words. todo: create a text file to load from\n",
    "stop_words = text.ENGLISH_STOP_WORDS.union(my_stop_words)\n",
    "\n",
    "vectorizer = TfidfVectorizer(\n",
    "    ngram_range=(1,1), \n",
    "    stop_words=stop_words,\n",
    "    analyzer='word',\n",
    "    token_pattern=r'[a-zA-Z]+',\n",
    ")"
   ]
  },
  {
   "cell_type": "code",
   "execution_count": 34,
   "metadata": {},
   "outputs": [],
   "source": [
    "X = vectorizer.fit_transform(df['text'])"
   ]
  },
  {
   "cell_type": "code",
   "execution_count": 39,
   "metadata": {},
   "outputs": [],
   "source": [
    "mlb = MultiLabelBinarizer()\n",
    "y = mlb.fit_transform(df['labels'])"
   ]
  },
  {
   "cell_type": "code",
   "execution_count": 42,
   "metadata": {},
   "outputs": [
    {
     "data": {
      "text/plain": [
       "array([[1, 0, 0, 0, 0, 0, 0, 0, 0, 0, 0, 0, 0, 0, 0, 0, 0, 0, 0, 0, 0],\n",
       "       [1, 0, 0, 0, 0, 0, 0, 0, 0, 0, 0, 0, 0, 0, 0, 0, 0, 0, 0, 0, 0],\n",
       "       [1, 0, 0, 0, 0, 0, 0, 0, 0, 0, 0, 0, 0, 0, 0, 0, 0, 0, 0, 0, 0],\n",
       "       [1, 0, 0, 0, 0, 0, 0, 0, 0, 0, 0, 0, 0, 0, 0, 0, 0, 0, 0, 0, 0],\n",
       "       [1, 0, 0, 0, 0, 0, 0, 0, 0, 0, 0, 0, 0, 0, 0, 0, 0, 0, 0, 0, 0],\n",
       "       [1, 0, 0, 0, 0, 0, 0, 0, 0, 0, 0, 0, 0, 0, 0, 0, 0, 0, 0, 0, 0],\n",
       "       [1, 0, 0, 0, 0, 0, 0, 0, 0, 0, 0, 0, 0, 0, 0, 0, 0, 0, 0, 0, 0],\n",
       "       [1, 0, 0, 0, 0, 0, 0, 0, 0, 0, 0, 0, 0, 0, 0, 0, 0, 0, 0, 0, 0],\n",
       "       [1, 0, 0, 0, 0, 0, 0, 0, 0, 0, 0, 0, 0, 0, 0, 0, 0, 0, 0, 0, 0],\n",
       "       [1, 0, 0, 0, 0, 0, 0, 0, 0, 0, 0, 0, 0, 0, 0, 0, 0, 0, 0, 0, 0]])"
      ]
     },
     "execution_count": 42,
     "metadata": {},
     "output_type": "execute_result"
    }
   ],
   "source": [
    "y[500:510]"
   ]
  },
  {
   "cell_type": "code",
   "execution_count": 43,
   "metadata": {},
   "outputs": [
    {
     "data": {
      "text/plain": [
       "array([ 0,  1,  2,  3,  4,  5,  6,  7,  8,  9, 10, 11, 12, 13, 14, 15, 16,\n",
       "       17, 18, 19, 20])"
      ]
     },
     "execution_count": 43,
     "metadata": {},
     "output_type": "execute_result"
    }
   ],
   "source": [
    "mlb.classes_"
   ]
  },
  {
   "cell_type": "code",
   "execution_count": 44,
   "metadata": {},
   "outputs": [
    {
     "name": "stderr",
     "output_type": "stream",
     "text": [
      "C:\\Users\\mriva\\.conda\\envs\\torch\\lib\\site-packages\\sklearn\\utils\\validation.py:70: FutureWarning: Pass n_neighbors=1 as keyword args. From version 0.25 passing these as positional arguments will result in an error\n",
      "  FutureWarning)\n"
     ]
    },
    {
     "ename": "KeyboardInterrupt",
     "evalue": "",
     "output_type": "error",
     "traceback": [
      "\u001b[1;31m---------------------------------------------------------------------------\u001b[0m",
      "\u001b[1;31mKeyboardInterrupt\u001b[0m                         Traceback (most recent call last)",
      "\u001b[1;32m<timed exec>\u001b[0m in \u001b[0;36m<module>\u001b[1;34m\u001b[0m\n",
      "\u001b[1;32m~\\.conda\\envs\\torch\\lib\\site-packages\\sklearn\\utils\\validation.py\u001b[0m in \u001b[0;36minner_f\u001b[1;34m(*args, **kwargs)\u001b[0m\n\u001b[0;32m     70\u001b[0m                           FutureWarning)\n\u001b[0;32m     71\u001b[0m         \u001b[0mkwargs\u001b[0m\u001b[1;33m.\u001b[0m\u001b[0mupdate\u001b[0m\u001b[1;33m(\u001b[0m\u001b[1;33m{\u001b[0m\u001b[0mk\u001b[0m\u001b[1;33m:\u001b[0m \u001b[0marg\u001b[0m \u001b[1;32mfor\u001b[0m \u001b[0mk\u001b[0m\u001b[1;33m,\u001b[0m \u001b[0marg\u001b[0m \u001b[1;32min\u001b[0m \u001b[0mzip\u001b[0m\u001b[1;33m(\u001b[0m\u001b[0msig\u001b[0m\u001b[1;33m.\u001b[0m\u001b[0mparameters\u001b[0m\u001b[1;33m,\u001b[0m \u001b[0margs\u001b[0m\u001b[1;33m)\u001b[0m\u001b[1;33m}\u001b[0m\u001b[1;33m)\u001b[0m\u001b[1;33m\u001b[0m\u001b[1;33m\u001b[0m\u001b[0m\n\u001b[1;32m---> 72\u001b[1;33m         \u001b[1;32mreturn\u001b[0m \u001b[0mf\u001b[0m\u001b[1;33m(\u001b[0m\u001b[1;33m**\u001b[0m\u001b[0mkwargs\u001b[0m\u001b[1;33m)\u001b[0m\u001b[1;33m\u001b[0m\u001b[1;33m\u001b[0m\u001b[0m\n\u001b[0m\u001b[0;32m     73\u001b[0m     \u001b[1;32mreturn\u001b[0m \u001b[0minner_f\u001b[0m\u001b[1;33m\u001b[0m\u001b[1;33m\u001b[0m\u001b[0m\n\u001b[0;32m     74\u001b[0m \u001b[1;33m\u001b[0m\u001b[0m\n",
      "\u001b[1;32m~\\.conda\\envs\\torch\\lib\\site-packages\\sklearn\\model_selection\\_search.py\u001b[0m in \u001b[0;36mfit\u001b[1;34m(self, X, y, groups, **fit_params)\u001b[0m\n\u001b[0;32m    734\u001b[0m                 \u001b[1;32mreturn\u001b[0m \u001b[0mresults\u001b[0m\u001b[1;33m\u001b[0m\u001b[1;33m\u001b[0m\u001b[0m\n\u001b[0;32m    735\u001b[0m \u001b[1;33m\u001b[0m\u001b[0m\n\u001b[1;32m--> 736\u001b[1;33m             \u001b[0mself\u001b[0m\u001b[1;33m.\u001b[0m\u001b[0m_run_search\u001b[0m\u001b[1;33m(\u001b[0m\u001b[0mevaluate_candidates\u001b[0m\u001b[1;33m)\u001b[0m\u001b[1;33m\u001b[0m\u001b[1;33m\u001b[0m\u001b[0m\n\u001b[0m\u001b[0;32m    737\u001b[0m \u001b[1;33m\u001b[0m\u001b[0m\n\u001b[0;32m    738\u001b[0m         \u001b[1;31m# For multi-metric evaluation, store the best_index_, best_params_ and\u001b[0m\u001b[1;33m\u001b[0m\u001b[1;33m\u001b[0m\u001b[1;33m\u001b[0m\u001b[0m\n",
      "\u001b[1;32m~\\.conda\\envs\\torch\\lib\\site-packages\\sklearn\\model_selection\\_search.py\u001b[0m in \u001b[0;36m_run_search\u001b[1;34m(self, evaluate_candidates)\u001b[0m\n\u001b[0;32m   1186\u001b[0m     \u001b[1;32mdef\u001b[0m \u001b[0m_run_search\u001b[0m\u001b[1;33m(\u001b[0m\u001b[0mself\u001b[0m\u001b[1;33m,\u001b[0m \u001b[0mevaluate_candidates\u001b[0m\u001b[1;33m)\u001b[0m\u001b[1;33m:\u001b[0m\u001b[1;33m\u001b[0m\u001b[1;33m\u001b[0m\u001b[0m\n\u001b[0;32m   1187\u001b[0m         \u001b[1;34m\"\"\"Search all candidates in param_grid\"\"\"\u001b[0m\u001b[1;33m\u001b[0m\u001b[1;33m\u001b[0m\u001b[0m\n\u001b[1;32m-> 1188\u001b[1;33m         \u001b[0mevaluate_candidates\u001b[0m\u001b[1;33m(\u001b[0m\u001b[0mParameterGrid\u001b[0m\u001b[1;33m(\u001b[0m\u001b[0mself\u001b[0m\u001b[1;33m.\u001b[0m\u001b[0mparam_grid\u001b[0m\u001b[1;33m)\u001b[0m\u001b[1;33m)\u001b[0m\u001b[1;33m\u001b[0m\u001b[1;33m\u001b[0m\u001b[0m\n\u001b[0m\u001b[0;32m   1189\u001b[0m \u001b[1;33m\u001b[0m\u001b[0m\n\u001b[0;32m   1190\u001b[0m \u001b[1;33m\u001b[0m\u001b[0m\n",
      "\u001b[1;32m~\\.conda\\envs\\torch\\lib\\site-packages\\sklearn\\model_selection\\_search.py\u001b[0m in \u001b[0;36mevaluate_candidates\u001b[1;34m(candidate_params)\u001b[0m\n\u001b[0;32m    713\u001b[0m                                \u001b[1;32mfor\u001b[0m \u001b[0mparameters\u001b[0m\u001b[1;33m,\u001b[0m \u001b[1;33m(\u001b[0m\u001b[0mtrain\u001b[0m\u001b[1;33m,\u001b[0m \u001b[0mtest\u001b[0m\u001b[1;33m)\u001b[0m\u001b[1;33m\u001b[0m\u001b[1;33m\u001b[0m\u001b[0m\n\u001b[0;32m    714\u001b[0m                                in product(candidate_params,\n\u001b[1;32m--> 715\u001b[1;33m                                           cv.split(X, y, groups)))\n\u001b[0m\u001b[0;32m    716\u001b[0m \u001b[1;33m\u001b[0m\u001b[0m\n\u001b[0;32m    717\u001b[0m                 \u001b[1;32mif\u001b[0m \u001b[0mlen\u001b[0m\u001b[1;33m(\u001b[0m\u001b[0mout\u001b[0m\u001b[1;33m)\u001b[0m \u001b[1;33m<\u001b[0m \u001b[1;36m1\u001b[0m\u001b[1;33m:\u001b[0m\u001b[1;33m\u001b[0m\u001b[1;33m\u001b[0m\u001b[0m\n",
      "\u001b[1;32m~\\.conda\\envs\\torch\\lib\\site-packages\\joblib\\parallel.py\u001b[0m in \u001b[0;36m__call__\u001b[1;34m(self, iterable)\u001b[0m\n\u001b[0;32m   1046\u001b[0m             \u001b[1;31m# remaining jobs.\u001b[0m\u001b[1;33m\u001b[0m\u001b[1;33m\u001b[0m\u001b[1;33m\u001b[0m\u001b[0m\n\u001b[0;32m   1047\u001b[0m             \u001b[0mself\u001b[0m\u001b[1;33m.\u001b[0m\u001b[0m_iterating\u001b[0m \u001b[1;33m=\u001b[0m \u001b[1;32mFalse\u001b[0m\u001b[1;33m\u001b[0m\u001b[1;33m\u001b[0m\u001b[0m\n\u001b[1;32m-> 1048\u001b[1;33m             \u001b[1;32mif\u001b[0m \u001b[0mself\u001b[0m\u001b[1;33m.\u001b[0m\u001b[0mdispatch_one_batch\u001b[0m\u001b[1;33m(\u001b[0m\u001b[0miterator\u001b[0m\u001b[1;33m)\u001b[0m\u001b[1;33m:\u001b[0m\u001b[1;33m\u001b[0m\u001b[1;33m\u001b[0m\u001b[0m\n\u001b[0m\u001b[0;32m   1049\u001b[0m                 \u001b[0mself\u001b[0m\u001b[1;33m.\u001b[0m\u001b[0m_iterating\u001b[0m \u001b[1;33m=\u001b[0m \u001b[0mself\u001b[0m\u001b[1;33m.\u001b[0m\u001b[0m_original_iterator\u001b[0m \u001b[1;32mis\u001b[0m \u001b[1;32mnot\u001b[0m \u001b[1;32mNone\u001b[0m\u001b[1;33m\u001b[0m\u001b[1;33m\u001b[0m\u001b[0m\n\u001b[0;32m   1050\u001b[0m \u001b[1;33m\u001b[0m\u001b[0m\n",
      "\u001b[1;32m~\\.conda\\envs\\torch\\lib\\site-packages\\joblib\\parallel.py\u001b[0m in \u001b[0;36mdispatch_one_batch\u001b[1;34m(self, iterator)\u001b[0m\n\u001b[0;32m    864\u001b[0m                 \u001b[1;32mreturn\u001b[0m \u001b[1;32mFalse\u001b[0m\u001b[1;33m\u001b[0m\u001b[1;33m\u001b[0m\u001b[0m\n\u001b[0;32m    865\u001b[0m             \u001b[1;32melse\u001b[0m\u001b[1;33m:\u001b[0m\u001b[1;33m\u001b[0m\u001b[1;33m\u001b[0m\u001b[0m\n\u001b[1;32m--> 866\u001b[1;33m                 \u001b[0mself\u001b[0m\u001b[1;33m.\u001b[0m\u001b[0m_dispatch\u001b[0m\u001b[1;33m(\u001b[0m\u001b[0mtasks\u001b[0m\u001b[1;33m)\u001b[0m\u001b[1;33m\u001b[0m\u001b[1;33m\u001b[0m\u001b[0m\n\u001b[0m\u001b[0;32m    867\u001b[0m                 \u001b[1;32mreturn\u001b[0m \u001b[1;32mTrue\u001b[0m\u001b[1;33m\u001b[0m\u001b[1;33m\u001b[0m\u001b[0m\n\u001b[0;32m    868\u001b[0m \u001b[1;33m\u001b[0m\u001b[0m\n",
      "\u001b[1;32m~\\.conda\\envs\\torch\\lib\\site-packages\\joblib\\parallel.py\u001b[0m in \u001b[0;36m_dispatch\u001b[1;34m(self, batch)\u001b[0m\n\u001b[0;32m    782\u001b[0m         \u001b[1;32mwith\u001b[0m \u001b[0mself\u001b[0m\u001b[1;33m.\u001b[0m\u001b[0m_lock\u001b[0m\u001b[1;33m:\u001b[0m\u001b[1;33m\u001b[0m\u001b[1;33m\u001b[0m\u001b[0m\n\u001b[0;32m    783\u001b[0m             \u001b[0mjob_idx\u001b[0m \u001b[1;33m=\u001b[0m \u001b[0mlen\u001b[0m\u001b[1;33m(\u001b[0m\u001b[0mself\u001b[0m\u001b[1;33m.\u001b[0m\u001b[0m_jobs\u001b[0m\u001b[1;33m)\u001b[0m\u001b[1;33m\u001b[0m\u001b[1;33m\u001b[0m\u001b[0m\n\u001b[1;32m--> 784\u001b[1;33m             \u001b[0mjob\u001b[0m \u001b[1;33m=\u001b[0m \u001b[0mself\u001b[0m\u001b[1;33m.\u001b[0m\u001b[0m_backend\u001b[0m\u001b[1;33m.\u001b[0m\u001b[0mapply_async\u001b[0m\u001b[1;33m(\u001b[0m\u001b[0mbatch\u001b[0m\u001b[1;33m,\u001b[0m \u001b[0mcallback\u001b[0m\u001b[1;33m=\u001b[0m\u001b[0mcb\u001b[0m\u001b[1;33m)\u001b[0m\u001b[1;33m\u001b[0m\u001b[1;33m\u001b[0m\u001b[0m\n\u001b[0m\u001b[0;32m    785\u001b[0m             \u001b[1;31m# A job can complete so quickly than its callback is\u001b[0m\u001b[1;33m\u001b[0m\u001b[1;33m\u001b[0m\u001b[1;33m\u001b[0m\u001b[0m\n\u001b[0;32m    786\u001b[0m             \u001b[1;31m# called before we get here, causing self._jobs to\u001b[0m\u001b[1;33m\u001b[0m\u001b[1;33m\u001b[0m\u001b[1;33m\u001b[0m\u001b[0m\n",
      "\u001b[1;32m~\\.conda\\envs\\torch\\lib\\site-packages\\joblib\\_parallel_backends.py\u001b[0m in \u001b[0;36mapply_async\u001b[1;34m(self, func, callback)\u001b[0m\n\u001b[0;32m    206\u001b[0m     \u001b[1;32mdef\u001b[0m \u001b[0mapply_async\u001b[0m\u001b[1;33m(\u001b[0m\u001b[0mself\u001b[0m\u001b[1;33m,\u001b[0m \u001b[0mfunc\u001b[0m\u001b[1;33m,\u001b[0m \u001b[0mcallback\u001b[0m\u001b[1;33m=\u001b[0m\u001b[1;32mNone\u001b[0m\u001b[1;33m)\u001b[0m\u001b[1;33m:\u001b[0m\u001b[1;33m\u001b[0m\u001b[1;33m\u001b[0m\u001b[0m\n\u001b[0;32m    207\u001b[0m         \u001b[1;34m\"\"\"Schedule a func to be run\"\"\"\u001b[0m\u001b[1;33m\u001b[0m\u001b[1;33m\u001b[0m\u001b[0m\n\u001b[1;32m--> 208\u001b[1;33m         \u001b[0mresult\u001b[0m \u001b[1;33m=\u001b[0m \u001b[0mImmediateResult\u001b[0m\u001b[1;33m(\u001b[0m\u001b[0mfunc\u001b[0m\u001b[1;33m)\u001b[0m\u001b[1;33m\u001b[0m\u001b[1;33m\u001b[0m\u001b[0m\n\u001b[0m\u001b[0;32m    209\u001b[0m         \u001b[1;32mif\u001b[0m \u001b[0mcallback\u001b[0m\u001b[1;33m:\u001b[0m\u001b[1;33m\u001b[0m\u001b[1;33m\u001b[0m\u001b[0m\n\u001b[0;32m    210\u001b[0m             \u001b[0mcallback\u001b[0m\u001b[1;33m(\u001b[0m\u001b[0mresult\u001b[0m\u001b[1;33m)\u001b[0m\u001b[1;33m\u001b[0m\u001b[1;33m\u001b[0m\u001b[0m\n",
      "\u001b[1;32m~\\.conda\\envs\\torch\\lib\\site-packages\\joblib\\_parallel_backends.py\u001b[0m in \u001b[0;36m__init__\u001b[1;34m(self, batch)\u001b[0m\n\u001b[0;32m    570\u001b[0m         \u001b[1;31m# Don't delay the application, to avoid keeping the input\u001b[0m\u001b[1;33m\u001b[0m\u001b[1;33m\u001b[0m\u001b[1;33m\u001b[0m\u001b[0m\n\u001b[0;32m    571\u001b[0m         \u001b[1;31m# arguments in memory\u001b[0m\u001b[1;33m\u001b[0m\u001b[1;33m\u001b[0m\u001b[1;33m\u001b[0m\u001b[0m\n\u001b[1;32m--> 572\u001b[1;33m         \u001b[0mself\u001b[0m\u001b[1;33m.\u001b[0m\u001b[0mresults\u001b[0m \u001b[1;33m=\u001b[0m \u001b[0mbatch\u001b[0m\u001b[1;33m(\u001b[0m\u001b[1;33m)\u001b[0m\u001b[1;33m\u001b[0m\u001b[1;33m\u001b[0m\u001b[0m\n\u001b[0m\u001b[0;32m    573\u001b[0m \u001b[1;33m\u001b[0m\u001b[0m\n\u001b[0;32m    574\u001b[0m     \u001b[1;32mdef\u001b[0m \u001b[0mget\u001b[0m\u001b[1;33m(\u001b[0m\u001b[0mself\u001b[0m\u001b[1;33m)\u001b[0m\u001b[1;33m:\u001b[0m\u001b[1;33m\u001b[0m\u001b[1;33m\u001b[0m\u001b[0m\n",
      "\u001b[1;32m~\\.conda\\envs\\torch\\lib\\site-packages\\joblib\\parallel.py\u001b[0m in \u001b[0;36m__call__\u001b[1;34m(self)\u001b[0m\n\u001b[0;32m    261\u001b[0m         \u001b[1;32mwith\u001b[0m \u001b[0mparallel_backend\u001b[0m\u001b[1;33m(\u001b[0m\u001b[0mself\u001b[0m\u001b[1;33m.\u001b[0m\u001b[0m_backend\u001b[0m\u001b[1;33m,\u001b[0m \u001b[0mn_jobs\u001b[0m\u001b[1;33m=\u001b[0m\u001b[0mself\u001b[0m\u001b[1;33m.\u001b[0m\u001b[0m_n_jobs\u001b[0m\u001b[1;33m)\u001b[0m\u001b[1;33m:\u001b[0m\u001b[1;33m\u001b[0m\u001b[1;33m\u001b[0m\u001b[0m\n\u001b[0;32m    262\u001b[0m             return [func(*args, **kwargs)\n\u001b[1;32m--> 263\u001b[1;33m                     for func, args, kwargs in self.items]\n\u001b[0m\u001b[0;32m    264\u001b[0m \u001b[1;33m\u001b[0m\u001b[0m\n\u001b[0;32m    265\u001b[0m     \u001b[1;32mdef\u001b[0m \u001b[0m__reduce__\u001b[0m\u001b[1;33m(\u001b[0m\u001b[0mself\u001b[0m\u001b[1;33m)\u001b[0m\u001b[1;33m:\u001b[0m\u001b[1;33m\u001b[0m\u001b[1;33m\u001b[0m\u001b[0m\n",
      "\u001b[1;32m~\\.conda\\envs\\torch\\lib\\site-packages\\joblib\\parallel.py\u001b[0m in \u001b[0;36m<listcomp>\u001b[1;34m(.0)\u001b[0m\n\u001b[0;32m    261\u001b[0m         \u001b[1;32mwith\u001b[0m \u001b[0mparallel_backend\u001b[0m\u001b[1;33m(\u001b[0m\u001b[0mself\u001b[0m\u001b[1;33m.\u001b[0m\u001b[0m_backend\u001b[0m\u001b[1;33m,\u001b[0m \u001b[0mn_jobs\u001b[0m\u001b[1;33m=\u001b[0m\u001b[0mself\u001b[0m\u001b[1;33m.\u001b[0m\u001b[0m_n_jobs\u001b[0m\u001b[1;33m)\u001b[0m\u001b[1;33m:\u001b[0m\u001b[1;33m\u001b[0m\u001b[1;33m\u001b[0m\u001b[0m\n\u001b[0;32m    262\u001b[0m             return [func(*args, **kwargs)\n\u001b[1;32m--> 263\u001b[1;33m                     for func, args, kwargs in self.items]\n\u001b[0m\u001b[0;32m    264\u001b[0m \u001b[1;33m\u001b[0m\u001b[0m\n\u001b[0;32m    265\u001b[0m     \u001b[1;32mdef\u001b[0m \u001b[0m__reduce__\u001b[0m\u001b[1;33m(\u001b[0m\u001b[0mself\u001b[0m\u001b[1;33m)\u001b[0m\u001b[1;33m:\u001b[0m\u001b[1;33m\u001b[0m\u001b[1;33m\u001b[0m\u001b[0m\n",
      "\u001b[1;32m~\\.conda\\envs\\torch\\lib\\site-packages\\sklearn\\model_selection\\_validation.py\u001b[0m in \u001b[0;36m_fit_and_score\u001b[1;34m(estimator, X, y, scorer, train, test, verbose, parameters, fit_params, return_train_score, return_parameters, return_n_test_samples, return_times, return_estimator, error_score)\u001b[0m\n\u001b[0;32m    558\u001b[0m     \u001b[1;32melse\u001b[0m\u001b[1;33m:\u001b[0m\u001b[1;33m\u001b[0m\u001b[1;33m\u001b[0m\u001b[0m\n\u001b[0;32m    559\u001b[0m         \u001b[0mfit_time\u001b[0m \u001b[1;33m=\u001b[0m \u001b[0mtime\u001b[0m\u001b[1;33m.\u001b[0m\u001b[0mtime\u001b[0m\u001b[1;33m(\u001b[0m\u001b[1;33m)\u001b[0m \u001b[1;33m-\u001b[0m \u001b[0mstart_time\u001b[0m\u001b[1;33m\u001b[0m\u001b[1;33m\u001b[0m\u001b[0m\n\u001b[1;32m--> 560\u001b[1;33m         \u001b[0mtest_scores\u001b[0m \u001b[1;33m=\u001b[0m \u001b[0m_score\u001b[0m\u001b[1;33m(\u001b[0m\u001b[0mestimator\u001b[0m\u001b[1;33m,\u001b[0m \u001b[0mX_test\u001b[0m\u001b[1;33m,\u001b[0m \u001b[0my_test\u001b[0m\u001b[1;33m,\u001b[0m \u001b[0mscorer\u001b[0m\u001b[1;33m)\u001b[0m\u001b[1;33m\u001b[0m\u001b[1;33m\u001b[0m\u001b[0m\n\u001b[0m\u001b[0;32m    561\u001b[0m         \u001b[0mscore_time\u001b[0m \u001b[1;33m=\u001b[0m \u001b[0mtime\u001b[0m\u001b[1;33m.\u001b[0m\u001b[0mtime\u001b[0m\u001b[1;33m(\u001b[0m\u001b[1;33m)\u001b[0m \u001b[1;33m-\u001b[0m \u001b[0mstart_time\u001b[0m \u001b[1;33m-\u001b[0m \u001b[0mfit_time\u001b[0m\u001b[1;33m\u001b[0m\u001b[1;33m\u001b[0m\u001b[0m\n\u001b[0;32m    562\u001b[0m         \u001b[1;32mif\u001b[0m \u001b[0mreturn_train_score\u001b[0m\u001b[1;33m:\u001b[0m\u001b[1;33m\u001b[0m\u001b[1;33m\u001b[0m\u001b[0m\n",
      "\u001b[1;32m~\\.conda\\envs\\torch\\lib\\site-packages\\sklearn\\model_selection\\_validation.py\u001b[0m in \u001b[0;36m_score\u001b[1;34m(estimator, X_test, y_test, scorer)\u001b[0m\n\u001b[0;32m    605\u001b[0m         \u001b[0mscores\u001b[0m \u001b[1;33m=\u001b[0m \u001b[0mscorer\u001b[0m\u001b[1;33m(\u001b[0m\u001b[0mestimator\u001b[0m\u001b[1;33m,\u001b[0m \u001b[0mX_test\u001b[0m\u001b[1;33m)\u001b[0m\u001b[1;33m\u001b[0m\u001b[1;33m\u001b[0m\u001b[0m\n\u001b[0;32m    606\u001b[0m     \u001b[1;32melse\u001b[0m\u001b[1;33m:\u001b[0m\u001b[1;33m\u001b[0m\u001b[1;33m\u001b[0m\u001b[0m\n\u001b[1;32m--> 607\u001b[1;33m         \u001b[0mscores\u001b[0m \u001b[1;33m=\u001b[0m \u001b[0mscorer\u001b[0m\u001b[1;33m(\u001b[0m\u001b[0mestimator\u001b[0m\u001b[1;33m,\u001b[0m \u001b[0mX_test\u001b[0m\u001b[1;33m,\u001b[0m \u001b[0my_test\u001b[0m\u001b[1;33m)\u001b[0m\u001b[1;33m\u001b[0m\u001b[1;33m\u001b[0m\u001b[0m\n\u001b[0m\u001b[0;32m    608\u001b[0m \u001b[1;33m\u001b[0m\u001b[0m\n\u001b[0;32m    609\u001b[0m     error_msg = (\"scoring must return a number, got %s (%s) \"\n",
      "\u001b[1;32m~\\.conda\\envs\\torch\\lib\\site-packages\\sklearn\\metrics\\_scorer.py\u001b[0m in \u001b[0;36m__call__\u001b[1;34m(self, estimator, *args, **kwargs)\u001b[0m\n\u001b[0;32m     86\u001b[0m             \u001b[1;32mif\u001b[0m \u001b[0misinstance\u001b[0m\u001b[1;33m(\u001b[0m\u001b[0mscorer\u001b[0m\u001b[1;33m,\u001b[0m \u001b[0m_BaseScorer\u001b[0m\u001b[1;33m)\u001b[0m\u001b[1;33m:\u001b[0m\u001b[1;33m\u001b[0m\u001b[1;33m\u001b[0m\u001b[0m\n\u001b[0;32m     87\u001b[0m                 score = scorer._score(cached_call, estimator,\n\u001b[1;32m---> 88\u001b[1;33m                                       *args, **kwargs)\n\u001b[0m\u001b[0;32m     89\u001b[0m             \u001b[1;32melse\u001b[0m\u001b[1;33m:\u001b[0m\u001b[1;33m\u001b[0m\u001b[1;33m\u001b[0m\u001b[0m\n\u001b[0;32m     90\u001b[0m                 \u001b[0mscore\u001b[0m \u001b[1;33m=\u001b[0m \u001b[0mscorer\u001b[0m\u001b[1;33m(\u001b[0m\u001b[0mestimator\u001b[0m\u001b[1;33m,\u001b[0m \u001b[1;33m*\u001b[0m\u001b[0margs\u001b[0m\u001b[1;33m,\u001b[0m \u001b[1;33m**\u001b[0m\u001b[0mkwargs\u001b[0m\u001b[1;33m)\u001b[0m\u001b[1;33m\u001b[0m\u001b[1;33m\u001b[0m\u001b[0m\n",
      "\u001b[1;32m~\\.conda\\envs\\torch\\lib\\site-packages\\sklearn\\metrics\\_scorer.py\u001b[0m in \u001b[0;36m_score\u001b[1;34m(self, method_caller, estimator, X, y_true, sample_weight)\u001b[0m\n\u001b[0;32m    204\u001b[0m         \"\"\"\n\u001b[0;32m    205\u001b[0m \u001b[1;33m\u001b[0m\u001b[0m\n\u001b[1;32m--> 206\u001b[1;33m         \u001b[0my_pred\u001b[0m \u001b[1;33m=\u001b[0m \u001b[0mmethod_caller\u001b[0m\u001b[1;33m(\u001b[0m\u001b[0mestimator\u001b[0m\u001b[1;33m,\u001b[0m \u001b[1;34m\"predict\"\u001b[0m\u001b[1;33m,\u001b[0m \u001b[0mX\u001b[0m\u001b[1;33m)\u001b[0m\u001b[1;33m\u001b[0m\u001b[1;33m\u001b[0m\u001b[0m\n\u001b[0m\u001b[0;32m    207\u001b[0m         \u001b[1;32mif\u001b[0m \u001b[0msample_weight\u001b[0m \u001b[1;32mis\u001b[0m \u001b[1;32mnot\u001b[0m \u001b[1;32mNone\u001b[0m\u001b[1;33m:\u001b[0m\u001b[1;33m\u001b[0m\u001b[1;33m\u001b[0m\u001b[0m\n\u001b[0;32m    208\u001b[0m             return self._sign * self._score_func(y_true, y_pred,\n",
      "\u001b[1;32m~\\.conda\\envs\\torch\\lib\\site-packages\\sklearn\\metrics\\_scorer.py\u001b[0m in \u001b[0;36m_cached_call\u001b[1;34m(cache, estimator, method, *args, **kwargs)\u001b[0m\n\u001b[0;32m     51\u001b[0m     \u001b[1;34m\"\"\"Call estimator with method and args and kwargs.\"\"\"\u001b[0m\u001b[1;33m\u001b[0m\u001b[1;33m\u001b[0m\u001b[0m\n\u001b[0;32m     52\u001b[0m     \u001b[1;32mif\u001b[0m \u001b[0mcache\u001b[0m \u001b[1;32mis\u001b[0m \u001b[1;32mNone\u001b[0m\u001b[1;33m:\u001b[0m\u001b[1;33m\u001b[0m\u001b[1;33m\u001b[0m\u001b[0m\n\u001b[1;32m---> 53\u001b[1;33m         \u001b[1;32mreturn\u001b[0m \u001b[0mgetattr\u001b[0m\u001b[1;33m(\u001b[0m\u001b[0mestimator\u001b[0m\u001b[1;33m,\u001b[0m \u001b[0mmethod\u001b[0m\u001b[1;33m)\u001b[0m\u001b[1;33m(\u001b[0m\u001b[1;33m*\u001b[0m\u001b[0margs\u001b[0m\u001b[1;33m,\u001b[0m \u001b[1;33m**\u001b[0m\u001b[0mkwargs\u001b[0m\u001b[1;33m)\u001b[0m\u001b[1;33m\u001b[0m\u001b[1;33m\u001b[0m\u001b[0m\n\u001b[0m\u001b[0;32m     54\u001b[0m \u001b[1;33m\u001b[0m\u001b[0m\n\u001b[0;32m     55\u001b[0m     \u001b[1;32mtry\u001b[0m\u001b[1;33m:\u001b[0m\u001b[1;33m\u001b[0m\u001b[1;33m\u001b[0m\u001b[0m\n",
      "\u001b[1;32m~\\.conda\\envs\\torch\\lib\\site-packages\\skmultilearn\\adapt\\mlknn.py\u001b[0m in \u001b[0;36mpredict\u001b[1;34m(self, X)\u001b[0m\n\u001b[0;32m    236\u001b[0m         \u001b[0mresult\u001b[0m \u001b[1;33m=\u001b[0m \u001b[0msparse\u001b[0m\u001b[1;33m.\u001b[0m\u001b[0mlil_matrix\u001b[0m\u001b[1;33m(\u001b[0m\u001b[1;33m(\u001b[0m\u001b[0mX\u001b[0m\u001b[1;33m.\u001b[0m\u001b[0mshape\u001b[0m\u001b[1;33m[\u001b[0m\u001b[1;36m0\u001b[0m\u001b[1;33m]\u001b[0m\u001b[1;33m,\u001b[0m \u001b[0mself\u001b[0m\u001b[1;33m.\u001b[0m\u001b[0m_num_labels\u001b[0m\u001b[1;33m)\u001b[0m\u001b[1;33m,\u001b[0m \u001b[0mdtype\u001b[0m\u001b[1;33m=\u001b[0m\u001b[1;34m'i8'\u001b[0m\u001b[1;33m)\u001b[0m\u001b[1;33m\u001b[0m\u001b[1;33m\u001b[0m\u001b[0m\n\u001b[0;32m    237\u001b[0m         neighbors = [a[self.ignore_first_neighbours:] for a in\n\u001b[1;32m--> 238\u001b[1;33m                      self.knn_.kneighbors(X, self.k + self.ignore_first_neighbours, return_distance=False)]\n\u001b[0m\u001b[0;32m    239\u001b[0m         \u001b[1;32mfor\u001b[0m \u001b[0minstance\u001b[0m \u001b[1;32min\u001b[0m \u001b[0mrange\u001b[0m\u001b[1;33m(\u001b[0m\u001b[0mX\u001b[0m\u001b[1;33m.\u001b[0m\u001b[0mshape\u001b[0m\u001b[1;33m[\u001b[0m\u001b[1;36m0\u001b[0m\u001b[1;33m]\u001b[0m\u001b[1;33m)\u001b[0m\u001b[1;33m:\u001b[0m\u001b[1;33m\u001b[0m\u001b[1;33m\u001b[0m\u001b[0m\n\u001b[0;32m    240\u001b[0m             \u001b[0mdeltas\u001b[0m \u001b[1;33m=\u001b[0m \u001b[0mself\u001b[0m\u001b[1;33m.\u001b[0m\u001b[0m_label_cache\u001b[0m\u001b[1;33m[\u001b[0m\u001b[0mneighbors\u001b[0m\u001b[1;33m[\u001b[0m\u001b[0minstance\u001b[0m\u001b[1;33m]\u001b[0m\u001b[1;33m,\u001b[0m\u001b[1;33m]\u001b[0m\u001b[1;33m.\u001b[0m\u001b[0msum\u001b[0m\u001b[1;33m(\u001b[0m\u001b[0maxis\u001b[0m\u001b[1;33m=\u001b[0m\u001b[1;36m0\u001b[0m\u001b[1;33m)\u001b[0m\u001b[1;33m\u001b[0m\u001b[1;33m\u001b[0m\u001b[0m\n",
      "\u001b[1;32m~\\.conda\\envs\\torch\\lib\\site-packages\\sklearn\\neighbors\\_base.py\u001b[0m in \u001b[0;36mkneighbors\u001b[1;34m(self, X, n_neighbors, return_distance)\u001b[0m\n\u001b[0;32m    642\u001b[0m                 \u001b[0mX\u001b[0m\u001b[1;33m,\u001b[0m \u001b[0mself\u001b[0m\u001b[1;33m.\u001b[0m\u001b[0m_fit_X\u001b[0m\u001b[1;33m,\u001b[0m \u001b[0mreduce_func\u001b[0m\u001b[1;33m=\u001b[0m\u001b[0mreduce_func\u001b[0m\u001b[1;33m,\u001b[0m\u001b[1;33m\u001b[0m\u001b[1;33m\u001b[0m\u001b[0m\n\u001b[0;32m    643\u001b[0m                 \u001b[0mmetric\u001b[0m\u001b[1;33m=\u001b[0m\u001b[0mself\u001b[0m\u001b[1;33m.\u001b[0m\u001b[0meffective_metric_\u001b[0m\u001b[1;33m,\u001b[0m \u001b[0mn_jobs\u001b[0m\u001b[1;33m=\u001b[0m\u001b[0mn_jobs\u001b[0m\u001b[1;33m,\u001b[0m\u001b[1;33m\u001b[0m\u001b[1;33m\u001b[0m\u001b[0m\n\u001b[1;32m--> 644\u001b[1;33m                 **kwds))\n\u001b[0m\u001b[0;32m    645\u001b[0m \u001b[1;33m\u001b[0m\u001b[0m\n\u001b[0;32m    646\u001b[0m         \u001b[1;32melif\u001b[0m \u001b[0mself\u001b[0m\u001b[1;33m.\u001b[0m\u001b[0m_fit_method\u001b[0m \u001b[1;32min\u001b[0m \u001b[1;33m[\u001b[0m\u001b[1;34m'ball_tree'\u001b[0m\u001b[1;33m,\u001b[0m \u001b[1;34m'kd_tree'\u001b[0m\u001b[1;33m]\u001b[0m\u001b[1;33m:\u001b[0m\u001b[1;33m\u001b[0m\u001b[1;33m\u001b[0m\u001b[0m\n",
      "\u001b[1;32m~\\.conda\\envs\\torch\\lib\\site-packages\\sklearn\\metrics\\pairwise.py\u001b[0m in \u001b[0;36mpairwise_distances_chunked\u001b[1;34m(X, Y, reduce_func, metric, n_jobs, working_memory, **kwds)\u001b[0m\n\u001b[0;32m   1615\u001b[0m             \u001b[0mX_chunk\u001b[0m \u001b[1;33m=\u001b[0m \u001b[0mX\u001b[0m\u001b[1;33m[\u001b[0m\u001b[0msl\u001b[0m\u001b[1;33m]\u001b[0m\u001b[1;33m\u001b[0m\u001b[1;33m\u001b[0m\u001b[0m\n\u001b[0;32m   1616\u001b[0m         D_chunk = pairwise_distances(X_chunk, Y, metric=metric,\n\u001b[1;32m-> 1617\u001b[1;33m                                      n_jobs=n_jobs, **kwds)\n\u001b[0m\u001b[0;32m   1618\u001b[0m         if ((X is Y or Y is None)\n\u001b[0;32m   1619\u001b[0m                 \u001b[1;32mand\u001b[0m \u001b[0mPAIRWISE_DISTANCE_FUNCTIONS\u001b[0m\u001b[1;33m.\u001b[0m\u001b[0mget\u001b[0m\u001b[1;33m(\u001b[0m\u001b[0mmetric\u001b[0m\u001b[1;33m,\u001b[0m \u001b[1;32mNone\u001b[0m\u001b[1;33m)\u001b[0m\u001b[1;33m\u001b[0m\u001b[1;33m\u001b[0m\u001b[0m\n",
      "\u001b[1;32m~\\.conda\\envs\\torch\\lib\\site-packages\\sklearn\\utils\\validation.py\u001b[0m in \u001b[0;36minner_f\u001b[1;34m(*args, **kwargs)\u001b[0m\n\u001b[0;32m     70\u001b[0m                           FutureWarning)\n\u001b[0;32m     71\u001b[0m         \u001b[0mkwargs\u001b[0m\u001b[1;33m.\u001b[0m\u001b[0mupdate\u001b[0m\u001b[1;33m(\u001b[0m\u001b[1;33m{\u001b[0m\u001b[0mk\u001b[0m\u001b[1;33m:\u001b[0m \u001b[0marg\u001b[0m \u001b[1;32mfor\u001b[0m \u001b[0mk\u001b[0m\u001b[1;33m,\u001b[0m \u001b[0marg\u001b[0m \u001b[1;32min\u001b[0m \u001b[0mzip\u001b[0m\u001b[1;33m(\u001b[0m\u001b[0msig\u001b[0m\u001b[1;33m.\u001b[0m\u001b[0mparameters\u001b[0m\u001b[1;33m,\u001b[0m \u001b[0margs\u001b[0m\u001b[1;33m)\u001b[0m\u001b[1;33m}\u001b[0m\u001b[1;33m)\u001b[0m\u001b[1;33m\u001b[0m\u001b[1;33m\u001b[0m\u001b[0m\n\u001b[1;32m---> 72\u001b[1;33m         \u001b[1;32mreturn\u001b[0m \u001b[0mf\u001b[0m\u001b[1;33m(\u001b[0m\u001b[1;33m**\u001b[0m\u001b[0mkwargs\u001b[0m\u001b[1;33m)\u001b[0m\u001b[1;33m\u001b[0m\u001b[1;33m\u001b[0m\u001b[0m\n\u001b[0m\u001b[0;32m     73\u001b[0m     \u001b[1;32mreturn\u001b[0m \u001b[0minner_f\u001b[0m\u001b[1;33m\u001b[0m\u001b[1;33m\u001b[0m\u001b[0m\n\u001b[0;32m     74\u001b[0m \u001b[1;33m\u001b[0m\u001b[0m\n",
      "\u001b[1;32m~\\.conda\\envs\\torch\\lib\\site-packages\\sklearn\\metrics\\pairwise.py\u001b[0m in \u001b[0;36mpairwise_distances\u001b[1;34m(X, Y, metric, n_jobs, force_all_finite, **kwds)\u001b[0m\n\u001b[0;32m   1777\u001b[0m         \u001b[0mfunc\u001b[0m \u001b[1;33m=\u001b[0m \u001b[0mpartial\u001b[0m\u001b[1;33m(\u001b[0m\u001b[0mdistance\u001b[0m\u001b[1;33m.\u001b[0m\u001b[0mcdist\u001b[0m\u001b[1;33m,\u001b[0m \u001b[0mmetric\u001b[0m\u001b[1;33m=\u001b[0m\u001b[0mmetric\u001b[0m\u001b[1;33m,\u001b[0m \u001b[1;33m**\u001b[0m\u001b[0mkwds\u001b[0m\u001b[1;33m)\u001b[0m\u001b[1;33m\u001b[0m\u001b[1;33m\u001b[0m\u001b[0m\n\u001b[0;32m   1778\u001b[0m \u001b[1;33m\u001b[0m\u001b[0m\n\u001b[1;32m-> 1779\u001b[1;33m     \u001b[1;32mreturn\u001b[0m \u001b[0m_parallel_pairwise\u001b[0m\u001b[1;33m(\u001b[0m\u001b[0mX\u001b[0m\u001b[1;33m,\u001b[0m \u001b[0mY\u001b[0m\u001b[1;33m,\u001b[0m \u001b[0mfunc\u001b[0m\u001b[1;33m,\u001b[0m \u001b[0mn_jobs\u001b[0m\u001b[1;33m,\u001b[0m \u001b[1;33m**\u001b[0m\u001b[0mkwds\u001b[0m\u001b[1;33m)\u001b[0m\u001b[1;33m\u001b[0m\u001b[1;33m\u001b[0m\u001b[0m\n\u001b[0m\u001b[0;32m   1780\u001b[0m \u001b[1;33m\u001b[0m\u001b[0m\n\u001b[0;32m   1781\u001b[0m \u001b[1;33m\u001b[0m\u001b[0m\n",
      "\u001b[1;32m~\\.conda\\envs\\torch\\lib\\site-packages\\sklearn\\metrics\\pairwise.py\u001b[0m in \u001b[0;36m_parallel_pairwise\u001b[1;34m(X, Y, func, n_jobs, **kwds)\u001b[0m\n\u001b[0;32m   1358\u001b[0m \u001b[1;33m\u001b[0m\u001b[0m\n\u001b[0;32m   1359\u001b[0m     \u001b[1;32mif\u001b[0m \u001b[0meffective_n_jobs\u001b[0m\u001b[1;33m(\u001b[0m\u001b[0mn_jobs\u001b[0m\u001b[1;33m)\u001b[0m \u001b[1;33m==\u001b[0m \u001b[1;36m1\u001b[0m\u001b[1;33m:\u001b[0m\u001b[1;33m\u001b[0m\u001b[1;33m\u001b[0m\u001b[0m\n\u001b[1;32m-> 1360\u001b[1;33m         \u001b[1;32mreturn\u001b[0m \u001b[0mfunc\u001b[0m\u001b[1;33m(\u001b[0m\u001b[0mX\u001b[0m\u001b[1;33m,\u001b[0m \u001b[0mY\u001b[0m\u001b[1;33m,\u001b[0m \u001b[1;33m**\u001b[0m\u001b[0mkwds\u001b[0m\u001b[1;33m)\u001b[0m\u001b[1;33m\u001b[0m\u001b[1;33m\u001b[0m\u001b[0m\n\u001b[0m\u001b[0;32m   1361\u001b[0m \u001b[1;33m\u001b[0m\u001b[0m\n\u001b[0;32m   1362\u001b[0m     \u001b[1;31m# enforce a threading backend to prevent data communication overhead\u001b[0m\u001b[1;33m\u001b[0m\u001b[1;33m\u001b[0m\u001b[1;33m\u001b[0m\u001b[0m\n",
      "\u001b[1;32m~\\.conda\\envs\\torch\\lib\\site-packages\\sklearn\\utils\\validation.py\u001b[0m in \u001b[0;36minner_f\u001b[1;34m(*args, **kwargs)\u001b[0m\n\u001b[0;32m     70\u001b[0m                           FutureWarning)\n\u001b[0;32m     71\u001b[0m         \u001b[0mkwargs\u001b[0m\u001b[1;33m.\u001b[0m\u001b[0mupdate\u001b[0m\u001b[1;33m(\u001b[0m\u001b[1;33m{\u001b[0m\u001b[0mk\u001b[0m\u001b[1;33m:\u001b[0m \u001b[0marg\u001b[0m \u001b[1;32mfor\u001b[0m \u001b[0mk\u001b[0m\u001b[1;33m,\u001b[0m \u001b[0marg\u001b[0m \u001b[1;32min\u001b[0m \u001b[0mzip\u001b[0m\u001b[1;33m(\u001b[0m\u001b[0msig\u001b[0m\u001b[1;33m.\u001b[0m\u001b[0mparameters\u001b[0m\u001b[1;33m,\u001b[0m \u001b[0margs\u001b[0m\u001b[1;33m)\u001b[0m\u001b[1;33m}\u001b[0m\u001b[1;33m)\u001b[0m\u001b[1;33m\u001b[0m\u001b[1;33m\u001b[0m\u001b[0m\n\u001b[1;32m---> 72\u001b[1;33m         \u001b[1;32mreturn\u001b[0m \u001b[0mf\u001b[0m\u001b[1;33m(\u001b[0m\u001b[1;33m**\u001b[0m\u001b[0mkwargs\u001b[0m\u001b[1;33m)\u001b[0m\u001b[1;33m\u001b[0m\u001b[1;33m\u001b[0m\u001b[0m\n\u001b[0m\u001b[0;32m     73\u001b[0m     \u001b[1;32mreturn\u001b[0m \u001b[0minner_f\u001b[0m\u001b[1;33m\u001b[0m\u001b[1;33m\u001b[0m\u001b[0m\n\u001b[0;32m     74\u001b[0m \u001b[1;33m\u001b[0m\u001b[0m\n",
      "\u001b[1;32m~\\.conda\\envs\\torch\\lib\\site-packages\\sklearn\\metrics\\pairwise.py\u001b[0m in \u001b[0;36meuclidean_distances\u001b[1;34m(X, Y, Y_norm_squared, squared, X_norm_squared)\u001b[0m\n\u001b[0;32m    308\u001b[0m     \u001b[1;32melse\u001b[0m\u001b[1;33m:\u001b[0m\u001b[1;33m\u001b[0m\u001b[1;33m\u001b[0m\u001b[0m\n\u001b[0;32m    309\u001b[0m         \u001b[1;31m# if dtype is already float64, no need to chunk and upcast\u001b[0m\u001b[1;33m\u001b[0m\u001b[1;33m\u001b[0m\u001b[1;33m\u001b[0m\u001b[0m\n\u001b[1;32m--> 310\u001b[1;33m         \u001b[0mdistances\u001b[0m \u001b[1;33m=\u001b[0m \u001b[1;33m-\u001b[0m \u001b[1;36m2\u001b[0m \u001b[1;33m*\u001b[0m \u001b[0msafe_sparse_dot\u001b[0m\u001b[1;33m(\u001b[0m\u001b[0mX\u001b[0m\u001b[1;33m,\u001b[0m \u001b[0mY\u001b[0m\u001b[1;33m.\u001b[0m\u001b[0mT\u001b[0m\u001b[1;33m,\u001b[0m \u001b[0mdense_output\u001b[0m\u001b[1;33m=\u001b[0m\u001b[1;32mTrue\u001b[0m\u001b[1;33m)\u001b[0m\u001b[1;33m\u001b[0m\u001b[1;33m\u001b[0m\u001b[0m\n\u001b[0m\u001b[0;32m    311\u001b[0m         \u001b[0mdistances\u001b[0m \u001b[1;33m+=\u001b[0m \u001b[0mXX\u001b[0m\u001b[1;33m\u001b[0m\u001b[1;33m\u001b[0m\u001b[0m\n\u001b[0;32m    312\u001b[0m         \u001b[0mdistances\u001b[0m \u001b[1;33m+=\u001b[0m \u001b[0mYY\u001b[0m\u001b[1;33m\u001b[0m\u001b[1;33m\u001b[0m\u001b[0m\n",
      "\u001b[1;32m~\\.conda\\envs\\torch\\lib\\site-packages\\sklearn\\utils\\validation.py\u001b[0m in \u001b[0;36minner_f\u001b[1;34m(*args, **kwargs)\u001b[0m\n\u001b[0;32m     70\u001b[0m                           FutureWarning)\n\u001b[0;32m     71\u001b[0m         \u001b[0mkwargs\u001b[0m\u001b[1;33m.\u001b[0m\u001b[0mupdate\u001b[0m\u001b[1;33m(\u001b[0m\u001b[1;33m{\u001b[0m\u001b[0mk\u001b[0m\u001b[1;33m:\u001b[0m \u001b[0marg\u001b[0m \u001b[1;32mfor\u001b[0m \u001b[0mk\u001b[0m\u001b[1;33m,\u001b[0m \u001b[0marg\u001b[0m \u001b[1;32min\u001b[0m \u001b[0mzip\u001b[0m\u001b[1;33m(\u001b[0m\u001b[0msig\u001b[0m\u001b[1;33m.\u001b[0m\u001b[0mparameters\u001b[0m\u001b[1;33m,\u001b[0m \u001b[0margs\u001b[0m\u001b[1;33m)\u001b[0m\u001b[1;33m}\u001b[0m\u001b[1;33m)\u001b[0m\u001b[1;33m\u001b[0m\u001b[1;33m\u001b[0m\u001b[0m\n\u001b[1;32m---> 72\u001b[1;33m         \u001b[1;32mreturn\u001b[0m \u001b[0mf\u001b[0m\u001b[1;33m(\u001b[0m\u001b[1;33m**\u001b[0m\u001b[0mkwargs\u001b[0m\u001b[1;33m)\u001b[0m\u001b[1;33m\u001b[0m\u001b[1;33m\u001b[0m\u001b[0m\n\u001b[0m\u001b[0;32m     73\u001b[0m     \u001b[1;32mreturn\u001b[0m \u001b[0minner_f\u001b[0m\u001b[1;33m\u001b[0m\u001b[1;33m\u001b[0m\u001b[0m\n\u001b[0;32m     74\u001b[0m \u001b[1;33m\u001b[0m\u001b[0m\n",
      "\u001b[1;32m~\\.conda\\envs\\torch\\lib\\site-packages\\sklearn\\utils\\extmath.py\u001b[0m in \u001b[0;36msafe_sparse_dot\u001b[1;34m(a, b, dense_output)\u001b[0m\n\u001b[0;32m    151\u001b[0m             \u001b[0mret\u001b[0m \u001b[1;33m=\u001b[0m \u001b[0mnp\u001b[0m\u001b[1;33m.\u001b[0m\u001b[0mdot\u001b[0m\u001b[1;33m(\u001b[0m\u001b[0ma\u001b[0m\u001b[1;33m,\u001b[0m \u001b[0mb\u001b[0m\u001b[1;33m)\u001b[0m\u001b[1;33m\u001b[0m\u001b[1;33m\u001b[0m\u001b[0m\n\u001b[0;32m    152\u001b[0m     \u001b[1;32melse\u001b[0m\u001b[1;33m:\u001b[0m\u001b[1;33m\u001b[0m\u001b[1;33m\u001b[0m\u001b[0m\n\u001b[1;32m--> 153\u001b[1;33m         \u001b[0mret\u001b[0m \u001b[1;33m=\u001b[0m \u001b[0ma\u001b[0m \u001b[1;33m@\u001b[0m \u001b[0mb\u001b[0m\u001b[1;33m\u001b[0m\u001b[1;33m\u001b[0m\u001b[0m\n\u001b[0m\u001b[0;32m    154\u001b[0m \u001b[1;33m\u001b[0m\u001b[0m\n\u001b[0;32m    155\u001b[0m     if (sparse.issparse(a) and sparse.issparse(b)\n",
      "\u001b[1;32m~\\.conda\\envs\\torch\\lib\\site-packages\\scipy\\sparse\\base.py\u001b[0m in \u001b[0;36m__matmul__\u001b[1;34m(self, other)\u001b[0m\n\u001b[0;32m    558\u001b[0m             raise ValueError(\"Scalar operands are not allowed, \"\n\u001b[0;32m    559\u001b[0m                              \"use '*' instead\")\n\u001b[1;32m--> 560\u001b[1;33m         \u001b[1;32mreturn\u001b[0m \u001b[0mself\u001b[0m\u001b[1;33m.\u001b[0m\u001b[0m__mul__\u001b[0m\u001b[1;33m(\u001b[0m\u001b[0mother\u001b[0m\u001b[1;33m)\u001b[0m\u001b[1;33m\u001b[0m\u001b[1;33m\u001b[0m\u001b[0m\n\u001b[0m\u001b[0;32m    561\u001b[0m \u001b[1;33m\u001b[0m\u001b[0m\n\u001b[0;32m    562\u001b[0m     \u001b[1;32mdef\u001b[0m \u001b[0m__rmatmul__\u001b[0m\u001b[1;33m(\u001b[0m\u001b[0mself\u001b[0m\u001b[1;33m,\u001b[0m \u001b[0mother\u001b[0m\u001b[1;33m)\u001b[0m\u001b[1;33m:\u001b[0m\u001b[1;33m\u001b[0m\u001b[1;33m\u001b[0m\u001b[0m\n",
      "\u001b[1;32m~\\.conda\\envs\\torch\\lib\\site-packages\\scipy\\sparse\\base.py\u001b[0m in \u001b[0;36m__mul__\u001b[1;34m(self, other)\u001b[0m\n\u001b[0;32m    478\u001b[0m             \u001b[1;32mif\u001b[0m \u001b[0mself\u001b[0m\u001b[1;33m.\u001b[0m\u001b[0mshape\u001b[0m\u001b[1;33m[\u001b[0m\u001b[1;36m1\u001b[0m\u001b[1;33m]\u001b[0m \u001b[1;33m!=\u001b[0m \u001b[0mother\u001b[0m\u001b[1;33m.\u001b[0m\u001b[0mshape\u001b[0m\u001b[1;33m[\u001b[0m\u001b[1;36m0\u001b[0m\u001b[1;33m]\u001b[0m\u001b[1;33m:\u001b[0m\u001b[1;33m\u001b[0m\u001b[1;33m\u001b[0m\u001b[0m\n\u001b[0;32m    479\u001b[0m                 \u001b[1;32mraise\u001b[0m \u001b[0mValueError\u001b[0m\u001b[1;33m(\u001b[0m\u001b[1;34m'dimension mismatch'\u001b[0m\u001b[1;33m)\u001b[0m\u001b[1;33m\u001b[0m\u001b[1;33m\u001b[0m\u001b[0m\n\u001b[1;32m--> 480\u001b[1;33m             \u001b[1;32mreturn\u001b[0m \u001b[0mself\u001b[0m\u001b[1;33m.\u001b[0m\u001b[0m_mul_sparse_matrix\u001b[0m\u001b[1;33m(\u001b[0m\u001b[0mother\u001b[0m\u001b[1;33m)\u001b[0m\u001b[1;33m\u001b[0m\u001b[1;33m\u001b[0m\u001b[0m\n\u001b[0m\u001b[0;32m    481\u001b[0m \u001b[1;33m\u001b[0m\u001b[0m\n\u001b[0;32m    482\u001b[0m         \u001b[1;31m# If it's a list or whatever, treat it like a matrix\u001b[0m\u001b[1;33m\u001b[0m\u001b[1;33m\u001b[0m\u001b[1;33m\u001b[0m\u001b[0m\n",
      "\u001b[1;32m~\\.conda\\envs\\torch\\lib\\site-packages\\scipy\\sparse\\compressed.py\u001b[0m in \u001b[0;36m_mul_sparse_matrix\u001b[1;34m(self, other)\u001b[0m\n\u001b[0;32m    524\u001b[0m            \u001b[0mnp\u001b[0m\u001b[1;33m.\u001b[0m\u001b[0masarray\u001b[0m\u001b[1;33m(\u001b[0m\u001b[0mother\u001b[0m\u001b[1;33m.\u001b[0m\u001b[0mindices\u001b[0m\u001b[1;33m,\u001b[0m \u001b[0mdtype\u001b[0m\u001b[1;33m=\u001b[0m\u001b[0midx_dtype\u001b[0m\u001b[1;33m)\u001b[0m\u001b[1;33m,\u001b[0m\u001b[1;33m\u001b[0m\u001b[1;33m\u001b[0m\u001b[0m\n\u001b[0;32m    525\u001b[0m            \u001b[0mother\u001b[0m\u001b[1;33m.\u001b[0m\u001b[0mdata\u001b[0m\u001b[1;33m,\u001b[0m\u001b[1;33m\u001b[0m\u001b[1;33m\u001b[0m\u001b[0m\n\u001b[1;32m--> 526\u001b[1;33m            indptr, indices, data)\n\u001b[0m\u001b[0;32m    527\u001b[0m \u001b[1;33m\u001b[0m\u001b[0m\n\u001b[0;32m    528\u001b[0m         \u001b[1;32mreturn\u001b[0m \u001b[0mself\u001b[0m\u001b[1;33m.\u001b[0m\u001b[0m__class__\u001b[0m\u001b[1;33m(\u001b[0m\u001b[1;33m(\u001b[0m\u001b[0mdata\u001b[0m\u001b[1;33m,\u001b[0m \u001b[0mindices\u001b[0m\u001b[1;33m,\u001b[0m \u001b[0mindptr\u001b[0m\u001b[1;33m)\u001b[0m\u001b[1;33m,\u001b[0m \u001b[0mshape\u001b[0m\u001b[1;33m=\u001b[0m\u001b[1;33m(\u001b[0m\u001b[0mM\u001b[0m\u001b[1;33m,\u001b[0m \u001b[0mN\u001b[0m\u001b[1;33m)\u001b[0m\u001b[1;33m)\u001b[0m\u001b[1;33m\u001b[0m\u001b[1;33m\u001b[0m\u001b[0m\n",
      "\u001b[1;31mKeyboardInterrupt\u001b[0m: "
     ]
    }
   ],
   "source": [
    "%%time\n",
    "parameters = {'k': range(1,3), 's': [0.5, 0.7, 1.0]}\n",
    "score = 'f1_macro'\n",
    "\n",
    "clf = GridSearchCV(MLkNN(), parameters, scoring=score)\n",
    "clf.fit(X, y)\n",
    "\n",
    "print('best parameters :', classifier.best_params_, 'best score: ',\n",
    "      clf.best_score_)"
   ]
  },
  {
   "cell_type": "code",
   "execution_count": 8,
   "metadata": {},
   "outputs": [],
   "source": [
    "y_hat = clf.predict(X)"
   ]
  },
  {
   "cell_type": "code",
   "execution_count": 18,
   "metadata": {},
   "outputs": [
    {
     "data": {
      "text/plain": [
       "0.6839148902959502"
      ]
     },
     "execution_count": 18,
     "metadata": {},
     "output_type": "execute_result"
    }
   ],
   "source": [
    "clf.score(X, y)"
   ]
  },
  {
   "cell_type": "code",
   "execution_count": 9,
   "metadata": {},
   "outputs": [
    {
     "data": {
      "text/plain": [
       "0.6839148902959502"
      ]
     },
     "execution_count": 9,
     "metadata": {},
     "output_type": "execute_result"
    }
   ],
   "source": [
    "metrics.accuracy_score(y, y_hat)"
   ]
  },
  {
   "cell_type": "code",
   "execution_count": 15,
   "metadata": {},
   "outputs": [],
   "source": [
    "probs = clf.predict_proba(X)"
   ]
  },
  {
   "cell_type": "code",
   "execution_count": 16,
   "metadata": {},
   "outputs": [
    {
     "data": {
      "text/plain": [
       "array([0.31374618, 0.07596179, 0.13106712, 0.01746021, 0.00793469,\n",
       "       0.00815209, 0.00181063, 0.0152032 , 0.00208402, 0.21833584,\n",
       "       0.00762823, 0.00257229, 0.00303513, 0.00821017, 0.0142055 ,\n",
       "       0.00572368, 0.00683542, 0.04472159, 0.0508844 , 0.05894804,\n",
       "       0.00547978])"
      ]
     },
     "execution_count": 16,
     "metadata": {},
     "output_type": "execute_result"
    }
   ],
   "source": [
    "probs[0]"
   ]
  },
  {
   "cell_type": "code",
   "execution_count": 10,
   "metadata": {
    "scrolled": false
   },
   "outputs": [
    {
     "name": "stdout",
     "output_type": "stream",
     "text": [
      "===Category: appliances===\n",
      "-Top-\n",
      "['whirlpool', 'maytag', 'frigidaire', 'ge', 'amana', 'kenmore', 'chimney', 'jenn', 'washer', 'keg', 'hood', 'kegs', 'refrigerator', 'ice', 'roper', 'fridge', 'hotpoint', 'dryer', 'ductless', 'cooktop', 'element', 'range', 'broan', 'duct', 'ja', 'humidifier', 'cycle', 'kitchenaid', 'freezer', 'vent', 'burners', 'ducted', 'disposal', 'wr', 'kegerator', 'da', 'knobs', 'ventless', 'filter', 'ww']\n",
      "-Bottom-\n",
      "['phone', 'camera', 'lens', 'safe', 'battery', 'seat', 'car', 'coffee', 'case', 'mm', 'hair', 'bed', 'charger', 'bottle', 'bike', 'table', 'windows', 'galaxy', 'speakers', 'laptop', 'mattress', 'chair', 'card', 'cable', 'pool', 'speaker', 'computer', 'keyboard', 'honda', 'drive', 'bowl', 'iphone', 'oil', 'wear', 'vacuum', 'microwave', 'cream', 'play', 'tablet', 'engine']\n",
      "\n",
      "===Category: arts_crafts_and_sewing===\n",
      "-Top-\n",
      "['singer', 'janome', 'bobbin', 'mannequin', 'bernina', 'yarn', 'brother', 'airbrush', 'serger', 'juki', 'stitch', 'sizzix', 'bobbins', 'cricut', 'sewing', 'easel', 'machine', 'cuttlebug', 'silhouette', 'paints', 'kiln', 'yard', 'sew', 'punch', 'embossing', 'needles', 'yards', 'quilting', 'beads', 'fabric', 'clay', 'presser', 'needle', 'babylock', 'viking', 'pfaff', 'stitches', 'sketch', 'watercolor', 'craft']\n",
      "-Bottom-\n",
      "['phone', 'camera', 'mattress', 'bike', 'bed', 'hair', 'mount', 'pump', 'battery', 'tv', 'filter', 'lens', 'remote', 'charger', 'unit', 'game', 'monitor', 'seat', 'fan', 'sound', 'music', 'pan', 'speakers', 'install', 'keyboard', 'capacity', 'coffee', 'gas', 'comforter', 'galaxy', 'tire', 'device', 'screen', 'drive', 'cable', 'grill', 'pool', 'sony', 'door', 'filters']\n",
      "\n",
      "===Category: automotive===\n",
      "-Top-\n",
      "['wiper', 'headlights', 'bwt', 'dorman', 'strut', 'tailgate', 'shocks', 'headlight', 'passenger', 'muffler', 'coolant', 'harley', 'emblem', 'sportster', 'suzuki', 'dometic', 'tpms', 'mirrors', 'transmission', 'bmw', 'optima', 'obd', 'thetford', 'dealer', 'camaro', 'mats', 'hid', 'meguiar', 'radiator', 'tacoma', 'dealership', 'windshield', 'agm', 'atwood', 'acdelco', 'weathertech', 'delco', 'vehicle', 'sena', 'mazda']\n",
      "-Bottom-\n",
      "['speakers', 'din', 'keyboard', 'stroller', 'canon', 'camera', 'crutchfield', 'tv', 'phone', 'sony', 'metra', 'gb', 'baby', 'samsung', 'tablet', 'speaker', 'nikon', 'stereo', 'pool', 'ipod', 'card', 'table', 'screen', 'headphones', 'ipad', 'facing', 'hair', 'holster', 'headphone', 'ceiling', 'game', 'hdmi', 'asus', 'audio', 'guitar', 'infant', 'shelves', 'cabinet', 'dell', 'router']\n",
      "\n",
      "===Category: baby===\n",
      "-Top-\n",
      "['crib', 'bassinet', 'britax', 'baby', 'stroller', 'medela', 'graco', 'carseat', 'gate', 'nipples', 'infant', 'banister', 'avent', 'changing', 'ergo', 'chicco', 'nipple', 'parent', 'newborn', 'playtex', 'diapers', 'potty', 'strollers', 'uppababy', 'sippy', 'prefolds', 'diaper', 'babies', 'breast', 'bugaboo', 'sterilizer', 'maclaren', 'playard', 'toddler', 'jogger', 'nuk', 'highchair', 'evenflo', 'infants', 'booster']\n",
      "-Bottom-\n",
      "['doll', 'pet', 'lens', 'phone', 'keyboard', 'usb', 'filter', 'game', 'laptop', 'dog', 'speakers', 'oil', 'cable', 'hair', 'tank', 'headphones', 'fan', 'desk', 'hose', 'tea', 'ipad', 'truck', 'radio', 'christmas', 'swim', 'ingredients', 'computer', 'canon', 'grill', 'gun', 'dolls', 'card', 'sony', 'bucket', 'charger', 'dogs', 'shoe', 'case', 'roof', 'hp']\n",
      "\n",
      "===Category: beauty===\n",
      "-Top-\n",
      "['wig', 'perfume', 'hair', 'clarisonic', 'beauty', 'opi', 'makeup', 'shea', 'curler', 'tanning', 'lashes', 'serum', 'argan', 'foundation', 'blonde', 'salon', 'conair', 'hairdryer', 'mia', 'mascara', 'sunscreen', 'shampoo', 'curlers', 'dryer', 'pores', 'moisturizer', 'skin', 'styling', 'henna', 'acne', 'mirror', 'nail', 'rollers', 'lotion', 'revlon', 'cologne', 'nails', 'parfum', 'tiwan', 'parabens']\n",
      "-Bottom-\n",
      "['camera', 'phone', 'car', 'mattress', 'fit', 'tv', 'dog', 'lens', 'doll', 'remote', 'windows', 'laptop', 'screen', 'paint', 'play', 'computer', 'drive', 'keyboard', 'cable', 'cat', 'iphone', 'ipad', 'installed', 'game', 'headphones', 'support', 'board', 'tablet', 'monitor', 'dogs', 'pet', 'install', 'compatible', 'flavor', 'dish', 'dishwasher', 'grill', 'oven', 'samsung', 'door']\n",
      "\n",
      "===Category: cell_phones_and_accessories===\n",
      "-Top-\n",
      "['phone', 'tracfone', 'sim', 'xperia', 'blu', 'nfc', 'htc', 'whatsapp', 'digitizer', 'venezuela', 'tmobile', 'spigen', 'unlocked', 'qi', 'movistar', 'sgh', 'dashboard', 'texting', 'metro', 'zte', 'moto', 'case', 'mophie', 'swede', 'nokia', 'jabra', 'cases', 'pantech', 'wilson', 'huawei', 'atrix', 'rnd', 'optimus', 'sprint', 'looxcie', 'motorola', 'alcatel', 'gingerbread', 'convoy', 'lg']\n",
      "-Bottom-\n",
      "['machine', 'canon', 'bottle', 'filter', 'ray', 'nikon', 'seat', 'chair', 'wheels', 'lbs', 'bulb', 'pump', 'mattress', 'bed', 'hose', 'monitor', 'bottles', 'pillow', 'ingredients', 'printer', 'gun', 'guitar', 'baby', 'remote', 'filters', 'hair', 'bulbs', 'lid', 'knife', 'shoe', 'rack', 'panasonic', 'dog', 'drill', 'scope', 'tank', 'mouse', 'grill', 'pounds', 'motor']\n",
      "\n",
      "===Category: clothing_shoes_and_jewelry===\n",
      "-Top-\n",
      "['tilley', 'armour', 'hoodie', 'yaktrax', 'arobic', 'jewelry', 'watch', 'costume', 'watches', 'propper', 'brim', 'tankini', 'earrings', 'ua', 'shirts', 'jacket', 'bodybuilder', 'ideally', 'armoire', 'shimano', 'trunks', 'earbags', 'hospital', 'underwear', 'fuller', 'baffin', 'yvette', 'sweatshirt', 'cleats', 'shrink', 'shirt', 'fly', 'skirt', 'sole', 'jansport', 'spd', 'youths', 'laces', 'wicking', 'undershirt']\n",
      "-Bottom-\n",
      "['skates', 'dog', 'mattress', 'tv', 'camera', 'chair', 'works', 'fins', 'brace', 'power', 'filter', 'keyboard', 'sheet', 'use', 'seat', 'speakers', 'shelf', 'skate', 'stroller', 'makes', 'oil', 'fin', 'cat', 'cable', 'waders', 'pump', 'headphones', 'installed', 'case', 'bottles', 'sheets', 'ingredients', 'bulb', 'used', 'palm', 'holster', 'doll', 'tablet', 'g', 'dogs']\n",
      "\n",
      "===Category: electronics===\n",
      "-Top-\n",
      "['nikon', 'softbox', 'backdrop', 'din', 'crutchfield', 'psu', 'motherboard', 'asus', 'lenovo', 'ssd', 'msi', 'sata', 'manfrotto', 'sony', 'dvr', 'olympus', 'monopod', 'drives', 'backdrops', 'inspiron', 'webcam', 'metra', 'camera', 'toshiba', 'tweeters', 'acer', 'canon', 'lens', 'radios', 'corsair', 'cpu', 'tripod', 'heatsink', 'seagate', 'modem', 'tomtom', 'tv', 'roku', 'jvc', 'atx']\n",
      "-Bottom-\n",
      "['mattress', 'chair', 'ingredients', 'gun', 'stroller', 'thermostat', 'tire', 'faucet', 'vacuum', 'tires', 'midi', 'bottles', 'hose', 'bpa', 'oil', 'mixer', 'baby', 'pump', 'valve', 'dewalt', 'gloves', 'guitar', 'ruger', 'blade', 'tank', 'blades', 'chairs', 'fixture', 'toy', 'bosch', 'xlr', 'socks', 'heater', 'doll', 'glock', 'cartridges', 'food', 'rifle', 'drawers', 'pot']\n",
      "\n",
      "===Category: grocery_and_gourmet_food===\n",
      "-Top-\n",
      "['delicious', 'keurig', 'grown', 'gumball', 'decaf', 'honey', 'candy', 'sauce', 'kosher', 'msg', 'bonsai', 'noodles', 'spicy', 'coconut', 'flour', 'matcha', 'sodium', 'wonderbag', 'tea', 'pasteurized', 'candies', 'syrup', 'almonds', 'lollipops', 'nespresso', 'sardines', 'nutritional', 'eating', 'fortunes', 'salted', 'jimmies', 'salt', 'cookies', 'grits', 'kuerig', 'packets', 'cocoa', 'teas', 'irradiated', 'cherries']\n",
      "-Bottom-\n",
      "['fit', 'battery', 'hold', 'work', 'warranty', 'phone', 'set', 'unit', 'shellfish', 'batteries', 'camera', 'works', 'model', 'manual', 'whey', 'support', 'fits', 'pair', 'screen', 'dog', 'seat', 'bed', 'v', 'device', 'car', 'play', 'blade', 'wood', 'tv', 'power', 'ft', 'lens', 'cable', 'capacity', 'handle', 'holds', 'pan', 'worked', 'feet', 'setting']\n",
      "\n",
      "===Category: health_and_personal_care===\n",
      "-Top-\n",
      "['shaver', 'walker', 'rollator', 'massager', 'brace', 'pills', 'cane', 'insertable', 'razor', 'hookah', 'norelco', 'commode', 'wheelchair', 'crutches', 'shave', 'medical', 'splint', 'toothbrush', 'shaving', 'whey', 'supplements', 'insulin', 'capsules', 'braun', 'invitation', 'sonicare', 'oral', 'dildo', 'insoles', 'omron', 'massage', 'tens', 'vitamins', 'pill', 'capsule', 'footrests', 'neti', 'supplement', 'invacare', 'polar']\n",
      "-Bottom-\n",
      "['camera', 'keyboard', 'samsung', 'canon', 'stroller', 'bike', 'shorts', 'nikon', 'game', 'sony', 'mount', 'speakers', 'hp', 'filter', 'speaker', 'shelves', 'gb', 'unlocked', 'helmet', 'dog', 'macbook', 'grandson', 'tripod', 'cooker', 'hdmi', 'fins', 'guitar', 'vest', 'holster', 'jacket', 'pan', 'ipad', 'inseam', 'tire', 'laptop', 'router', 'asus', 'tent', 'headphones', 'cables']\n",
      "\n"
     ]
    },
    {
     "name": "stdout",
     "output_type": "stream",
     "text": [
      "===Category: home_and_kitchen===\n",
      "-Top-\n",
      "['juicer', 'duvet', 'cuisinart', 'curtain', 'comforter', 'slicer', 'futon', 'kettle', 'cooker', 'toaster', 'roomba', 'vitamix', 'dyson', 'blender', 'induction', 'shams', 'headboard', 'pitcher', 'carafe', 'krups', 'infuser', 'dough', 'purifier', 'beater', 'topper', 'peeler', 'ironing', 'stools', 'pan', 'ksm', 'mug', 'frother', 'foodsaver', 'waring', 'ozone', 'mattress', 'eureka', 'bodum', 'miele', 'jvm']\n",
      "-Bottom-\n",
      "['camera', 'crib', 'bike', 'phone', 'lens', 'stroller', 'play', 'gate', 'bassinet', 'feeder', 'doll', 'toy', 'software', 'tire', 'headphones', 'gun', 'scope', 'tires', 'macbook', 'pool', 'iphone', 'antenna', 'radio', 'ram', 'guitar', 'chart', 'holster', 'roof', 'galaxy', 'ink', 'waist', 'tripod', 'honda', 'ear', 'mic', 'lamp', 'headset', 'music', 'nikon', 'ford']\n",
      "\n",
      "===Category: industrial_and_scientific===\n",
      "-Top-\n",
      "['stethoscope', 'toothpaste', 'microscope', 'amscope', 'winch', 'stethoscopes', 'hydrometer', 'epoxy', 'oreck', 'littman', 'filament', 'cuff', 'caulk', 'dropper', 'calibration', 'mop', 'vacuum', 'pla', 'diaphram', 'vise', 'flask', 'printrbot', 'bulkhead', 'knowif', 'vac', 'littmann', 'diaphragm', 'caster', 'dolly', 'kimberly', 'grommets', 'grommet', 'contactor', 'dac', 'refractometer', 'ramp', 'ramps', 'extruder', 'sealant', 'rubbermaid']\n",
      "-Bottom-\n",
      "['phone', 'keyboard', 'seat', 'iphone', 'play', 'rear', 'lens', 'ink', 'sony', 'tripod', 'bluetooth', 'charger', 'lights', 'screen', 'router', 'waist', 'mouse', 'cups', 'ipad', 'dvd', 'game', 'cup', 'bowl', 'card', 'speakers', 'wear', 'ford', 'mat', 'radio', 'hair', 'toy', 'speaker', 'mic', 'charge', 'gb', 'ipod', 'bike', 'headset', 'laptop', 'skin']\n",
      "\n",
      "===Category: musical_instruments===\n",
      "-Top-\n",
      "['guitar', 'violin', 'epiphone', 'behringer', 'guitars', 'korg', 'midi', 'instrument', 'banjo', 'strings', 'chauvet', 'ukulele', 'xlr', 'fender', 'gibson', 'dmx', 'karaoke', 'metronome', 'uke', 'dj', 'peavey', 'mics', 'trumpet', 'cello', 'drum', 'flute', 'ocarina', 'piano', 'traktor', 'pedal', 'shure', 'headshell', 'ibanez', 'acoustic', 'les', 'truss', 'cymbal', 'cubase', 'ableton', 'daw']\n",
      "-Bottom-\n",
      "['bike', 'phone', 'lens', 'camera', 'mouse', 'water', 'antenna', 'bed', 'hdmi', 'car', 'chair', 'dog', 'pump', 'mattress', 'games', 'hair', 'blade', 'door', 'bottle', 'charger', 'printer', 'samsung', 'hose', 'game', 'router', 'shower', 'wifi', 'skin', 'honda', 'scope', 'dell', 'stainless', 'gun', 'holster', 'ingredients', 'screen', 'xbox', 'glass', 'gas', 'network']\n",
      "\n",
      "===Category: office_products===\n",
      "-Top-\n",
      "['calculator', 'shredder', 'handsets', 'scanner', 'toner', 'scan', 'cartridges', 'printer', 'ink', 'planner', 'handset', 'mailers', 'calendar', 'scanning', 'laminator', 'epson', 'pencil', 'pencils', 'mfc', 'labels', 'embosser', 'scans', 'cartridge', 'typewriter', 'barbs', 'toners', 'ringer', 'dymo', 'presentation', 'ooma', 'laminating', 'print', 'dictionary', 'lexmark', 'desk', 'badge', 'scanned', 'answering', 'translate', 'envelopes']\n",
      "-Bottom-\n",
      "['camera', 'bike', 'mattress', 'filter', 'lens', 'speakers', 'ingredients', 'pan', 'hair', 'lamp', 'scope', 'sim', 'gps', 'radio', 'grill', 'filters', 'sony', 'bowl', 'pot', 'car', 'toilet', 'straps', 'stroller', 'ceiling', 'hose', 'skin', 'baby', 'drive', 'bottle', 'mic', 'player', 'honda', 'bench', 'holster', 'hdmi', 'play', 'faucet', 'knives', 'knife', 'valve']\n",
      "\n",
      "===Category: patio_lawn_and_garden===\n",
      "-Top-\n",
      "['hayward', 'mower', 'poulan', 'planter', 'smoker', 'pentair', 'pool', 'husqvarna', 'weber', 'toro', 'karcher', 'shed', 'trellis', 'soil', 'fertilizer', 'gazebo', 'greenworks', 'sprinkler', 'watering', 'wicker', 'spa', 'umbrella', 'hammock', 'stihl', 'trap', 'generator', 'compost', 'grow', 'generac', 'pit', 'grill', 'garrett', 'firepit', 'chainsaw', 'greenhouse', 'plants', 'intex', 'cushions', 'plant', 'spreader']\n",
      "-Bottom-\n",
      "['camera', 'hair', 'phone', 'mattress', 'bike', 'stroller', 'speakers', 'lens', 'daughter', 'keyboard', 'shower', 'play', 'speaker', 'tv', 'antenna', 'printer', 'cards', 'samsung', 'sony', 'scope', 'computer', 'card', 'canon', 'laptop', 'desk', 'guitar', 'ink', 'toilet', 'game', 'skin', 'tablet', 'ipad', 'knife', 'drawers', 'leather', 'compressor', 'iphone', 'macbook', 'toyota', 'chevy']\n",
      "\n",
      "===Category: pet_supplies===\n",
      "-Top-\n",
      "['dog', 'collar', 'cage', 'crate', 'litter', 'kennel', 'aquarium', 'dogs', 'vet', 'cats', 'cat', 'pet', 'puppy', 'fluval', 'treats', 'yorkie', 'petsafe', 'lab', 'leash', 'terrier', 'aqueon', 'adjustst', 'kitten', 'betta', 'collars', 'kitty', 'poodle', 'furminator', 'feliway', 'hamster', 'maltese', 'corals', 'paws', 'tank', 'pooboss', 'chihuahua', 'doggie', 'ferrets', 'bulldog', 'pug']\n",
      "-Bottom-\n",
      "['camera', 'son', 'propane', 'tv', 'phone', 'coffee', 'daughter', 'laptop', 'fan', 'chair', 'keyboard', 'lens', 'kids', 'ipad', 'computer', 'gas', 'oven', 'pot', 'speakers', 'comforter', 'usb', 'child', 'cooking', 'speaker', 'gun', 'grind', 'game', 'queen', 'case', 'pool', 'vacuum', 'desk', 'wiring', 'card', 'wife', 'twin', 'attract', 'cook', 'cabinet', 'samsung']\n",
      "\n",
      "===Category: software===\n",
      "-Top-\n",
      "['program', 'quicken', 'webroot', 'version', 'norton', 'fluenz', 'license', 'import', 'elements', 'turbotax', 'ancestry', 'licenses', 'income', 'intuit', 'computers', 'publisher', 'kaspersky', 'deluxe', 'capture', 'lessons', 'leopard', 'subscription', 'nuvi', 'qb', 'student', 'federal', 'corel', 'dragon', 'upgrade', 'state', 'create', 'payroll', 'recipes', 'lightroom', 'learn', 'studio', 'family', 'poser', 'nero', 'platinum']\n",
      "-Bottom-\n",
      "['fit', 'model', 'unit', 'phone', 'warranty', 'camera', 'battery', 'size', 'water', 'comes', 'drivers', 'light', 'inches', 'remote', 'usb', 'come', 'plastic', 'dimensions', 'driver', 'china', 'black', 'bluetooth', 'batteries', 'steam', 'case', 'plug', 'cable', 'weight', 'inch', 'router', 'replacement', 'hold', 'bottle', 'fits', 'wifi', 'pre', 'firmware', 'adapter', 'radio', 'lens']\n",
      "\n",
      "===Category: sports_and_outdoors===\n",
      "-Top-\n",
      "['trampoline', 'skates', 'scope', 'ruger', 'bike', 'paracord', 'gnome', 'rifle', 'schwinn', 'reticle', 'bbs', 'moultrie', 'sights', 'fins', 'stun', 'treadmill', 'bipod', 'glock', 'sight', 'gi', 'sawyer', 'wildcat', 'crossbow', 'chainring', 'wetsuit', 'revolver', 'mags', 'skate', 'rebounder', 'pistol', 'coleman', 'fin', 'crankset', 'sword', 'colt', 'freewheel', 'bowflex', 'pedometer', 'cue', 'phubby']\n",
      "-Bottom-\n",
      "['sony', 'keyboard', 'tv', 'speakers', 'printer', 'guitar', 'diaper', 'crib', 'canon', 'mouse', 'speaker', 'doll', 'antenna', 'dell', 'vacuum', 'panasonic', 'booster', 'lamp', 'mower', 'stroller', 'capsules', 'asus', 'bulbs', 'cpu', 'tablet', 'hdmi', 'mechanix', 'king', 'processor', 'ingredients', 'perfume', 'drawers', 'cooker', 'mic', 'lenovo', 'pills', 'stylus', 'router', 'baby', 'brace']\n",
      "\n",
      "===Category: tools_and_home_improvement===\n",
      "-Top-\n",
      "['mechanix', 'dewalt', 'nailer', 'makita', 'sander', 'mailbox', 'extinguisher', 'faucet', 'bidet', 'showerhead', 'chandelier', 'welder', 'lamp', 'porter', 'flashlight', 'lathe', 'liftmaster', 'toto', 'chuck', 'deadbolt', 'milwaukee', 'doorbell', 'bosch', 'sink', 'fixture', 'bits', 'kreg', 'downrod', 'saw', 'plumber', 'dremel', 'planer', 'schlage', 'rinnai', 'welding', 'hakko', 'delta', 'respirator', 'grohe', 'kidde']\n",
      "-Bottom-\n",
      "['camera', 'sony', 'tv', 'keyboard', 'mattress', 'canon', 'speakers', 'phone', 'printer', 'nikon', 'projector', 'pillow', 'hair', 'game', 'mouse', 'tablet', 'gb', 'cpu', 'headphones', 'stroller', 'scope', 'mic', 'hdmi', 'computer', 'speaker', 'cameras', 'pants', 'dell', 'asus', 'antenna', 'guitar', 'passenger', 'blender', 'laptop', 'ingredients', 'player', 'headset', 'skin', 'cards', 'umbrella']\n",
      "\n",
      "===Category: toys_and_games===\n",
      "-Top-\n",
      "['doll', 'helicopter', 'dolls', 'copter', 'traxxas', 'lipo', 'heli', 'furby', 'leap', 'leapfrog', 'puzzle', 'figures', 'leappad', 'toy', 'leapster', 'esc', 'syma', 'train', 'slash', 'hasbro', 'marbles', 'innotab', 'lego', 'hubsan', 'servo', 'hearthsong', 'barbie', 'quadcopter', 'castle', 'dice', 'hobby', 'sandbox', 'wagon', 'nerf', 'figure', 'stampede', 'playset', 'dollhouse', 'rc', 'trains']\n",
      "-Bottom-\n",
      "['filter', 'phone', 'sony', 'unit', 'canon', 'sim', 'speakers', 'lens', 'monitor', 'bluetooth', 'filters', 'comfortable', 'expiration', 'honda', 'hp', 'nikon', 'glass', 'heater', 'ram', 'shower', 'rack', 'installed', 'chair', 'ford', 'install', 'fit', 'medium', 'pair', 'stereo', 'coffee', 'pan', 'chairs', 'toyota', 'comforter', 'warranty', 'fan', 'gate', 'bulbs', 'chevy', 'perfume']\n",
      "\n"
     ]
    },
    {
     "name": "stdout",
     "output_type": "stream",
     "text": [
      "===Category: video_games===\n",
      "-Top-\n",
      "['game', 'ds', 'vita', 'saitek', 'controller', 'multiplayer', 'wii', 'console', 'joystick', 'dlc', 'psn', 'steam', 'controllers', 'nyko', 'xbox', 'kinect', 'razer', 'dsi', 'mechanical', 'dance', 'ps', 'code', 'campaign', 'offline', 'yoke', 'edition', 'account', 'dpi', 'character', 'gamepad', 'mod', 'play', 'psp', 'headset', 'games', 'op', 'simulator', 'violence', 'steelseries', 'mods']\n",
      "-Bottom-\n",
      "['phone', 'fit', 'water', 'size', 'unit', 'printer', 'bag', 'camera', 'bottle', 'machine', 'hair', 'samsung', 'radio', 'lens', 'speaker', 'blade', 'canon', 'diameter', 'office', 'door', 'filter', 'product', 'bike', 'ipad', 'seat', 'handle', 'apple', 'car', 'record', 'bulb', 'pump', 'nikon', 'kit', 'oil', 'china', 'mattress', 'dvd', 'height', 'tall', 'lid']\n",
      "\n"
     ]
    }
   ],
   "source": [
    "inv_category_dict = {v: k for k, v in category_dict.items()}\n",
    "\n",
    "count = 0\n",
    "for coef in clf.coef_:\n",
    "    words = list(zip(coef, vectorizer.get_feature_names()))\n",
    "    top_words = sorted(words, reverse=True)[:40]\n",
    "    bottom_words = sorted(words, reverse=False)[:40]\n",
    "    \n",
    "    print(f\"===Category: {inv_category_dict[count]}===\")\n",
    "    print(f\"-Top-\")\n",
    "    print([x[1] for x in top_words])\n",
    "    print(f\"-Bottom-\")\n",
    "    print([x[1] for x in bottom_words])\n",
    "    print('')\n",
    "    count+=1"
   ]
  },
  {
   "cell_type": "code",
   "execution_count": 19,
   "metadata": {},
   "outputs": [],
   "source": [
    "filename = '../models/category_logistic_regression_ovr.sav'\n",
    "pickle.dump(clf, open(filename, 'wb'))"
   ]
  }
 ],
 "metadata": {
  "kernelspec": {
   "display_name": "Python 3",
   "language": "python",
   "name": "python3"
  },
  "language_info": {
   "codemirror_mode": {
    "name": "ipython",
    "version": 3
   },
   "file_extension": ".py",
   "mimetype": "text/x-python",
   "name": "python",
   "nbconvert_exporter": "python",
   "pygments_lexer": "ipython3",
   "version": "3.7.9"
  }
 },
 "nbformat": 4,
 "nbformat_minor": 4
}
