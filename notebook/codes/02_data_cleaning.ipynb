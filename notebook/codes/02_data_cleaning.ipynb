{
 "cells": [
  {
   "cell_type": "code",
   "execution_count": 1,
   "metadata": {},
   "outputs": [],
   "source": [
    "import numpy as np\n",
    "import pandas as pd\n",
    "import json\n",
    "import ast"
   ]
  },
  {
   "cell_type": "code",
   "execution_count": 2,
   "metadata": {},
   "outputs": [
    {
     "data": {
      "text/html": [
       "<div>\n",
       "<style scoped>\n",
       "    .dataframe tbody tr th:only-of-type {\n",
       "        vertical-align: middle;\n",
       "    }\n",
       "\n",
       "    .dataframe tbody tr th {\n",
       "        vertical-align: top;\n",
       "    }\n",
       "\n",
       "    .dataframe thead th {\n",
       "        text-align: right;\n",
       "    }\n",
       "</style>\n",
       "<table border=\"1\" class=\"dataframe\">\n",
       "  <thead>\n",
       "    <tr style=\"text-align: right;\">\n",
       "      <th></th>\n",
       "      <th>answer</th>\n",
       "      <th>answerTime</th>\n",
       "      <th>answerType</th>\n",
       "      <th>asin</th>\n",
       "      <th>question</th>\n",
       "      <th>questionType</th>\n",
       "      <th>unixTime</th>\n",
       "      <th>category</th>\n",
       "    </tr>\n",
       "  </thead>\n",
       "  <tbody>\n",
       "    <tr>\n",
       "      <th>0</th>\n",
       "      <td>I replaced my old one with this without a hitch.</td>\n",
       "      <td>Jun 27, 2014</td>\n",
       "      <td>?</td>\n",
       "      <td>B00004U9JP</td>\n",
       "      <td>I have a 9 year old Badger 1 that needs replac...</td>\n",
       "      <td>yes/no</td>\n",
       "      <td>1.403852e+09</td>\n",
       "      <td>appliances</td>\n",
       "    </tr>\n",
       "    <tr>\n",
       "      <th>1</th>\n",
       "      <td>This may help InSinkErator Model BADGER-1: Bad...</td>\n",
       "      <td>Apr 28, 2014</td>\n",
       "      <td>NaN</td>\n",
       "      <td>B00004U9JP</td>\n",
       "      <td>model number</td>\n",
       "      <td>open-ended</td>\n",
       "      <td>1.398668e+09</td>\n",
       "      <td>appliances</td>\n",
       "    </tr>\n",
       "    <tr>\n",
       "      <th>2</th>\n",
       "      <td>Plumbing connections will vary with different ...</td>\n",
       "      <td>Aug 25, 2014</td>\n",
       "      <td>?</td>\n",
       "      <td>B00004U9JP</td>\n",
       "      <td>can I replace Badger 1 1/3 with a Badger 5 1/2...</td>\n",
       "      <td>yes/no</td>\n",
       "      <td>1.408950e+09</td>\n",
       "      <td>appliances</td>\n",
       "    </tr>\n",
       "    <tr>\n",
       "      <th>3</th>\n",
       "      <td>It does not come with a power cord. It does co...</td>\n",
       "      <td>Nov 3, 2014</td>\n",
       "      <td>?</td>\n",
       "      <td>B00004U9JP</td>\n",
       "      <td>Does this come with power cord and dishwasher ...</td>\n",
       "      <td>yes/no</td>\n",
       "      <td>1.415002e+09</td>\n",
       "      <td>appliances</td>\n",
       "    </tr>\n",
       "    <tr>\n",
       "      <th>4</th>\n",
       "      <td>Check if you dropped something inside.Usually ...</td>\n",
       "      <td>Jun 21, 2014</td>\n",
       "      <td>NaN</td>\n",
       "      <td>B00004U9JP</td>\n",
       "      <td>loud noise inside when turned on. sounds like ...</td>\n",
       "      <td>open-ended</td>\n",
       "      <td>1.403334e+09</td>\n",
       "      <td>appliances</td>\n",
       "    </tr>\n",
       "  </tbody>\n",
       "</table>\n",
       "</div>"
      ],
      "text/plain": [
       "                                              answer    answerTime answerType  \\\n",
       "0   I replaced my old one with this without a hitch.  Jun 27, 2014          ?   \n",
       "1  This may help InSinkErator Model BADGER-1: Bad...  Apr 28, 2014        NaN   \n",
       "2  Plumbing connections will vary with different ...  Aug 25, 2014          ?   \n",
       "3  It does not come with a power cord. It does co...   Nov 3, 2014          ?   \n",
       "4  Check if you dropped something inside.Usually ...  Jun 21, 2014        NaN   \n",
       "\n",
       "         asin                                           question questionType  \\\n",
       "0  B00004U9JP  I have a 9 year old Badger 1 that needs replac...       yes/no   \n",
       "1  B00004U9JP                                       model number   open-ended   \n",
       "2  B00004U9JP  can I replace Badger 1 1/3 with a Badger 5 1/2...       yes/no   \n",
       "3  B00004U9JP  Does this come with power cord and dishwasher ...       yes/no   \n",
       "4  B00004U9JP  loud noise inside when turned on. sounds like ...   open-ended   \n",
       "\n",
       "       unixTime    category  \n",
       "0  1.403852e+09  appliances  \n",
       "1  1.398668e+09  appliances  \n",
       "2  1.408950e+09  appliances  \n",
       "3  1.415002e+09  appliances  \n",
       "4  1.403334e+09  appliances  "
      ]
     },
     "execution_count": 2,
     "metadata": {},
     "output_type": "execute_result"
    }
   ],
   "source": [
    "category_list = [\n",
    "    'appliances',\n",
    "    'arts_crafts_and_sewing',\n",
    "    'automotive',\n",
    "    'baby',\n",
    "    'beauty',\n",
    "    'cell_phones_and_accessories',\n",
    "    'clothing_shoes_and_jewelry',\n",
    "    'electronics',\n",
    "    'grocery_and_gourmet_food',\n",
    "    'health_and_personal_care',\n",
    "    'home_and_kitchen',\n",
    "    'industrial_and_scientific',\n",
    "    'musical_instruments',\n",
    "    'office_products',\n",
    "    'patio_lawn_and_garden',\n",
    "    'pet_supplies',\n",
    "    'software',\n",
    "    'sports_and_outdoors',\n",
    "    'tools_and_home_improvement',\n",
    "    'toys_and_games',\n",
    "    'video_games',\n",
    "]\n",
    "columns = [\n",
    "    'answer',\n",
    "    'answerTime',\n",
    "    'answerType',\n",
    "    'asin',\n",
    "    'question',\n",
    "    'questionType',\n",
    "    'unixTime'\n",
    "]\n",
    "\n",
    "df = pd.DataFrame(columns=columns)\n",
    "\n",
    "for category in category_list:\n",
    "    tmp_df = pd.read_json(f\"../datasets/json/{category}.json\")\n",
    "    tmp_df['category'] = category\n",
    "    df = df.append(tmp_df, sort=False)\n",
    "    \n",
    "df.head()"
   ]
  },
  {
   "cell_type": "code",
   "execution_count": 3,
   "metadata": {},
   "outputs": [],
   "source": [
    "df['combined_text'] = df['question'] + ' ' + df['answer']"
   ]
  },
  {
   "cell_type": "code",
   "execution_count": 4,
   "metadata": {},
   "outputs": [],
   "source": [
    "df = df[['category', 'combined_text', 'question', 'answer', 'questionType', 'asin']]\n",
    "df.rename(columns={'questionType': 'question_type'}, inplace=True)"
   ]
  },
  {
   "cell_type": "code",
   "execution_count": 5,
   "metadata": {},
   "outputs": [
    {
     "data": {
      "text/plain": [
       "13082"
      ]
     },
     "execution_count": 5,
     "metadata": {},
     "output_type": "execute_result"
    }
   ],
   "source": [
    "df.duplicated().astype(int).sum()"
   ]
  },
  {
   "cell_type": "code",
   "execution_count": 6,
   "metadata": {},
   "outputs": [],
   "source": [
    "df.drop_duplicates(inplace=True)"
   ]
  },
  {
   "cell_type": "code",
   "execution_count": 7,
   "metadata": {},
   "outputs": [],
   "source": [
    "df.reset_index(inplace=True, drop=True)"
   ]
  },
  {
   "cell_type": "code",
   "execution_count": 8,
   "metadata": {
    "scrolled": true
   },
   "outputs": [
    {
     "data": {
      "text/plain": [
       "(1383814, 6)"
      ]
     },
     "execution_count": 8,
     "metadata": {},
     "output_type": "execute_result"
    }
   ],
   "source": [
    "df.shape"
   ]
  },
  {
   "cell_type": "code",
   "execution_count": 9,
   "metadata": {},
   "outputs": [
    {
     "name": "stdout",
     "output_type": "stream",
     "text": [
      "<class 'pandas.core.frame.DataFrame'>\n",
      "RangeIndex: 1383814 entries, 0 to 1383813\n",
      "Data columns (total 6 columns):\n",
      " #   Column         Non-Null Count    Dtype \n",
      "---  ------         --------------    ----- \n",
      " 0   category       1383814 non-null  object\n",
      " 1   combined_text  1383814 non-null  object\n",
      " 2   question       1383814 non-null  object\n",
      " 3   answer         1383814 non-null  object\n",
      " 4   question_type  1383814 non-null  object\n",
      " 5   asin           1383814 non-null  object\n",
      "dtypes: object(6)\n",
      "memory usage: 63.3+ MB\n"
     ]
    }
   ],
   "source": [
    "df.info(verbose=True)"
   ]
  },
  {
   "cell_type": "code",
   "execution_count": 10,
   "metadata": {},
   "outputs": [
    {
     "name": "stdout",
     "output_type": "stream",
     "text": [
      "Total number of products: 182022\n",
      "Total number of duplicated questions: 184439\n",
      "Total number of duplicated answers: 221756\n",
      "Total number of duplicated full_text: 112805\n"
     ]
    }
   ],
   "source": [
    "print(f\"Total number of products: {len(df.asin.unique())}\")\n",
    "print(f\"Total number of duplicated questions: {df.question.duplicated().astype(int).sum()}\")\n",
    "print(f\"Total number of duplicated answers: {df.answer.duplicated().astype(int).sum()}\")\n",
    "print(f\"Total number of duplicated full_text: {df.combined_text.duplicated().astype(int).sum()}\")"
   ]
  },
  {
   "cell_type": "code",
   "execution_count": 11,
   "metadata": {},
   "outputs": [
    {
     "data": {
      "text/plain": [
       "electronics                    313286\n",
       "home_and_kitchen               184397\n",
       "sports_and_outdoors            146547\n",
       "tools_and_home_improvement     101052\n",
       "automotive                      89497\n",
       "health_and_personal_care        80465\n",
       "cell_phones_and_accessories     80020\n",
       "patio_lawn_and_garden           59576\n",
       "toys_and_games                  51355\n",
       "office_products                 43438\n",
       "beauty                          42417\n",
       "pet_supplies                    36602\n",
       "baby                            28929\n",
       "musical_instruments             23292\n",
       "clothing_shoes_and_jewelry      21960\n",
       "arts_crafts_and_sewing          21261\n",
       "grocery_and_gourmet_food        19533\n",
       "industrial_and_scientific       12134\n",
       "video_games                      9998\n",
       "software                         9047\n",
       "appliances                       9008\n",
       "Name: category, dtype: int64"
      ]
     },
     "execution_count": 11,
     "metadata": {},
     "output_type": "execute_result"
    }
   ],
   "source": [
    "df.category.value_counts()"
   ]
  },
  {
   "cell_type": "code",
   "execution_count": 12,
   "metadata": {},
   "outputs": [
    {
     "data": {
      "text/plain": [
       "array(['yes/no', 'open-ended'], dtype=object)"
      ]
     },
     "execution_count": 12,
     "metadata": {},
     "output_type": "execute_result"
    }
   ],
   "source": [
    "df.question_type.unique()"
   ]
  },
  {
   "cell_type": "code",
   "execution_count": 13,
   "metadata": {},
   "outputs": [],
   "source": [
    "df['is_yn'] = [1 if x == 'yes/no' else 0 for x in df['question_type']]\n",
    "df.drop(columns=['question_type'], inplace=True)"
   ]
  },
  {
   "cell_type": "code",
   "execution_count": 14,
   "metadata": {
    "scrolled": true
   },
   "outputs": [
    {
     "data": {
      "text/html": [
       "<div>\n",
       "<style scoped>\n",
       "    .dataframe tbody tr th:only-of-type {\n",
       "        vertical-align: middle;\n",
       "    }\n",
       "\n",
       "    .dataframe tbody tr th {\n",
       "        vertical-align: top;\n",
       "    }\n",
       "\n",
       "    .dataframe thead th {\n",
       "        text-align: right;\n",
       "    }\n",
       "</style>\n",
       "<table border=\"1\" class=\"dataframe\">\n",
       "  <thead>\n",
       "    <tr style=\"text-align: right;\">\n",
       "      <th></th>\n",
       "      <th>category</th>\n",
       "      <th>combined_text</th>\n",
       "      <th>question</th>\n",
       "      <th>answer</th>\n",
       "      <th>asin</th>\n",
       "      <th>is_yn</th>\n",
       "    </tr>\n",
       "  </thead>\n",
       "  <tbody>\n",
       "    <tr>\n",
       "      <th>0</th>\n",
       "      <td>appliances</td>\n",
       "      <td>I have a 9 year old Badger 1 that needs replac...</td>\n",
       "      <td>I have a 9 year old Badger 1 that needs replac...</td>\n",
       "      <td>I replaced my old one with this without a hitch.</td>\n",
       "      <td>B00004U9JP</td>\n",
       "      <td>1</td>\n",
       "    </tr>\n",
       "    <tr>\n",
       "      <th>1</th>\n",
       "      <td>appliances</td>\n",
       "      <td>model number This may help InSinkErator Model ...</td>\n",
       "      <td>model number</td>\n",
       "      <td>This may help InSinkErator Model BADGER-1: Bad...</td>\n",
       "      <td>B00004U9JP</td>\n",
       "      <td>0</td>\n",
       "    </tr>\n",
       "    <tr>\n",
       "      <th>2</th>\n",
       "      <td>appliances</td>\n",
       "      <td>can I replace Badger 1 1/3 with a Badger 5 1/2...</td>\n",
       "      <td>can I replace Badger 1 1/3 with a Badger 5 1/2...</td>\n",
       "      <td>Plumbing connections will vary with different ...</td>\n",
       "      <td>B00004U9JP</td>\n",
       "      <td>1</td>\n",
       "    </tr>\n",
       "    <tr>\n",
       "      <th>3</th>\n",
       "      <td>appliances</td>\n",
       "      <td>Does this come with power cord and dishwasher ...</td>\n",
       "      <td>Does this come with power cord and dishwasher ...</td>\n",
       "      <td>It does not come with a power cord. It does co...</td>\n",
       "      <td>B00004U9JP</td>\n",
       "      <td>1</td>\n",
       "    </tr>\n",
       "    <tr>\n",
       "      <th>4</th>\n",
       "      <td>appliances</td>\n",
       "      <td>loud noise inside when turned on. sounds like ...</td>\n",
       "      <td>loud noise inside when turned on. sounds like ...</td>\n",
       "      <td>Check if you dropped something inside.Usually ...</td>\n",
       "      <td>B00004U9JP</td>\n",
       "      <td>0</td>\n",
       "    </tr>\n",
       "  </tbody>\n",
       "</table>\n",
       "</div>"
      ],
      "text/plain": [
       "     category                                      combined_text  \\\n",
       "0  appliances  I have a 9 year old Badger 1 that needs replac...   \n",
       "1  appliances  model number This may help InSinkErator Model ...   \n",
       "2  appliances  can I replace Badger 1 1/3 with a Badger 5 1/2...   \n",
       "3  appliances  Does this come with power cord and dishwasher ...   \n",
       "4  appliances  loud noise inside when turned on. sounds like ...   \n",
       "\n",
       "                                            question  \\\n",
       "0  I have a 9 year old Badger 1 that needs replac...   \n",
       "1                                       model number   \n",
       "2  can I replace Badger 1 1/3 with a Badger 5 1/2...   \n",
       "3  Does this come with power cord and dishwasher ...   \n",
       "4  loud noise inside when turned on. sounds like ...   \n",
       "\n",
       "                                              answer        asin  is_yn  \n",
       "0   I replaced my old one with this without a hitch.  B00004U9JP      1  \n",
       "1  This may help InSinkErator Model BADGER-1: Bad...  B00004U9JP      0  \n",
       "2  Plumbing connections will vary with different ...  B00004U9JP      1  \n",
       "3  It does not come with a power cord. It does co...  B00004U9JP      1  \n",
       "4  Check if you dropped something inside.Usually ...  B00004U9JP      0  "
      ]
     },
     "execution_count": 14,
     "metadata": {},
     "output_type": "execute_result"
    }
   ],
   "source": [
    "df.head()"
   ]
  },
  {
   "cell_type": "code",
   "execution_count": 25,
   "metadata": {},
   "outputs": [
    {
     "data": {
      "text/plain": [
       "0"
      ]
     },
     "execution_count": 25,
     "metadata": {},
     "output_type": "execute_result"
    }
   ],
   "source": [
    "df.category.isnull().sum()"
   ]
  },
  {
   "cell_type": "code",
   "execution_count": 15,
   "metadata": {},
   "outputs": [],
   "source": [
    "combined_text = df[['combined_text', 'category', 'asin']].copy()\n",
    "combined_text.to_csv('../datasets/cleaned/combined_text.csv', index=False)"
   ]
  },
  {
   "cell_type": "code",
   "execution_count": 16,
   "metadata": {},
   "outputs": [],
   "source": [
    "qa = df[['question', 'answer', 'category', 'asin', 'is_yn']].copy()\n",
    "qa.to_csv('../datasets/cleaned/question_answer.csv', index=False)"
   ]
  },
  {
   "cell_type": "code",
   "execution_count": 17,
   "metadata": {},
   "outputs": [],
   "source": [
    "df.to_csv('../datasets/cleaned/full_dataset.csv', index=False)"
   ]
  }
 ],
 "metadata": {
  "kernelspec": {
   "display_name": "Python 3",
   "language": "python",
   "name": "python3"
  },
  "language_info": {
   "codemirror_mode": {
    "name": "ipython",
    "version": 3
   },
   "file_extension": ".py",
   "mimetype": "text/x-python",
   "name": "python",
   "nbconvert_exporter": "python",
   "pygments_lexer": "ipython3",
   "version": "3.7.9"
  }
 },
 "nbformat": 4,
 "nbformat_minor": 4
}
