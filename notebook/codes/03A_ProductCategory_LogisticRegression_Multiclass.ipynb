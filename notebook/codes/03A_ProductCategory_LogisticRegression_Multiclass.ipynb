{
 "cells": [
  {
   "cell_type": "markdown",
   "metadata": {},
   "source": [
    "This attempt will be using logreg as baseline"
   ]
  },
  {
   "cell_type": "code",
   "execution_count": 1,
   "metadata": {},
   "outputs": [],
   "source": [
    "import numpy as np\n",
    "import pandas as pd\n",
    "\n",
    "from sklearn.pipeline import Pipeline\n",
    "\n",
    "from sklearn.feature_extraction import text\n",
    "from sklearn.feature_extraction.text import TfidfVectorizer\n",
    "\n",
    "from sklearn.multiclass import OneVsRestClassifier\n",
    "\n",
    "from sklearn.linear_model import LogisticRegression\n",
    "\n",
    "from sklearn import metrics\n",
    "\n",
    "import pickle"
   ]
  },
  {
   "cell_type": "code",
   "execution_count": 2,
   "metadata": {},
   "outputs": [],
   "source": [
    "df = pd.read_csv('../datasets/cleaned/combined_text.csv')"
   ]
  },
  {
   "cell_type": "code",
   "execution_count": 3,
   "metadata": {},
   "outputs": [
    {
     "data": {
      "text/html": [
       "<div>\n",
       "<style scoped>\n",
       "    .dataframe tbody tr th:only-of-type {\n",
       "        vertical-align: middle;\n",
       "    }\n",
       "\n",
       "    .dataframe tbody tr th {\n",
       "        vertical-align: top;\n",
       "    }\n",
       "\n",
       "    .dataframe thead th {\n",
       "        text-align: right;\n",
       "    }\n",
       "</style>\n",
       "<table border=\"1\" class=\"dataframe\">\n",
       "  <thead>\n",
       "    <tr style=\"text-align: right;\">\n",
       "      <th></th>\n",
       "      <th>combined_text</th>\n",
       "      <th>category</th>\n",
       "      <th>asin</th>\n",
       "    </tr>\n",
       "  </thead>\n",
       "  <tbody>\n",
       "    <tr>\n",
       "      <th>0</th>\n",
       "      <td>I have a 9 year old Badger 1 that needs replac...</td>\n",
       "      <td>appliances</td>\n",
       "      <td>B00004U9JP</td>\n",
       "    </tr>\n",
       "    <tr>\n",
       "      <th>1</th>\n",
       "      <td>model number This may help InSinkErator Model ...</td>\n",
       "      <td>appliances</td>\n",
       "      <td>B00004U9JP</td>\n",
       "    </tr>\n",
       "    <tr>\n",
       "      <th>2</th>\n",
       "      <td>can I replace Badger 1 1/3 with a Badger 5 1/2...</td>\n",
       "      <td>appliances</td>\n",
       "      <td>B00004U9JP</td>\n",
       "    </tr>\n",
       "    <tr>\n",
       "      <th>3</th>\n",
       "      <td>Does this come with power cord and dishwasher ...</td>\n",
       "      <td>appliances</td>\n",
       "      <td>B00004U9JP</td>\n",
       "    </tr>\n",
       "    <tr>\n",
       "      <th>4</th>\n",
       "      <td>loud noise inside when turned on. sounds like ...</td>\n",
       "      <td>appliances</td>\n",
       "      <td>B00004U9JP</td>\n",
       "    </tr>\n",
       "  </tbody>\n",
       "</table>\n",
       "</div>"
      ],
      "text/plain": [
       "                                       combined_text    category        asin\n",
       "0  I have a 9 year old Badger 1 that needs replac...  appliances  B00004U9JP\n",
       "1  model number This may help InSinkErator Model ...  appliances  B00004U9JP\n",
       "2  can I replace Badger 1 1/3 with a Badger 5 1/2...  appliances  B00004U9JP\n",
       "3  Does this come with power cord and dishwasher ...  appliances  B00004U9JP\n",
       "4  loud noise inside when turned on. sounds like ...  appliances  B00004U9JP"
      ]
     },
     "execution_count": 3,
     "metadata": {},
     "output_type": "execute_result"
    }
   ],
   "source": [
    "df.head()"
   ]
  },
  {
   "cell_type": "code",
   "execution_count": 4,
   "metadata": {},
   "outputs": [
    {
     "name": "stdout",
     "output_type": "stream",
     "text": [
      "{'appliances': 0, 'arts_crafts_and_sewing': 1, 'automotive': 2, 'baby': 3, 'beauty': 4, 'cell_phones_and_accessories': 5, 'clothing_shoes_and_jewelry': 6, 'electronics': 7, 'grocery_and_gourmet_food': 8, 'health_and_personal_care': 9, 'home_and_kitchen': 10, 'industrial_and_scientific': 11, 'musical_instruments': 12, 'office_products': 13, 'patio_lawn_and_garden': 14, 'pet_supplies': 15, 'software': 16, 'sports_and_outdoors': 17, 'tools_and_home_improvement': 18, 'toys_and_games': 19, 'video_games': 20}\n"
     ]
    }
   ],
   "source": [
    "category_list = list(df.category.unique())\n",
    "category_dict = { x:category_list.index(x) for x in category_list}\n",
    "print(category_dict)"
   ]
  },
  {
   "cell_type": "code",
   "execution_count": 5,
   "metadata": {},
   "outputs": [
    {
     "data": {
      "text/html": [
       "<div>\n",
       "<style scoped>\n",
       "    .dataframe tbody tr th:only-of-type {\n",
       "        vertical-align: middle;\n",
       "    }\n",
       "\n",
       "    .dataframe tbody tr th {\n",
       "        vertical-align: top;\n",
       "    }\n",
       "\n",
       "    .dataframe thead th {\n",
       "        text-align: right;\n",
       "    }\n",
       "</style>\n",
       "<table border=\"1\" class=\"dataframe\">\n",
       "  <thead>\n",
       "    <tr style=\"text-align: right;\">\n",
       "      <th></th>\n",
       "      <th>combined_text</th>\n",
       "      <th>category</th>\n",
       "      <th>asin</th>\n",
       "    </tr>\n",
       "  </thead>\n",
       "  <tbody>\n",
       "    <tr>\n",
       "      <th>0</th>\n",
       "      <td>I have a 9 year old Badger 1 that needs replac...</td>\n",
       "      <td>0</td>\n",
       "      <td>B00004U9JP</td>\n",
       "    </tr>\n",
       "    <tr>\n",
       "      <th>1</th>\n",
       "      <td>model number This may help InSinkErator Model ...</td>\n",
       "      <td>0</td>\n",
       "      <td>B00004U9JP</td>\n",
       "    </tr>\n",
       "    <tr>\n",
       "      <th>2</th>\n",
       "      <td>can I replace Badger 1 1/3 with a Badger 5 1/2...</td>\n",
       "      <td>0</td>\n",
       "      <td>B00004U9JP</td>\n",
       "    </tr>\n",
       "    <tr>\n",
       "      <th>3</th>\n",
       "      <td>Does this come with power cord and dishwasher ...</td>\n",
       "      <td>0</td>\n",
       "      <td>B00004U9JP</td>\n",
       "    </tr>\n",
       "    <tr>\n",
       "      <th>4</th>\n",
       "      <td>loud noise inside when turned on. sounds like ...</td>\n",
       "      <td>0</td>\n",
       "      <td>B00004U9JP</td>\n",
       "    </tr>\n",
       "  </tbody>\n",
       "</table>\n",
       "</div>"
      ],
      "text/plain": [
       "                                       combined_text  category        asin\n",
       "0  I have a 9 year old Badger 1 that needs replac...         0  B00004U9JP\n",
       "1  model number This may help InSinkErator Model ...         0  B00004U9JP\n",
       "2  can I replace Badger 1 1/3 with a Badger 5 1/2...         0  B00004U9JP\n",
       "3  Does this come with power cord and dishwasher ...         0  B00004U9JP\n",
       "4  loud noise inside when turned on. sounds like ...         0  B00004U9JP"
      ]
     },
     "execution_count": 5,
     "metadata": {},
     "output_type": "execute_result"
    }
   ],
   "source": [
    "df.replace({'category':category_dict}, inplace=True)\n",
    "df.head()"
   ]
  },
  {
   "cell_type": "code",
   "execution_count": 6,
   "metadata": {
    "scrolled": true
   },
   "outputs": [],
   "source": [
    "my_stop_words = []#extra words. todo: create a text file to load from\n",
    "stop_words = text.ENGLISH_STOP_WORDS.union(my_stop_words)\n",
    "\n",
    "vectorizer = TfidfVectorizer(\n",
    "    ngram_range=(1,1), \n",
    "    stop_words=stop_words,\n",
    "    analyzer='word',\n",
    "    token_pattern=r'[a-zA-Z]+',\n",
    ")\n",
    "\n",
    "X = vectorizer.fit_transform(df['combined_text'])\n",
    "y = df['category']"
   ]
  },
  {
   "cell_type": "code",
   "execution_count": 7,
   "metadata": {},
   "outputs": [
    {
     "name": "stdout",
     "output_type": "stream",
     "text": [
      "Wall time: 15min 26s\n"
     ]
    }
   ],
   "source": [
    "%%time\n",
    "lr = LogisticRegression(multi_class='ovr',max_iter=300,n_jobs=-1)\n",
    "clf = OneVsRestClassifier(lr).fit(X, y)"
   ]
  },
  {
   "cell_type": "code",
   "execution_count": 8,
   "metadata": {},
   "outputs": [],
   "source": [
    "y_hat = clf.predict(X)"
   ]
  },
  {
   "cell_type": "code",
   "execution_count": 18,
   "metadata": {},
   "outputs": [
    {
     "data": {
      "text/plain": [
       "0.6839148902959502"
      ]
     },
     "execution_count": 18,
     "metadata": {},
     "output_type": "execute_result"
    }
   ],
   "source": [
    "clf.score(X, y)"
   ]
  },
  {
   "cell_type": "code",
   "execution_count": 9,
   "metadata": {},
   "outputs": [
    {
     "data": {
      "text/plain": [
       "0.6839148902959502"
      ]
     },
     "execution_count": 9,
     "metadata": {},
     "output_type": "execute_result"
    }
   ],
   "source": [
    "metrics.accuracy_score(y, y_hat)"
   ]
  },
  {
   "cell_type": "code",
   "execution_count": 15,
   "metadata": {},
   "outputs": [],
   "source": [
    "probs = clf.predict_proba(X)"
   ]
  },
  {
   "cell_type": "code",
   "execution_count": 16,
   "metadata": {},
   "outputs": [
    {
     "data": {
      "text/plain": [
       "array([0.31374618, 0.07596179, 0.13106712, 0.01746021, 0.00793469,\n",
       "       0.00815209, 0.00181063, 0.0152032 , 0.00208402, 0.21833584,\n",
       "       0.00762823, 0.00257229, 0.00303513, 0.00821017, 0.0142055 ,\n",
       "       0.00572368, 0.00683542, 0.04472159, 0.0508844 , 0.05894804,\n",
       "       0.00547978])"
      ]
     },
     "execution_count": 16,
     "metadata": {},
     "output_type": "execute_result"
    }
   ],
   "source": [
    "probs[0]"
   ]
  },
  {
   "cell_type": "code",
   "execution_count": 10,
   "metadata": {
    "scrolled": false
   },
   "outputs": [
    {
     "name": "stdout",
     "output_type": "stream",
     "text": [
      "===Category: appliances===\n",
      "-Top-\n",
      "['whirlpool', 'maytag', 'frigidaire', 'ge', 'amana', 'kenmore', 'chimney', 'jenn', 'washer', 'keg', 'hood', 'kegs', 'refrigerator', 'ice', 'roper', 'fridge', 'hotpoint', 'dryer', 'ductless', 'cooktop', 'element', 'range', 'broan', 'duct', 'ja', 'humidifier', 'cycle', 'kitchenaid', 'freezer', 'vent', 'burners', 'ducted', 'disposal', 'wr', 'kegerator', 'da', 'knobs', 'ventless', 'filter', 'ww']\n",
      "-Bottom-\n",
      "['phone', 'camera', 'lens', 'safe', 'battery', 'seat', 'car', 'coffee', 'case', 'mm', 'hair', 'bed', 'charger', 'bottle', 'bike', 'table', 'windows', 'galaxy', 'speakers', 'laptop', 'mattress', 'chair', 'card', 'cable', 'pool', 'speaker', 'computer', 'keyboard', 'honda', 'drive', 'bowl', 'iphone', 'oil', 'wear', 'vacuum', 'microwave', 'cream', 'play', 'tablet', 'engine']\n",
      "\n",
      "===Category: arts_crafts_and_sewing===\n",
      "-Top-\n",
      "['singer', 'janome', 'bobbin', 'mannequin', 'bernina', 'yarn', 'brother', 'airbrush', 'serger', 'juki', 'stitch', 'sizzix', 'bobbins', 'cricut', 'sewing', 'easel', 'machine', 'cuttlebug', 'silhouette', 'paints', 'kiln', 'yard', 'sew', 'punch', 'embossing', 'needles', 'yards', 'quilting', 'beads', 'fabric', 'clay', 'presser', 'needle', 'babylock', 'viking', 'pfaff', 'stitches', 'sketch', 'watercolor', 'craft']\n",
      "-Bottom-\n",
      "['phone', 'camera', 'mattress', 'bike', 'bed', 'hair', 'mount', 'pump', 'battery', 'tv', 'filter', 'lens', 'remote', 'charger', 'unit', 'game', 'monitor', 'seat', 'fan', 'sound', 'music', 'pan', 'speakers', 'install', 'keyboard', 'capacity', 'coffee', 'gas', 'comforter', 'galaxy', 'tire', 'device', 'screen', 'drive', 'cable', 'grill', 'pool', 'sony', 'door', 'filters']\n",
      "\n",
      "===Category: automotive===\n",
      "-Top-\n",
      "['wiper', 'headlights', 'bwt', 'dorman', 'strut', 'tailgate', 'shocks', 'headlight', 'passenger', 'muffler', 'coolant', 'harley', 'emblem', 'sportster', 'suzuki', 'dometic', 'tpms', 'mirrors', 'transmission', 'bmw', 'optima', 'obd', 'thetford', 'dealer', 'camaro', 'mats', 'hid', 'meguiar', 'radiator', 'tacoma', 'dealership', 'windshield', 'agm', 'atwood', 'acdelco', 'weathertech', 'delco', 'vehicle', 'sena', 'mazda']\n",
      "-Bottom-\n",
      "['speakers', 'din', 'keyboard', 'stroller', 'canon', 'camera', 'crutchfield', 'tv', 'phone', 'sony', 'metra', 'gb', 'baby', 'samsung', 'tablet', 'speaker', 'nikon', 'stereo', 'pool', 'ipod', 'card', 'table', 'screen', 'headphones', 'ipad', 'facing', 'hair', 'holster', 'headphone', 'ceiling', 'game', 'hdmi', 'asus', 'audio', 'guitar', 'infant', 'shelves', 'cabinet', 'dell', 'router']\n",
      "\n",
      "===Category: baby===\n",
      "-Top-\n",
      "['crib', 'bassinet', 'britax', 'baby', 'stroller', 'medela', 'graco', 'carseat', 'gate', 'nipples', 'infant', 'banister', 'avent', 'changing', 'ergo', 'chicco', 'nipple', 'parent', 'newborn', 'playtex', 'diapers', 'potty', 'strollers', 'uppababy', 'sippy', 'prefolds', 'diaper', 'babies', 'breast', 'bugaboo', 'sterilizer', 'maclaren', 'playard', 'toddler', 'jogger', 'nuk', 'highchair', 'evenflo', 'infants', 'booster']\n",
      "-Bottom-\n",
      "['doll', 'pet', 'lens', 'phone', 'keyboard', 'usb', 'filter', 'game', 'laptop', 'dog', 'speakers', 'oil', 'cable', 'hair', 'tank', 'headphones', 'fan', 'desk', 'hose', 'tea', 'ipad', 'truck', 'radio', 'christmas', 'swim', 'ingredients', 'computer', 'canon', 'grill', 'gun', 'dolls', 'card', 'sony', 'bucket', 'charger', 'dogs', 'shoe', 'case', 'roof', 'hp']\n",
      "\n",
      "===Category: beauty===\n",
      "-Top-\n",
      "['wig', 'perfume', 'hair', 'clarisonic', 'beauty', 'opi', 'makeup', 'shea', 'curler', 'tanning', 'lashes', 'serum', 'argan', 'foundation', 'blonde', 'salon', 'conair', 'hairdryer', 'mia', 'mascara', 'sunscreen', 'shampoo', 'curlers', 'dryer', 'pores', 'moisturizer', 'skin', 'styling', 'henna', 'acne', 'mirror', 'nail', 'rollers', 'lotion', 'revlon', 'cologne', 'nails', 'parfum', 'tiwan', 'parabens']\n",
      "-Bottom-\n",
      "['camera', 'phone', 'car', 'mattress', 'fit', 'tv', 'dog', 'lens', 'doll', 'remote', 'windows', 'laptop', 'screen', 'paint', 'play', 'computer', 'drive', 'keyboard', 'cable', 'cat', 'iphone', 'ipad', 'installed', 'game', 'headphones', 'support', 'board', 'tablet', 'monitor', 'dogs', 'pet', 'install', 'compatible', 'flavor', 'dish', 'dishwasher', 'grill', 'oven', 'samsung', 'door']\n",
      "\n",
      "===Category: cell_phones_and_accessories===\n",
      "-Top-\n",
      "['phone', 'tracfone', 'sim', 'xperia', 'blu', 'nfc', 'htc', 'whatsapp', 'digitizer', 'venezuela', 'tmobile', 'spigen', 'unlocked', 'qi', 'movistar', 'sgh', 'dashboard', 'texting', 'metro', 'zte', 'moto', 'case', 'mophie', 'swede', 'nokia', 'jabra', 'cases', 'pantech', 'wilson', 'huawei', 'atrix', 'rnd', 'optimus', 'sprint', 'looxcie', 'motorola', 'alcatel', 'gingerbread', 'convoy', 'lg']\n",
      "-Bottom-\n",
      "['machine', 'canon', 'bottle', 'filter', 'ray', 'nikon', 'seat', 'chair', 'wheels', 'lbs', 'bulb', 'pump', 'mattress', 'bed', 'hose', 'monitor', 'bottles', 'pillow', 'ingredients', 'printer', 'gun', 'guitar', 'baby', 'remote', 'filters', 'hair', 'bulbs', 'lid', 'knife', 'shoe', 'rack', 'panasonic', 'dog', 'drill', 'scope', 'tank', 'mouse', 'grill', 'pounds', 'motor']\n",
      "\n",
      "===Category: clothing_shoes_and_jewelry===\n",
      "-Top-\n",
      "['tilley', 'armour', 'hoodie', 'yaktrax', 'arobic', 'jewelry', 'watch', 'costume', 'watches', 'propper', 'brim', 'tankini', 'earrings', 'ua', 'shirts', 'jacket', 'bodybuilder', 'ideally', 'armoire', 'shimano', 'trunks', 'earbags', 'hospital', 'underwear', 'fuller', 'baffin', 'yvette', 'sweatshirt', 'cleats', 'shrink', 'shirt', 'fly', 'skirt', 'sole', 'jansport', 'spd', 'youths', 'laces', 'wicking', 'undershirt']\n",
      "-Bottom-\n",
      "['skates', 'dog', 'mattress', 'tv', 'camera', 'chair', 'works', 'fins', 'brace', 'power', 'filter', 'keyboard', 'sheet', 'use', 'seat', 'speakers', 'shelf', 'skate', 'stroller', 'makes', 'oil', 'fin', 'cat', 'cable', 'waders', 'pump', 'headphones', 'installed', 'case', 'bottles', 'sheets', 'ingredients', 'bulb', 'used', 'palm', 'holster', 'doll', 'tablet', 'g', 'dogs']\n",
      "\n",
      "===Category: electronics===\n",
      "-Top-\n",
      "['nikon', 'softbox', 'backdrop', 'din', 'crutchfield', 'psu', 'motherboard', 'asus', 'lenovo', 'ssd', 'msi', 'sata', 'manfrotto', 'sony', 'dvr', 'olympus', 'monopod', 'drives', 'backdrops', 'inspiron', 'webcam', 'metra', 'camera', 'toshiba', 'tweeters', 'acer', 'canon', 'lens', 'radios', 'corsair', 'cpu', 'tripod', 'heatsink', 'seagate', 'modem', 'tomtom', 'tv', 'roku', 'jvc', 'atx']\n",
      "-Bottom-\n",
      "['mattress', 'chair', 'ingredients', 'gun', 'stroller', 'thermostat', 'tire', 'faucet', 'vacuum', 'tires', 'midi', 'bottles', 'hose', 'bpa', 'oil', 'mixer', 'baby', 'pump', 'valve', 'dewalt', 'gloves', 'guitar', 'ruger', 'blade', 'tank', 'blades', 'chairs', 'fixture', 'toy', 'bosch', 'xlr', 'socks', 'heater', 'doll', 'glock', 'cartridges', 'food', 'rifle', 'drawers', 'pot']\n",
      "\n",
      "===Category: grocery_and_gourmet_food===\n",
      "-Top-\n",
      "['delicious', 'keurig', 'grown', 'gumball', 'decaf', 'honey', 'candy', 'sauce', 'kosher', 'msg', 'bonsai', 'noodles', 'spicy', 'coconut', 'flour', 'matcha', 'sodium', 'wonderbag', 'tea', 'pasteurized', 'candies', 'syrup', 'almonds', 'lollipops', 'nespresso', 'sardines', 'nutritional', 'eating', 'fortunes', 'salted', 'jimmies', 'salt', 'cookies', 'grits', 'kuerig', 'packets', 'cocoa', 'teas', 'irradiated', 'cherries']\n",
      "-Bottom-\n",
      "['fit', 'battery', 'hold', 'work', 'warranty', 'phone', 'set', 'unit', 'shellfish', 'batteries', 'camera', 'works', 'model', 'manual', 'whey', 'support', 'fits', 'pair', 'screen', 'dog', 'seat', 'bed', 'v', 'device', 'car', 'play', 'blade', 'wood', 'tv', 'power', 'ft', 'lens', 'cable', 'capacity', 'handle', 'holds', 'pan', 'worked', 'feet', 'setting']\n",
      "\n",
      "===Category: health_and_personal_care===\n",
      "-Top-\n",
      "['shaver', 'walker', 'rollator', 'massager', 'brace', 'pills', 'cane', 'insertable', 'razor', 'hookah', 'norelco', 'commode', 'wheelchair', 'crutches', 'shave', 'medical', 'splint', 'toothbrush', 'shaving', 'whey', 'supplements', 'insulin', 'capsules', 'braun', 'invitation', 'sonicare', 'oral', 'dildo', 'insoles', 'omron', 'massage', 'tens', 'vitamins', 'pill', 'capsule', 'footrests', 'neti', 'supplement', 'invacare', 'polar']\n",
      "-Bottom-\n",
      "['camera', 'keyboard', 'samsung', 'canon', 'stroller', 'bike', 'shorts', 'nikon', 'game', 'sony', 'mount', 'speakers', 'hp', 'filter', 'speaker', 'shelves', 'gb', 'unlocked', 'helmet', 'dog', 'macbook', 'grandson', 'tripod', 'cooker', 'hdmi', 'fins', 'guitar', 'vest', 'holster', 'jacket', 'pan', 'ipad', 'inseam', 'tire', 'laptop', 'router', 'asus', 'tent', 'headphones', 'cables']\n",
      "\n"
     ]
    },
    {
     "name": "stdout",
     "output_type": "stream",
     "text": [
      "===Category: home_and_kitchen===\n",
      "-Top-\n",
      "['juicer', 'duvet', 'cuisinart', 'curtain', 'comforter', 'slicer', 'futon', 'kettle', 'cooker', 'toaster', 'roomba', 'vitamix', 'dyson', 'blender', 'induction', 'shams', 'headboard', 'pitcher', 'carafe', 'krups', 'infuser', 'dough', 'purifier', 'beater', 'topper', 'peeler', 'ironing', 'stools', 'pan', 'ksm', 'mug', 'frother', 'foodsaver', 'waring', 'ozone', 'mattress', 'eureka', 'bodum', 'miele', 'jvm']\n",
      "-Bottom-\n",
      "['camera', 'crib', 'bike', 'phone', 'lens', 'stroller', 'play', 'gate', 'bassinet', 'feeder', 'doll', 'toy', 'software', 'tire', 'headphones', 'gun', 'scope', 'tires', 'macbook', 'pool', 'iphone', 'antenna', 'radio', 'ram', 'guitar', 'chart', 'holster', 'roof', 'galaxy', 'ink', 'waist', 'tripod', 'honda', 'ear', 'mic', 'lamp', 'headset', 'music', 'nikon', 'ford']\n",
      "\n",
      "===Category: industrial_and_scientific===\n",
      "-Top-\n",
      "['stethoscope', 'toothpaste', 'microscope', 'amscope', 'winch', 'stethoscopes', 'hydrometer', 'epoxy', 'oreck', 'littman', 'filament', 'cuff', 'caulk', 'dropper', 'calibration', 'mop', 'vacuum', 'pla', 'diaphram', 'vise', 'flask', 'printrbot', 'bulkhead', 'knowif', 'vac', 'littmann', 'diaphragm', 'caster', 'dolly', 'kimberly', 'grommets', 'grommet', 'contactor', 'dac', 'refractometer', 'ramp', 'ramps', 'extruder', 'sealant', 'rubbermaid']\n",
      "-Bottom-\n",
      "['phone', 'keyboard', 'seat', 'iphone', 'play', 'rear', 'lens', 'ink', 'sony', 'tripod', 'bluetooth', 'charger', 'lights', 'screen', 'router', 'waist', 'mouse', 'cups', 'ipad', 'dvd', 'game', 'cup', 'bowl', 'card', 'speakers', 'wear', 'ford', 'mat', 'radio', 'hair', 'toy', 'speaker', 'mic', 'charge', 'gb', 'ipod', 'bike', 'headset', 'laptop', 'skin']\n",
      "\n",
      "===Category: musical_instruments===\n",
      "-Top-\n",
      "['guitar', 'violin', 'epiphone', 'behringer', 'guitars', 'korg', 'midi', 'instrument', 'banjo', 'strings', 'chauvet', 'ukulele', 'xlr', 'fender', 'gibson', 'dmx', 'karaoke', 'metronome', 'uke', 'dj', 'peavey', 'mics', 'trumpet', 'cello', 'drum', 'flute', 'ocarina', 'piano', 'traktor', 'pedal', 'shure', 'headshell', 'ibanez', 'acoustic', 'les', 'truss', 'cymbal', 'cubase', 'ableton', 'daw']\n",
      "-Bottom-\n",
      "['bike', 'phone', 'lens', 'camera', 'mouse', 'water', 'antenna', 'bed', 'hdmi', 'car', 'chair', 'dog', 'pump', 'mattress', 'games', 'hair', 'blade', 'door', 'bottle', 'charger', 'printer', 'samsung', 'hose', 'game', 'router', 'shower', 'wifi', 'skin', 'honda', 'scope', 'dell', 'stainless', 'gun', 'holster', 'ingredients', 'screen', 'xbox', 'glass', 'gas', 'network']\n",
      "\n",
      "===Category: office_products===\n",
      "-Top-\n",
      "['calculator', 'shredder', 'handsets', 'scanner', 'toner', 'scan', 'cartridges', 'printer', 'ink', 'planner', 'handset', 'mailers', 'calendar', 'scanning', 'laminator', 'epson', 'pencil', 'pencils', 'mfc', 'labels', 'embosser', 'scans', 'cartridge', 'typewriter', 'barbs', 'toners', 'ringer', 'dymo', 'presentation', 'ooma', 'laminating', 'print', 'dictionary', 'lexmark', 'desk', 'badge', 'scanned', 'answering', 'translate', 'envelopes']\n",
      "-Bottom-\n",
      "['camera', 'bike', 'mattress', 'filter', 'lens', 'speakers', 'ingredients', 'pan', 'hair', 'lamp', 'scope', 'sim', 'gps', 'radio', 'grill', 'filters', 'sony', 'bowl', 'pot', 'car', 'toilet', 'straps', 'stroller', 'ceiling', 'hose', 'skin', 'baby', 'drive', 'bottle', 'mic', 'player', 'honda', 'bench', 'holster', 'hdmi', 'play', 'faucet', 'knives', 'knife', 'valve']\n",
      "\n",
      "===Category: patio_lawn_and_garden===\n",
      "-Top-\n",
      "['hayward', 'mower', 'poulan', 'planter', 'smoker', 'pentair', 'pool', 'husqvarna', 'weber', 'toro', 'karcher', 'shed', 'trellis', 'soil', 'fertilizer', 'gazebo', 'greenworks', 'sprinkler', 'watering', 'wicker', 'spa', 'umbrella', 'hammock', 'stihl', 'trap', 'generator', 'compost', 'grow', 'generac', 'pit', 'grill', 'garrett', 'firepit', 'chainsaw', 'greenhouse', 'plants', 'intex', 'cushions', 'plant', 'spreader']\n",
      "-Bottom-\n",
      "['camera', 'hair', 'phone', 'mattress', 'bike', 'stroller', 'speakers', 'lens', 'daughter', 'keyboard', 'shower', 'play', 'speaker', 'tv', 'antenna', 'printer', 'cards', 'samsung', 'sony', 'scope', 'computer', 'card', 'canon', 'laptop', 'desk', 'guitar', 'ink', 'toilet', 'game', 'skin', 'tablet', 'ipad', 'knife', 'drawers', 'leather', 'compressor', 'iphone', 'macbook', 'toyota', 'chevy']\n",
      "\n",
      "===Category: pet_supplies===\n",
      "-Top-\n",
      "['dog', 'collar', 'cage', 'crate', 'litter', 'kennel', 'aquarium', 'dogs', 'vet', 'cats', 'cat', 'pet', 'puppy', 'fluval', 'treats', 'yorkie', 'petsafe', 'lab', 'leash', 'terrier', 'aqueon', 'adjustst', 'kitten', 'betta', 'collars', 'kitty', 'poodle', 'furminator', 'feliway', 'hamster', 'maltese', 'corals', 'paws', 'tank', 'pooboss', 'chihuahua', 'doggie', 'ferrets', 'bulldog', 'pug']\n",
      "-Bottom-\n",
      "['camera', 'son', 'propane', 'tv', 'phone', 'coffee', 'daughter', 'laptop', 'fan', 'chair', 'keyboard', 'lens', 'kids', 'ipad', 'computer', 'gas', 'oven', 'pot', 'speakers', 'comforter', 'usb', 'child', 'cooking', 'speaker', 'gun', 'grind', 'game', 'queen', 'case', 'pool', 'vacuum', 'desk', 'wiring', 'card', 'wife', 'twin', 'attract', 'cook', 'cabinet', 'samsung']\n",
      "\n",
      "===Category: software===\n",
      "-Top-\n",
      "['program', 'quicken', 'webroot', 'version', 'norton', 'fluenz', 'license', 'import', 'elements', 'turbotax', 'ancestry', 'licenses', 'income', 'intuit', 'computers', 'publisher', 'kaspersky', 'deluxe', 'capture', 'lessons', 'leopard', 'subscription', 'nuvi', 'qb', 'student', 'federal', 'corel', 'dragon', 'upgrade', 'state', 'create', 'payroll', 'recipes', 'lightroom', 'learn', 'studio', 'family', 'poser', 'nero', 'platinum']\n",
      "-Bottom-\n",
      "['fit', 'model', 'unit', 'phone', 'warranty', 'camera', 'battery', 'size', 'water', 'comes', 'drivers', 'light', 'inches', 'remote', 'usb', 'come', 'plastic', 'dimensions', 'driver', 'china', 'black', 'bluetooth', 'batteries', 'steam', 'case', 'plug', 'cable', 'weight', 'inch', 'router', 'replacement', 'hold', 'bottle', 'fits', 'wifi', 'pre', 'firmware', 'adapter', 'radio', 'lens']\n",
      "\n",
      "===Category: sports_and_outdoors===\n",
      "-Top-\n",
      "['trampoline', 'skates', 'scope', 'ruger', 'bike', 'paracord', 'gnome', 'rifle', 'schwinn', 'reticle', 'bbs', 'moultrie', 'sights', 'fins', 'stun', 'treadmill', 'bipod', 'glock', 'sight', 'gi', 'sawyer', 'wildcat', 'crossbow', 'chainring', 'wetsuit', 'revolver', 'mags', 'skate', 'rebounder', 'pistol', 'coleman', 'fin', 'crankset', 'sword', 'colt', 'freewheel', 'bowflex', 'pedometer', 'cue', 'phubby']\n",
      "-Bottom-\n",
      "['sony', 'keyboard', 'tv', 'speakers', 'printer', 'guitar', 'diaper', 'crib', 'canon', 'mouse', 'speaker', 'doll', 'antenna', 'dell', 'vacuum', 'panasonic', 'booster', 'lamp', 'mower', 'stroller', 'capsules', 'asus', 'bulbs', 'cpu', 'tablet', 'hdmi', 'mechanix', 'king', 'processor', 'ingredients', 'perfume', 'drawers', 'cooker', 'mic', 'lenovo', 'pills', 'stylus', 'router', 'baby', 'brace']\n",
      "\n",
      "===Category: tools_and_home_improvement===\n",
      "-Top-\n",
      "['mechanix', 'dewalt', 'nailer', 'makita', 'sander', 'mailbox', 'extinguisher', 'faucet', 'bidet', 'showerhead', 'chandelier', 'welder', 'lamp', 'porter', 'flashlight', 'lathe', 'liftmaster', 'toto', 'chuck', 'deadbolt', 'milwaukee', 'doorbell', 'bosch', 'sink', 'fixture', 'bits', 'kreg', 'downrod', 'saw', 'plumber', 'dremel', 'planer', 'schlage', 'rinnai', 'welding', 'hakko', 'delta', 'respirator', 'grohe', 'kidde']\n",
      "-Bottom-\n",
      "['camera', 'sony', 'tv', 'keyboard', 'mattress', 'canon', 'speakers', 'phone', 'printer', 'nikon', 'projector', 'pillow', 'hair', 'game', 'mouse', 'tablet', 'gb', 'cpu', 'headphones', 'stroller', 'scope', 'mic', 'hdmi', 'computer', 'speaker', 'cameras', 'pants', 'dell', 'asus', 'antenna', 'guitar', 'passenger', 'blender', 'laptop', 'ingredients', 'player', 'headset', 'skin', 'cards', 'umbrella']\n",
      "\n",
      "===Category: toys_and_games===\n",
      "-Top-\n",
      "['doll', 'helicopter', 'dolls', 'copter', 'traxxas', 'lipo', 'heli', 'furby', 'leap', 'leapfrog', 'puzzle', 'figures', 'leappad', 'toy', 'leapster', 'esc', 'syma', 'train', 'slash', 'hasbro', 'marbles', 'innotab', 'lego', 'hubsan', 'servo', 'hearthsong', 'barbie', 'quadcopter', 'castle', 'dice', 'hobby', 'sandbox', 'wagon', 'nerf', 'figure', 'stampede', 'playset', 'dollhouse', 'rc', 'trains']\n",
      "-Bottom-\n",
      "['filter', 'phone', 'sony', 'unit', 'canon', 'sim', 'speakers', 'lens', 'monitor', 'bluetooth', 'filters', 'comfortable', 'expiration', 'honda', 'hp', 'nikon', 'glass', 'heater', 'ram', 'shower', 'rack', 'installed', 'chair', 'ford', 'install', 'fit', 'medium', 'pair', 'stereo', 'coffee', 'pan', 'chairs', 'toyota', 'comforter', 'warranty', 'fan', 'gate', 'bulbs', 'chevy', 'perfume']\n",
      "\n"
     ]
    },
    {
     "name": "stdout",
     "output_type": "stream",
     "text": [
      "===Category: video_games===\n",
      "-Top-\n",
      "['game', 'ds', 'vita', 'saitek', 'controller', 'multiplayer', 'wii', 'console', 'joystick', 'dlc', 'psn', 'steam', 'controllers', 'nyko', 'xbox', 'kinect', 'razer', 'dsi', 'mechanical', 'dance', 'ps', 'code', 'campaign', 'offline', 'yoke', 'edition', 'account', 'dpi', 'character', 'gamepad', 'mod', 'play', 'psp', 'headset', 'games', 'op', 'simulator', 'violence', 'steelseries', 'mods']\n",
      "-Bottom-\n",
      "['phone', 'fit', 'water', 'size', 'unit', 'printer', 'bag', 'camera', 'bottle', 'machine', 'hair', 'samsung', 'radio', 'lens', 'speaker', 'blade', 'canon', 'diameter', 'office', 'door', 'filter', 'product', 'bike', 'ipad', 'seat', 'handle', 'apple', 'car', 'record', 'bulb', 'pump', 'nikon', 'kit', 'oil', 'china', 'mattress', 'dvd', 'height', 'tall', 'lid']\n",
      "\n"
     ]
    }
   ],
   "source": [
    "inv_category_dict = {v: k for k, v in category_dict.items()}\n",
    "\n",
    "count = 0\n",
    "for coef in clf.coef_:\n",
    "    words = list(zip(coef, vectorizer.get_feature_names()))\n",
    "    top_words = sorted(words, reverse=True)[:40]\n",
    "    bottom_words = sorted(words, reverse=False)[:40]\n",
    "    \n",
    "    print(f\"===Category: {inv_category_dict[count]}===\")\n",
    "    print(f\"-Top-\")\n",
    "    print([x[1] for x in top_words])\n",
    "    print(f\"-Bottom-\")\n",
    "    print([x[1] for x in bottom_words])\n",
    "    print('')\n",
    "    count+=1"
   ]
  },
  {
   "cell_type": "code",
   "execution_count": 19,
   "metadata": {},
   "outputs": [],
   "source": [
    "filename = '../models/category_logistic_regression_ovr.sav'\n",
    "pickle.dump(clf, open(filename, 'wb'))"
   ]
  }
 ],
 "metadata": {
  "kernelspec": {
   "display_name": "Python 3",
   "language": "python",
   "name": "python3"
  },
  "language_info": {
   "codemirror_mode": {
    "name": "ipython",
    "version": 3
   },
   "file_extension": ".py",
   "mimetype": "text/x-python",
   "name": "python",
   "nbconvert_exporter": "python",
   "pygments_lexer": "ipython3",
   "version": "3.7.9"
  }
 },
 "nbformat": 4,
 "nbformat_minor": 4
}
