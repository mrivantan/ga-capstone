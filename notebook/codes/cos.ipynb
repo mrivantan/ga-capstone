{
 "cells": [
  {
   "cell_type": "code",
   "execution_count": 1,
   "metadata": {},
   "outputs": [
    {
     "name": "stderr",
     "output_type": "stream",
     "text": [
      "[nltk_data] Downloading package wordnet to\n",
      "[nltk_data]     C:\\Users\\mriva\\AppData\\Roaming\\nltk_data...\n",
      "[nltk_data]   Package wordnet is already up-to-date!\n",
      "[nltk_data] Downloading package punkt to\n",
      "[nltk_data]     C:\\Users\\mriva\\AppData\\Roaming\\nltk_data...\n",
      "[nltk_data]   Package punkt is already up-to-date!\n"
     ]
    }
   ],
   "source": [
    "import numpy as np\n",
    "import matplotlib.pyplot as plt\n",
    "import pandas as pd\n",
    "\n",
    "import nltk\n",
    "nltk.download('wordnet')\n",
    "nltk.download('punkt')\n",
    "from nltk.stem import WordNetLemmatizer\n",
    "from nltk.stem.porter import PorterStemmer\n",
    "from nltk.corpus import stopwords \n",
    "from nltk.tokenize import word_tokenize \n",
    "import re\n",
    "\n",
    "from sklearn.feature_extraction.text import TfidfVectorizer\n",
    "from sklearn.preprocessing import normalize\n",
    "\n",
    "from sklearn.cluster import KMeans\n",
    "\n",
    "from sklearn.metrics.pairwise import cosine_similarity"
   ]
  },
  {
   "cell_type": "code",
   "execution_count": 2,
   "metadata": {},
   "outputs": [],
   "source": [
    "df = pd.read_csv('../datasets/cleaned/combined_text.csv')"
   ]
  },
  {
   "cell_type": "code",
   "execution_count": 3,
   "metadata": {},
   "outputs": [],
   "source": [
    "lemmatizer = WordNetLemmatizer()"
   ]
  },
  {
   "cell_type": "code",
   "execution_count": 4,
   "metadata": {},
   "outputs": [],
   "source": [
    "appliance_df = df.groupby('category').get_group('appliances')"
   ]
  },
  {
   "cell_type": "code",
   "execution_count": 5,
   "metadata": {},
   "outputs": [],
   "source": [
    "def process_text(text):\n",
    "    t = re.sub(r'[\\W]+', ' ', text)\n",
    "    t = t.lower()\n",
    "    t = PorterStemmer().stem(t)\n",
    "    t = word_tokenize(t)\n",
    "    t = [w for w in t if not w in stop_words]\n",
    "    t = \" \".join(t)\n",
    "    return t"
   ]
  },
  {
   "cell_type": "code",
   "execution_count": 6,
   "metadata": {},
   "outputs": [],
   "source": [
    "stop_words = set(stopwords.words('english'))\n",
    "data = pd.DataFrame()\n",
    "for asin, items  in appliance_df.groupby('asin').groups.items():\n",
    "    test_text = appliance_df.loc[items[0], 'combined_text']\n",
    "    test_text = process_text(test_text)\n",
    "    \n",
    "    train_text = \" \".join(appliance_df.loc[items[1:], 'combined_text'])\n",
    "    train_text = process_text(train_text)\n",
    "    \n",
    "    data = data.append(pd.DataFrame({\n",
    "        'label': [asin], \n",
    "        'train': [train_text],\n",
    "        'test': [test_text]\n",
    "    }), ignore_index=True)"
   ]
  },
  {
   "cell_type": "code",
   "execution_count": 7,
   "metadata": {},
   "outputs": [],
   "source": [
    "tfidf = TfidfVectorizer(stop_words = 'english',\n",
    "                             max_features = 50_000)\n",
    "corpus = data['train'] + ' ' + data['test']\n",
    "tfidf = tfidf.fit(corpus)\n",
    "train_vec = tfidf.transform(data['train'])\n",
    "test_vec = tfidf.transform(data['test'])"
   ]
  },
  {
   "cell_type": "code",
   "execution_count": 8,
   "metadata": {},
   "outputs": [],
   "source": [
    "sim_unigram=cosine_similarity(test_vec, train_vec)"
   ]
  },
  {
   "cell_type": "code",
   "execution_count": 9,
   "metadata": {},
   "outputs": [],
   "source": [
    "def get_similar(x, n_preds = 3):\n",
    "    return list(data['label'].loc[x.argsort()[(n_preds+1)*-1:-1]])"
   ]
  },
  {
   "cell_type": "code",
   "execution_count": 10,
   "metadata": {},
   "outputs": [],
   "source": [
    "most_similar_list = [get_similar(x) for x in sim_unigram]"
   ]
  },
  {
   "cell_type": "code",
   "execution_count": 11,
   "metadata": {},
   "outputs": [],
   "source": [
    "data['pred'] = most_similar_list"
   ]
  },
  {
   "cell_type": "code",
   "execution_count": 12,
   "metadata": {},
   "outputs": [],
   "source": [
    "data['score'] = [1 if label in sim else 0 for label, sim in zip(data['label'], data['pred'])]"
   ]
  },
  {
   "cell_type": "code",
   "execution_count": 13,
   "metadata": {},
   "outputs": [
    {
     "data": {
      "text/html": [
       "<div>\n",
       "<style scoped>\n",
       "    .dataframe tbody tr th:only-of-type {\n",
       "        vertical-align: middle;\n",
       "    }\n",
       "\n",
       "    .dataframe tbody tr th {\n",
       "        vertical-align: top;\n",
       "    }\n",
       "\n",
       "    .dataframe thead th {\n",
       "        text-align: right;\n",
       "    }\n",
       "</style>\n",
       "<table border=\"1\" class=\"dataframe\">\n",
       "  <thead>\n",
       "    <tr style=\"text-align: right;\">\n",
       "      <th></th>\n",
       "      <th>label</th>\n",
       "      <th>train</th>\n",
       "      <th>test</th>\n",
       "      <th>pred</th>\n",
       "      <th>score</th>\n",
       "    </tr>\n",
       "  </thead>\n",
       "  <tbody>\n",
       "    <tr>\n",
       "      <th>0</th>\n",
       "      <td>B00004U9JO</td>\n",
       "      <td>power cord included plug disposal unit ttok mi...</td>\n",
       "      <td>badger 5 leaking water bottom near reset botto...</td>\n",
       "      <td>[B00004U9JP, B00004U9JO, B008M2IPBE]</td>\n",
       "      <td>1</td>\n",
       "    </tr>\n",
       "    <tr>\n",
       "      <th>1</th>\n",
       "      <td>B00004U9JP</td>\n",
       "      <td>model number may help insinkerator model badge...</td>\n",
       "      <td>9 year old badger 1 needs replacing badger 1 i...</td>\n",
       "      <td>[B001B4E0VY, B00004U9JP, B000BQOWES]</td>\n",
       "      <td>1</td>\n",
       "    </tr>\n",
       "    <tr>\n",
       "      <th>2</th>\n",
       "      <td>B00004W4UJ</td>\n",
       "      <td>electic stove varying sizes burners mentioned ...</td>\n",
       "      <td>burner plates electric glass cooktops burner p...</td>\n",
       "      <td>[B004MLTDBU, B005HYW4M6, B00004W4UK]</td>\n",
       "      <td>0</td>\n",
       "    </tr>\n",
       "    <tr>\n",
       "      <th>3</th>\n",
       "      <td>B00004W4UK</td>\n",
       "      <td>electic stove varying sizes burners mentioned ...</td>\n",
       "      <td>burner plates electric glass cooktops burner p...</td>\n",
       "      <td>[B004MLTDBU, B005HYW4M6, B00004W4UK]</td>\n",
       "      <td>1</td>\n",
       "    </tr>\n",
       "    <tr>\n",
       "      <th>4</th>\n",
       "      <td>B00005AUHX</td>\n",
       "      <td>many strips come kit need least 12 kit contain...</td>\n",
       "      <td>many test kits box mant times test water sever...</td>\n",
       "      <td>[B00797TR56, B007K1NT82, B00B9DZLAG]</td>\n",
       "      <td>0</td>\n",
       "    </tr>\n",
       "    <tr>\n",
       "      <th>...</th>\n",
       "      <td>...</td>\n",
       "      <td>...</td>\n",
       "      <td>...</td>\n",
       "      <td>...</td>\n",
       "      <td>...</td>\n",
       "    </tr>\n",
       "    <tr>\n",
       "      <th>1148</th>\n",
       "      <td>B00J39MKMA</td>\n",
       "      <td>haul away old appliances particular delivery c...</td>\n",
       "      <td>dimensions overall width 27 overall depth 29 3...</td>\n",
       "      <td>[B0058JRXYE, B008BVX4QC, B006O7BPE8]</td>\n",
       "      <td>0</td>\n",
       "    </tr>\n",
       "    <tr>\n",
       "      <th>1149</th>\n",
       "      <td>B00JJZBHK4</td>\n",
       "      <td>hello amis warranty manufacturer repair return...</td>\n",
       "      <td>many pieces clothes put washer videos washer s...</td>\n",
       "      <td>[B00HZRJVCO, B00CDWTQKI, B005GM942C]</td>\n",
       "      <td>0</td>\n",
       "    </tr>\n",
       "    <tr>\n",
       "      <th>1150</th>\n",
       "      <td>B00KJ07SEM</td>\n",
       "      <td>filter made filter assembled iso 9001 quality ...</td>\n",
       "      <td>name manufacturer waterfall show nsf42 nsf53 c...</td>\n",
       "      <td>[B000GAQFPS, B0006MQCA4, B0073B0YBO]</td>\n",
       "      <td>0</td>\n",
       "    </tr>\n",
       "    <tr>\n",
       "      <th>1151</th>\n",
       "      <td>B00KX3M1LA</td>\n",
       "      <td>see two model numbers lyric anyone tell difere...</td>\n",
       "      <td>two lyric thermostats coexist home e multiple ...</td>\n",
       "      <td>[B005Y29KL4, B009NWOUG6, B00GJ2EZQ8]</td>\n",
       "      <td>0</td>\n",
       "    </tr>\n",
       "    <tr>\n",
       "      <th>1152</th>\n",
       "      <td>B00L07RWJE</td>\n",
       "      <td>contaminants filter woder 5k inline water filt...</td>\n",
       "      <td>anyone used firgidaire refrigerator cant imagi...</td>\n",
       "      <td>[B007RE55G6, B004MCC68G, B003DA62T2]</td>\n",
       "      <td>0</td>\n",
       "    </tr>\n",
       "  </tbody>\n",
       "</table>\n",
       "<p>1153 rows × 5 columns</p>\n",
       "</div>"
      ],
      "text/plain": [
       "           label                                              train  \\\n",
       "0     B00004U9JO  power cord included plug disposal unit ttok mi...   \n",
       "1     B00004U9JP  model number may help insinkerator model badge...   \n",
       "2     B00004W4UJ  electic stove varying sizes burners mentioned ...   \n",
       "3     B00004W4UK  electic stove varying sizes burners mentioned ...   \n",
       "4     B00005AUHX  many strips come kit need least 12 kit contain...   \n",
       "...          ...                                                ...   \n",
       "1148  B00J39MKMA  haul away old appliances particular delivery c...   \n",
       "1149  B00JJZBHK4  hello amis warranty manufacturer repair return...   \n",
       "1150  B00KJ07SEM  filter made filter assembled iso 9001 quality ...   \n",
       "1151  B00KX3M1LA  see two model numbers lyric anyone tell difere...   \n",
       "1152  B00L07RWJE  contaminants filter woder 5k inline water filt...   \n",
       "\n",
       "                                                   test  \\\n",
       "0     badger 5 leaking water bottom near reset botto...   \n",
       "1     9 year old badger 1 needs replacing badger 1 i...   \n",
       "2     burner plates electric glass cooktops burner p...   \n",
       "3     burner plates electric glass cooktops burner p...   \n",
       "4     many test kits box mant times test water sever...   \n",
       "...                                                 ...   \n",
       "1148  dimensions overall width 27 overall depth 29 3...   \n",
       "1149  many pieces clothes put washer videos washer s...   \n",
       "1150  name manufacturer waterfall show nsf42 nsf53 c...   \n",
       "1151  two lyric thermostats coexist home e multiple ...   \n",
       "1152  anyone used firgidaire refrigerator cant imagi...   \n",
       "\n",
       "                                      pred  score  \n",
       "0     [B00004U9JP, B00004U9JO, B008M2IPBE]      1  \n",
       "1     [B001B4E0VY, B00004U9JP, B000BQOWES]      1  \n",
       "2     [B004MLTDBU, B005HYW4M6, B00004W4UK]      0  \n",
       "3     [B004MLTDBU, B005HYW4M6, B00004W4UK]      1  \n",
       "4     [B00797TR56, B007K1NT82, B00B9DZLAG]      0  \n",
       "...                                    ...    ...  \n",
       "1148  [B0058JRXYE, B008BVX4QC, B006O7BPE8]      0  \n",
       "1149  [B00HZRJVCO, B00CDWTQKI, B005GM942C]      0  \n",
       "1150  [B000GAQFPS, B0006MQCA4, B0073B0YBO]      0  \n",
       "1151  [B005Y29KL4, B009NWOUG6, B00GJ2EZQ8]      0  \n",
       "1152  [B007RE55G6, B004MCC68G, B003DA62T2]      0  \n",
       "\n",
       "[1153 rows x 5 columns]"
      ]
     },
     "execution_count": 13,
     "metadata": {},
     "output_type": "execute_result"
    }
   ],
   "source": [
    "data"
   ]
  },
  {
   "cell_type": "code",
   "execution_count": 14,
   "metadata": {},
   "outputs": [
    {
     "data": {
      "text/plain": [
       "0.1647875108412836"
      ]
     },
     "execution_count": 14,
     "metadata": {},
     "output_type": "execute_result"
    }
   ],
   "source": [
    "accuracy = data.score.sum() / data.score.count()\n",
    "accuracy"
   ]
  },
  {
   "cell_type": "code",
   "execution_count": null,
   "metadata": {},
   "outputs": [],
   "source": []
  }
 ],
 "metadata": {
  "kernelspec": {
   "display_name": "Python 3.7 (torch)",
   "language": "python",
   "name": "torch"
  },
  "language_info": {
   "codemirror_mode": {
    "name": "ipython",
    "version": 3
   },
   "file_extension": ".py",
   "mimetype": "text/x-python",
   "name": "python",
   "nbconvert_exporter": "python",
   "pygments_lexer": "ipython3",
   "version": "3.7.9"
  }
 },
 "nbformat": 4,
 "nbformat_minor": 4
}
